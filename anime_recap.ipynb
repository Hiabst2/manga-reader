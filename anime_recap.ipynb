{
 "cells": [
  {
   "cell_type": "code",
   "execution_count": 371,
   "id": "df8dec17-bddc-409a-8610-c0ab1a57ed15",
   "metadata": {},
   "outputs": [
    {
     "data": {
      "text/plain": [
       "True"
      ]
     },
     "execution_count": 371,
     "metadata": {},
     "output_type": "execute_result"
    }
   ],
   "source": [
    "from dotenv import load_dotenv\n",
    "from openai import OpenAI\n",
    "from elevenlabs.client import AsyncElevenLabs\n",
    "import asyncio\n",
    "import json\n",
    "import os\n",
    "import argparse\n",
    "import concurrent.futures\n",
    "\n",
    "from manga_extraction import extract_all_pages_as_images, save_important_pages, split_volume_into_parts, save_all_pages, extract_panels, scale_base64_image\n",
    "from vision_analysis import analyze_images_with_gpt4_vision, detect_important_pages, get_important_panels, VISION_PRICE_PER_TOKEN \n",
    "from prompts import DRAMATIC_PROMPT, BASIC_PROMPT, BASIC_PROMPT_WITH_CONTEXT,  BASIC_INSTRUCTIONS, KEY_PAGE_IDENTIFICATION_INSTRUCTIONS, KEY_PANEL_IDENTIFICATION_PROMPT, KEY_PANEL_IDENTIFICATION_INSTRUCTIONS\n",
    "from citation_processing import extract_text_and_citations, extract_script\n",
    "from movie_director import make_movie\n",
    "load_dotenv()  # Load environment variables from .env file"
   ]
  },
  {
   "cell_type": "code",
   "execution_count": 372,
   "id": "cca43991-2e27-4c95-9a6f-f2974e0b6662",
   "metadata": {},
   "outputs": [],
   "source": [
    "volume_number = 10\n",
    "manga = \"naruto\""
   ]
  },
  {
   "cell_type": "code",
   "execution_count": 373,
   "id": "12bbe703-0967-473f-b58c-663e05afabd2",
   "metadata": {},
   "outputs": [
    {
     "name": "stdout",
     "output_type": "stream",
     "text": [
      "Extracting all pages from the volume...\n",
      "Total pages in volume: 177\n"
     ]
    }
   ],
   "source": [
    "# Initialize OpenAI client with API key\n",
    "client = OpenAI()\n",
    "# get elevenlabs api key from dotenv\n",
    "narration_client = AsyncElevenLabs(api_key=os.getenv(\"ELEVENLABS_API_KEY\"))\n",
    "\n",
    "print(\"Extracting all pages from the volume...\")\n",
    "volume_scaled_and_unscaled = extract_all_pages_as_images(f\"{manga}/v{volume_number}/v{volume_number}.pdf\")\n",
    "volume = volume_scaled_and_unscaled[\"scaled\"]\n",
    "volume_unscaled = volume_scaled_and_unscaled[\"full\"]\n",
    "print(\"Total pages in volume:\", len(volume))"
   ]
  },
  {
   "cell_type": "code",
   "execution_count": 374,
   "id": "4c35d189-d3d8-445e-ad4d-dc94060b4ea9",
   "metadata": {},
   "outputs": [
    {
     "name": "stdout",
     "output_type": "stream",
     "text": [
      "Identifying important pages in the volume...\n",
      "Using GPT as a backup to format JSON object...\n",
      "Processing pages 160 to 176\n",
      "[]\n",
      "Using GPT as a backup to format JSON object...\n",
      "Processing pages 60 to 79\n",
      "[\n",
      "  {\n",
      "    \"image_index\": 5,\n",
      "    \"type\": \"chapter\"\n",
      "  }\n",
      "]\n",
      "Using GPT as a backup to format JSON object...\n",
      "Using GPT as a backup to format JSON object...\n",
      "Using GPT as a backup to format JSON object...\n",
      "Processing pages 80 to 99\n",
      "[\n",
      "  {\n",
      "    \"image_index\": 6,\n",
      "    \"type\": \"chapter\"\n",
      "  }\n",
      "]\n",
      "Using GPT as a backup to format JSON object...\n",
      "Processing pages 120 to 139\n",
      "[\n",
      "  {\n",
      "    \"image_index\": 18,\n",
      "    \"type\": \"chapter\"\n",
      "  }\n",
      "]\n",
      "Processing pages 20 to 39\n",
      "[\n",
      "  {\n",
      "    \"image_index\": 7,\n",
      "    \"type\": \"chapter\"\n",
      "  }\n",
      "]\n",
      "Processing pages 40 to 59\n",
      "[\n",
      "  {\n",
      "    \"image_index\": 5,\n",
      "    \"type\": \"chapter\"\n",
      "  }\n",
      "]\n",
      "Using GPT as a backup to format JSON object...\n",
      "Using GPT as a backup to format JSON object...\n",
      "Processing pages 140 to 159\n",
      "[\n",
      "  {\n",
      "    \"image_index\": 18,\n",
      "    \"type\": \"chapter\"\n",
      "  }\n",
      "]\n",
      "Using GPT as a backup to format JSON object...\n",
      "Processing pages 100 to 119\n",
      "[\n",
      "  {\n",
      "    \"image_index\": 1,\n",
      "    \"type\": \"chapter\"\n",
      "  },\n",
      "  {\n",
      "    \"image_index\": 19,\n",
      "    \"type\": \"chapter\"\n",
      "  }\n",
      "]\n",
      "Processing pages 0 to 19\n",
      "[\n",
      "  {\n",
      "    \"image_index\": 4,\n",
      "    \"type\": \"profile\"\n",
      "  },\n",
      "  {\n",
      "    \"image_index\": 5,\n",
      "    \"type\": \"profile\"\n",
      "  },\n",
      "  {\n",
      "    \"image_index\": 7,\n",
      "    \"type\": \"chapter\"\n",
      "  }\n",
      "]\n",
      "Total tokens to extract profiles and chapters: 30961\n",
      "\n",
      "__________\n",
      "\n",
      "Profile pages: [4, 5]\n",
      "Chapter pages: [7, 27, 45, 65, 86, 101, 119, 138, 158]\n"
     ]
    }
   ],
   "source": [
    "profile_reference = extract_all_pages_as_images(f\"{manga}/profile-reference.pdf\")[\"scaled\"]\n",
    "chapter_reference = extract_all_pages_as_images(f\"{manga}/chapter-reference.pdf\")[\"scaled\"]\n",
    "\n",
    "profile_pages = []\n",
    "chapter_pages = [] \n",
    "\n",
    "important_page_tokens = 0\n",
    "\n",
    "batch_size = 20\n",
    "\n",
    "print(\"Identifying important pages in the volume...\")\n",
    "# Function to wrap the detect_important_pages call\n",
    "def process_batch(start_idx, pages):\n",
    "    response = detect_important_pages(profile_reference, chapter_reference, pages, client,\n",
    "        KEY_PAGE_IDENTIFICATION_INSTRUCTIONS, KEY_PAGE_IDENTIFICATION_INSTRUCTIONS)\n",
    "    return start_idx, response\n",
    "\n",
    "# Using ThreadPoolExecutor to parallelize API calls\n",
    "with concurrent.futures.ThreadPoolExecutor() as executor:\n",
    "    futures = []\n",
    "    for i in range(0, len(volume), batch_size):\n",
    "        pages = volume[i:i+batch_size]\n",
    "        futures.append(executor.submit(process_batch, i, pages))\n",
    "\n",
    "    for future in concurrent.futures.as_completed(futures):\n",
    "        start_idx, response = future.result()\n",
    "        end_index = start_idx + batch_size - 1\n",
    "        print(f\"Processing pages {start_idx} to {min(end_index, len(volume)-1)}\")\n",
    "        \n",
    "        ip = response[\"parsed_response\"]\n",
    "        print(json.dumps(ip, indent=2))\n",
    "        for page in ip:\n",
    "            if page[\"type\"] == \"profile\":\n",
    "                profile_pages.append(page[\"image_index\"] + start_idx)\n",
    "            elif page[\"type\"] == \"chapter\":\n",
    "                chapter_pages.append(page[\"image_index\"] + start_idx)\n",
    "\n",
    "        important_page_tokens += response[\"total_tokens\"]\n",
    "\n",
    "profile_pages.sort()\n",
    "chapter_pages.sort()\n",
    "\n",
    "print(\"Total tokens to extract profiles and chapters:\", important_page_tokens)\n",
    "print(\"\\n__________\\n\")\n",
    "print(\"Profile pages:\", profile_pages)\n",
    "print(\"Chapter pages:\", chapter_pages)"
   ]
  },
  {
   "cell_type": "code",
   "execution_count": 375,
   "id": "780436d6-8bdc-4b04-a11d-348eb9638225",
   "metadata": {},
   "outputs": [
    {
     "name": "stdout",
     "output_type": "stream",
     "text": [
      "177\n",
      "\n",
      "__________\n",
      "\n",
      "Saving important pages to disk for QA...\n"
     ]
    }
   ],
   "source": [
    "print(f\"{len(volume)}\")\n",
    "print(\"\\n__________\\n\")\n",
    "print(\"Saving important pages to disk for QA...\")\n",
    "save_important_pages(volume, profile_pages, chapter_pages, manga, volume_number)"
   ]
  },
  {
   "cell_type": "code",
   "execution_count": 377,
   "id": "21d4ac09",
   "metadata": {},
   "outputs": [
    {
     "name": "stdout",
     "output_type": "stream",
     "text": [
      "7->27\n",
      "28->45\n",
      "46->65\n",
      "66->86\n",
      "87->119\n",
      "120->138\n",
      "139->end (177)\n",
      "\n",
      "\n",
      "\n",
      "_____________\n",
      "\n",
      "\n",
      "\n",
      "In the heat of the Chunin Exam finals, Rock Lee stands firm against the daunting Gaara. The observers underestimate Lee, not knowing \"he's stronger than you think\" [^2]. As the match commences, Lee's initial attacks, including his \"Konoha Hurricane,\" are effortlessly countered by Gaara's defensive sand [^4]. The sand's relentless defense bewilders Lee's supporters, with even the prodigious Neji noting that \"not even his moves are visible\" [^7].\n",
      "\n",
      "Spectators begin to realize Gaara's sand is not merely defensive but \"a shield independent of Gaara's will\" [^8]. This autonomous defense renders Lee's taijutsu ineffective, leading to astonishment as Gaara boasts \"no one has ever wounded me\" [^8]. Amidst the fight, a crucial revelation hits—Lee is solely a taijutsu specialist, lacking ninjutsu and genjutsu abilities, a fact met with disbelief by onlookers [^9].\n",
      "\n",
      "In an unexpected move, Lee's mentor, Might Guy, permits him to remove his training weights. Cast aside, the weights hit the ground with a resounding boom, signaling the unleashing of Lee's true speed [^14]. Renewed, Lee blitzes Gaara with an intensity that leaves the crowd and his adversary shocked, proving that \"when it comes to speed, Lee is unsurpassed\" [^18][^19].\n",
      "\n",
      "With relentless ferocity, Lee's blows begin to penetrate Gaara's \"ultimate defense,\" creating a spectacle that has the audience and his opponents on edge, as the possibility looms that this shield might actually crumble [^20][^22][^24]. Lee's display of raw determination and unyielded spirit against Gaara's seemingly impenetrable defense turns the match into a clash of wills that shakes the foundation of the arena.\n",
      "\n",
      "\n",
      "\n",
      "_____________\n",
      "\n",
      "\n",
      "\n",
      "Rock Lee, the underdog with the unwavering spirit, faces off against the stoic Gaara, whose sand armor appears impenetrable. As the fight intensifies, Lee's dedication to his craft is evident: \"Bushy Brows is getting even faster!\" his comrades exclaim in awe [^1]. With each strike, Lee's speed escalates to the point where \"his moves are so fast even my eyes can't track them!\" according to shocked onlookers [^3].\n",
      "\n",
      "The tide begins to turn when Lee's mentor, Might Guy, recalls a crucial detail about Gaara's defense: \"The sand shield is the same substance of his body. Some hits should be going through!\" [^6]. This revelation sparks hope, and Lee capitalizes on it with unrivaled velocity, forcing Gaara to grimace in pain from the assault [^5].\n",
      "\n",
      "Knowing that brute strength won't be enough, Lee prepares his ace—'The Lotus' technique. Warned of its risks, Lee is determined: \"My only shot is to put everything I have into one final lotus of destruction!\" [^10]. Unleashing the move, Lee propels Gaara into the air [^11] and then down with devastating force, shaking the arena as he roars, \"Primary Lotus!!\" [^15]. \n",
      "\n",
      "The dust settles, and for a moment it seems that Lee has defied the odds, prompting questions like \"Do you think he's dead?\" from the crowd [^16]. However, as the sand begins to clear, the impossible becomes evident: Gaara, though battered, stands unbroken. Lee's determination and his powerful technique fall short, leaving onlookers in disbelief as Gaara's monstrous resilience declares, \"It's fully awakened now...\" [^18]. This cliffhanger moment marks a pivotal point in the battle of wills, with the Genius of Hard Work versus the cruel might of Gaara's sand.\n",
      "\n",
      "\n",
      "\n",
      "_____________\n",
      "\n",
      "\n",
      "\n",
      "In the wake of a fierce battle, Rock Lee's unfaltering determination is laid bare. Despite his valiant efforts and the unleashing of his secret technique, Lee collapses, his body reaching its limits, as Gaara ominously concludes, \"It's fully awakened now\" [^4]. The crowd looks on, the shock clear in their eyes, while Gaara's power looms larger than ever.\n",
      "\n",
      "Amidst the tense aftermath, the narrative takes a poignant detour into Lee's past. Young Rock Lee, a genin bursting with ambition but devoid of ninjutsu and genjutsu skills, commits himself to the grueling path of taijutsu under the stern yet caring tutelage of Might Guy. Flashbacks reveal Lee's grueling training regimen, his relentless spirit echoed in Guy's words: \"If you do this 500 times, I'll recognize you as a ninja...\" [^9]. The hardships Lee endured, including endless push-ups and heart-wrenching setbacks, paint a picture of a boy clinging to a single, unyielding belief—hard work can outshine natural talent.\n",
      "\n",
      "Back in the present, Lee, driven by sheer willpower, forces himself back up to continue the fight, his actions leaving the audience and his sensei visibly moved [^15]. Guy reflects on Lee's journey, proudly affirming, \"You did good, Lee... You're already a splendid ninja\" [^14]. This declaration of pride highlights Lee's unwavering dedication to his dreams, despite the harsh odds stacked against him.\n",
      "\n",
      "In an act of sheer resilience, Lee stands once more, embodying the spirit of the \"lotus that blooms twice,\" ready to face his formidable opponent head-on, further solidifying his reputation as 'The Genius of Hard Work' [^17][^18]. As he prepares to strike, the chapter closes on a cliffhanger, leaving readers to ponder the outcome of a battle where the unquenchable human spirit clashes with implacable, otherworldly power.\n",
      "\n",
      "\n",
      "\n",
      "_____________\n",
      "\n",
      "\n",
      "\n",
      "As the decisive moment approaches, tension grips the air. Rock Lee's strength wanes, yet he bravely chooses to move forward, unlocking the Fifth Gate—\"The gate... of closing!\" [^10]. The crowd watches, stunned, as Lee harnesses this forbidden power, \"a nice surprise... don't disappoint that kid, Bushy Brows!\" whispers his concerned mentor, Might Guy [^6]. \n",
      "\n",
      "But the path Lee treads is fraught with danger. Gaara stands, seemingly an unassailable fortress, as the sands swirl ominously around him. In desperation, Lee unveils his ultimate technique, \"Reverse Lotus!\" [^13]. With blinding speed, he strikes, the force echoing through the stadium, leaving everyone gasping, \"He's fast!\" [^12]. \n",
      "\n",
      "Despite the display of sheer might, the outcome is grim. Gaara's defense holds, sand cocooning around him, leaving Lee to crumble, his body broken by the strain of his own attack. The stark reality looms over the arena—\"The Sand Armor appeared again...\" [^15]. \n",
      "\n",
      "Yet, even as he falls, Lee's shinobi spirit refuses to waver. \"This is the end!!\" he declares, mustering all that remains in an astonishing move, opening \"The Fifth Gate... Gate of Life!\" [^16]. The impact of his unyielding resolve resounds, a testament to his \"shinobi way\" [^10].\n",
      "\n",
      "In a breathtaking finale, the Reverse Lotus crashes down upon Gaara, a masterstroke potent enough to crack the very foundation, a thunderous blow that marks Lee's undying determination. Witnesses are left speechless, their eyes wide with a mix of horror and admiration [^19]. But as the dust settles, the grim outcome of Lee's gambit is revealed, the price of tapping into such depths of power—a splendid ninja, lying amidst the ruins of his own might [^20].\n",
      "\n",
      "\n",
      "\n",
      "_____________\n",
      "\n",
      "\n",
      "\n",
      "In a stunning display of power and resilience, Rock Lee's fight against Gaara comes to a crushing end. Lee's explosive techniques, the reverberating \"KABOOM\" of his movements, are not enough to break through Gaara's defenses[^1][^2]. Gaara's sand, a shield of its own accord, grips Lee in its \"Sabaku Kyu: The Coffin of Crushing Sand!\" effectively turning the tide of the battle[^3][^4].\n",
      "\n",
      "Despite Lee's valiant efforts, his body fails to endure the immense strain. Gaara declares victory with his unscathed visage, but Lee, ever determined, refuses to acknowledge defeat, standing once more with unbreakable spirit[^5][^6]. His mentor, Might Guy, intervenes before Lee harms himself further, catching his pupil in a supportive embrace. Guy's eyes, brimming with pride, reflect on Lee's courage and steadfastness, \"You're incredible kid...\" he whispers in admiration[^7][^8].\n",
      "\n",
      "The crowd is conflicted, witnessing both Lee's admirable perseverance and the painful conclusion of his ambition. Gaara stands victorious, yet the onlookers are left to ponder the true nature of strength[^9][^10]. Guy reaffirms Lee's worth, cradling him closely, \"Lee... you are already... a splendid ninja!\" a testament to the respect earned through sheer effort[^11][^12][^13].\n",
      "\n",
      "The aftermath of the battle sets a somber tone, as medical attention is swiftly sought for Lee's battered form. His rivals and friends alike can only watch in silence; the testament to Lee's spirit is echoed in their hushed voices[^14][^15]. Guy solemnly reflects on the sacrifice—Lee's dream sustained at a grievous cost. Naruto, moved by Lee's dedication, resolves to remember his fellow ninja's resolve[^16][^17].\n",
      "\n",
      "As the crowd disperses, the focus shifts to the remaining contenders, with the tension around Sasuke's absence palpable. The Chuunin Exam's preliminaries reach their climax without one of its most anticipated contenders, leaving questions and concerns hanging in the air[^18][^19][^20].\n",
      "\n",
      "\n",
      "\n",
      "_____________\n",
      "\n",
      "\n",
      "\n",
      "After the intensity of the Chunin Exam finals, the scene shifts to a calmer setting where the announcement is made that despite numerous formidable contenders, only one ninja, Neji, passed the exam[^1]. Concerns are raised among comrades about Sasuke's condition, with Naruto declaring, \"It's all up to Sasuke now\" in a somber acknowledgment of his teammate's uncertain fate[^2].\n",
      "\n",
      "As the dust settles, the village returns to a peaceful rhythm with Konohamaru and his friends plotting their next moves while Iruka reflects on the completed exams[^4]. Orochimaru, in the guise of the Kazekage, postulates with Sasuke's older brother Itachi about the events that have transpired, alluding to Itachi's true mission involving the Akatsuki[^6].\n",
      "\n",
      "Their cryptic conversation unfolds, revealing glimpses of the larger turmoil brewing beyond the exam's facade, with Itachi's chilling intent—\"To remind you that strength requires the ruthlessness to be cold\" — as he departs with his companion Kisame[^8]. Meanwhile, Kakashi acknowledges Sasuke's growth, but admits to a nagging concern over Naruto's safety, which is echoed in Jiraiya's more pressing warning about the intentions of Orochimaru^[^9][^10].\n",
      "\n",
      "As the day comes to a close, the proctor reflects on the necessity to push the finalists through a month of intense training before they can face their ultimate test[^14]. Night falls, and we glimpse a shadowy figure training, igniting speculation—is it Sasuke honing his skills, driven by relentless ambition?[^15]\n",
      "\n",
      "In a secretive clash, Kabuto and Baki engage in a concealed confrontation that ends with Kabuto's retreat, leaving Baki to ponder the strategic intricacies of his hidden opponents[^16]. The chapter concludes with Kakashi and Kabuto coming face-to-face, an electrifying tension crackling between them as Kabuto makes a sly departure, leaving Kakashi pondering the young ninja's enigmatic true nature[^17].\n",
      "\n",
      "\n",
      "\n",
      "_____________\n",
      "\n",
      "\n",
      "\n",
      "In the aftermath of Rock Lee's gripping battle, a determined Naruto visits his hospitalized teammates. Upon encountering a seemingly dismissive Jiraiya, Naruto's indignation boils over until Jiraiya reveals himself as the Sannin who will oversee Naruto's training. Meanwhile, Kabuto and Baki's shadowy exchange hints at deeper, more sinister plots brewing in the background[^1][^2][^3].\n",
      "\n",
      "Naruto's training begins under Jiraiya's eccentric guidance, starting with a seemingly simple but profound lesson: mastering the control of one's chakra. Jiraiya elucidates the concept with diagrams, demonstrating the delicate balance required between physical and spiritual energy. Naruto, eager yet unskilled, struggles to grasp the subtle art, comparing unfavorably to his peer Sasuke's more advanced control[^4][^5][^6].\n",
      "\n",
      "The training shifts to a hands-on approach, with Naruto's first task being to walk on water. Despite several humorous mishaps, Naruto's commitment to becoming Hokage drives him to overcome the challenge, showcasing the inspiring determination that defines his character[^7][^8][^9].\n",
      "\n",
      "The climax of this training sequence comes when Jiraiya forces Naruto to confront the extraordinary power of the Nine-Tails fox sealed within him. In a dramatic turn, Naruto finds himself grappling with the monster in his psyche. Jiraiya's methods push Naruto to the brink, bringing forth the immense, untamed chakra of the Nine-Tails as a true test of willpower and control[^10][^11][^12].\n",
      "\n",
      "As Naruto wrangles with this internal beast, Jiraiya's unorthodox approach reveals a deeper wisdom. Naruto's aspiration to harness the Nine-Tails' power hints at a potential untapped strength that could change the course of his destiny. This intense training arc leaves readers eager for the next chapter, where Naruto's evolution as a ninja promises to unfold further[^13][^14][^15].\n",
      "\n",
      "\n",
      "\n",
      "_____________\n",
      "\n",
      "\n",
      "\n",
      "\n",
      "\n",
      "\n",
      "_____________\n",
      "\n",
      "\n",
      "\n",
      "\n",
      "\n",
      "\n",
      "_____________\n",
      "\n",
      "\n",
      "\n",
      "In the heat of the Chunin Exam finals, Rock Lee stands firm against the daunting Gaara. The observers underestimate Lee, not knowing \"he's stronger than you think\".As the match commences, Lee's initial attacks, including his \"Konoha Hurricane,\" are effortlessly countered by Gaara's defensive sand.The sand's relentless defense bewilders Lee's supporters, with even the prodigious Neji noting that \"not even his moves are visible\".Spectators begin to realize Gaara's sand is not merely defensive but \"a shield independent of Gaara's will\".This autonomous defense renders Lee's taijutsu ineffective, leading to astonishment as Gaara boasts \"no one has ever wounded me\".Amidst the fight, a crucial revelation hits—Lee is solely a taijutsu specialist, lacking ninjutsu and genjutsu abilities, a fact met with disbelief by onlookers.In an unexpected move, Lee's mentor, Might Guy, permits him to remove his training weights. Cast aside, the weights hit the ground with a resounding boom, signaling the unleashing of Lee's true speed.Renewed, Lee blitzes Gaara with an intensity that leaves the crowd and his adversary shocked, proving that \"when it comes to speed, Lee is unsurpassed\".With relentless ferocity, Lee's blows begin to penetrate Gaara's \"ultimate defense,\" creating a spectacle that has the audience and his opponents on edge, as the possibility looms that this shield might actually crumble. Lee's display of raw determination and unyielded spirit against Gaara's seemingly impenetrable defense turns the match into a clash of wills that shakes the foundation of the arena.Rock Lee, the underdog with the unwavering spirit, faces off against the stoic Gaara, whose sand armor appears impenetrable. As the fight intensifies, Lee's dedication to his craft is evident: \"Bushy Brows is getting even faster!\" his comrades exclaim in awe.With each strike, Lee's speed escalates to the point where \"his moves are so fast even my eyes can't track them!\" according to shocked onlookers.The tide begins to turn when Lee's mentor, Might Guy, recalls a crucial detail about Gaara's defense: \"The sand shield is the same substance of his body. Some hits should be going through!\".This revelation sparks hope, and Lee capitalizes on it with unrivaled velocity, forcing Gaara to grimace in pain from the assault.Knowing that brute strength won't be enough, Lee prepares his ace—'The Lotus' technique. Warned of its risks, Lee is determined: \"My only shot is to put everything I have into one final lotus of destruction!\".Unleashing the move, Lee propels Gaara into the airand then down with devastating force, shaking the arena as he roars, \"Primary Lotus!!\".The dust settles, and for a moment it seems that Lee has defied the odds, prompting questions like \"Do you think he's dead?\" from the crowd. However, as the sand begins to clear, the impossible becomes evident: Gaara, though battered, stands unbroken. Lee's determination and his powerful technique fall short, leaving onlookers in disbelief as Gaara's monstrous resilience declares, \"It's fully awakened now...\". This cliffhanger moment marks a pivotal point in the battle of wills, with the Genius of Hard Work versus the cruel might of Gaara's sand.In the wake of a fierce battle, Rock Lee's unfaltering determination is laid bare. Despite his valiant efforts and the unleashing of his secret technique, Lee collapses, his body reaching its limits, as Gaara ominously concludes, \"It's fully awakened now\".The crowd looks on, the shock clear in their eyes, while Gaara's power looms larger than ever.\n",
      "\n",
      "Amidst the tense aftermath, the narrative takes a poignant detour into Lee's past. Young Rock Lee, a genin bursting with ambition but devoid of ninjutsu and genjutsu skills, commits himself to the grueling path of taijutsu under the stern yet caring tutelage of Might Guy. Flashbacks reveal Lee's grueling training regimen, his relentless spirit echoed in Guy's words: \"If you do this 500 times, I'll recognize you as a ninja...\".The hardships Lee endured, including endless push-ups and heart-wrenching setbacks, paint a picture of a boy clinging to a single, unyielding belief—hard work can outshine natural talent.\n",
      "\n",
      "Back in the present, Lee, driven by sheer willpower, forces himself back up to continue the fight, his actions leaving the audience and his sensei visibly moved.Guy reflects on Lee's journey, proudly affirming, \"You did good, Lee... You're already a splendid ninja\".This declaration of pride highlights Lee's unwavering dedication to his dreams, despite the harsh odds stacked against him.\n",
      "\n",
      "In an act of sheer resilience, Lee stands once more, embodying the spirit of the \"lotus that blooms twice,\" ready to face his formidable opponent head-on, further solidifying his reputation as 'The Genius of Hard Work'.As he prepares to strike, the chapter closes on a cliffhanger, leaving readers to ponder the outcome of a battle where the unquenchable human spirit clashes with implacable, otherworldly power.As the decisive moment approaches, tension grips the air. Rock Lee's strength wanes, yet he bravely chooses to move forward, unlocking the Fifth Gate—\"The gate... of closing!\".The crowd watches, stunned, as Lee harnesses this forbidden power, \"a nice surprise... don't disappoint that kid, Bushy Brows!\" whispers his concerned mentor, Might Guy.But the path Lee treads is fraught with danger. Gaara stands, seemingly an unassailable fortress, as the sands swirl ominously around him. In desperation, Lee unveils his ultimate technique, \"Reverse Lotus!\".With blinding speed, he strikes, the force echoing through the stadium, leaving everyone gasping, \"He's fast!\".Despite the display of sheer might, the outcome is grim. Gaara's defense holds, sand cocooning around him, leaving Lee to crumble, his body broken by the strain of his own attack. The stark reality looms over the arena—\"The Sand Armor appeared again...\".Yet, even as he falls, Lee's shinobi spirit refuses to waver. \"This is the end!!\" he declares, mustering all that remains in an astonishing move, opening \"The Fifth Gate... Gate of Life!\".The impact of his unyielding resolve resounds, a testament to his \"shinobi way\".In a breathtaking finale, the Reverse Lotus crashes down upon Gaara, a masterstroke potent enough to crack the very foundation, a thunderous blow that marks Lee's undying determination. Witnesses are left speechless, their eyes wide with a mix of horror and admiration.But as the dust settles, the grim outcome of Lee's gambit is revealed, the price of tapping into such depths of power—a splendid ninja, lying amidst the ruins of his own might.In a stunning display of power and resilience, Rock Lee's fight against Gaara comes to a crushing end. Lee's explosive techniques, the reverberating \"KABOOM\" of his movements, are not enough to break through Gaara's defenses.Gaara's sand, a shield of its own accord, grips Lee in its \"Sabaku Kyu: The Coffin of Crushing Sand!\" effectively turning the tide of the battle.Despite Lee's valiant efforts, his body fails to endure the immense strain. Gaara declares victory with his unscathed visage, but Lee, ever determined, refuses to acknowledge defeat, standing once more with unbreakable spirit.His mentor, Might Guy, intervenes before Lee harms himself further, catching his pupil in a supportive embrace. Guy's eyes, brimming with pride, reflect on Lee's courage and steadfastness, \"You're incredible kid...\" he whispers in admiration.The crowd is conflicted, witnessing both Lee's admirable perseverance and the painful conclusion of his ambition. Gaara stands victorious, yet the onlookers are left to ponder the true nature of strength.Guy reaffirms Lee's worth, cradling him closely, \"Lee... you are already... a splendid ninja!\" a testament to the respect earned through sheer effort.The aftermath of the battle sets a somber tone, as medical attention is swiftly sought for Lee's battered form. His rivals and friends alike can only watch in silence; the testament to Lee's spirit is echoed in their hushed voices.Guy solemnly reflects on the sacrifice—Lee's dream sustained at a grievous cost. Naruto, moved by Lee's dedication, resolves to remember his fellow ninja's resolve.As the crowd disperses, the focus shifts to the remaining contenders, with the tension around Sasuke's absence palpable. The Chuunin Exam's preliminaries reach their climax without one of its most anticipated contenders, leaving questions and concerns hanging in the air.After the intensity of the Chunin Exam finals, the scene shifts to a calmer setting where the announcement is made that despite numerous formidable contenders, only one ninja, Neji, passed the exam.Concerns are raised among comrades about Sasuke's condition, with Naruto declaring, \"It's all up to Sasuke now\" in a somber acknowledgment of his teammate's uncertain fate.As the dust settles, the village returns to a peaceful rhythm with Konohamaru and his friends plotting their next moves while Iruka reflects on the completed exams.Orochimaru, in the guise of the Kazekage, postulates with Sasuke's older brother Itachi about the events that have transpired, alluding to Itachi's true mission involving the Akatsuki.Their cryptic conversation unfolds, revealing glimpses of the larger turmoil brewing beyond the exam's facade, with Itachi's chilling intent—\"To remind you that strength requires the ruthlessness to be cold\" — as he departs with his companion Kisame.Meanwhile, Kakashi acknowledges Sasuke's growth, but admits to a nagging concern over Naruto's safety, which is echoed in Jiraiya's more pressing warning about the intentions of Orochimaru.As the day comes to a close, the proctor reflects on the necessity to push the finalists through a month of intense training before they can face their ultimate test.Night falls, and we glimpse a shadowy figure training, igniting speculation—is it Sasuke honing his skills, driven by relentless ambition?In a secretive clash, Kabuto and Baki engage in a concealed confrontation that ends with Kabuto's retreat, leaving Baki to ponder the strategic intricacies of his hidden opponents.The chapter concludes with Kakashi and Kabuto coming face-to-face, an electrifying tension crackling between them as Kabuto makes a sly departure, leaving Kakashi pondering the young ninja's enigmatic true nature.In the aftermath of Rock Lee's gripping battle, a determined Naruto visits his hospitalized teammates. Upon encountering a seemingly dismissive Jiraiya, Naruto's indignation boils over until Jiraiya reveals himself as the Sannin who will oversee Naruto's training. Meanwhile, Kabuto and Baki's shadowy exchange hints at deeper, more sinister plots brewing in the background.Naruto's training begins under Jiraiya's eccentric guidance, starting with a seemingly simple but profound lesson: mastering the control of one's chakra. Jiraiya elucidates the concept with diagrams, demonstrating the delicate balance required between physical and spiritual energy. Naruto, eager yet unskilled, struggles to grasp the subtle art, comparing unfavorably to his peer Sasuke's more advanced control.The training shifts to a hands-on approach, with Naruto's first task being to walk on water. Despite several humorous mishaps, Naruto's commitment to becoming Hokage drives him to overcome the challenge, showcasing the inspiring determination that defines his character.The climax of this training sequence comes when Jiraiya forces Naruto to confront the extraordinary power of the Nine-Tails fox sealed within him. In a dramatic turn, Naruto finds himself grappling with the monster in his psyche. Jiraiya's methods push Naruto to the brink, bringing forth the immense, untamed chakra of the Nine-Tails as a true test of willpower and control.As Naruto wrangles with this internal beast, Jiraiya's unorthodox approach reveals a deeper wisdom. Naruto's aspiration to harness the Nine-Tails' power hints at a potential untapped strength that could change the course of his destiny. This intense training arc leaves readers eager for the next chapter, where Naruto's evolution as a ninja promises to unfold further.\n",
      "\n",
      "___________\n",
      "\n"
     ]
    }
   ],
   "source": [
    "character_profiles = [volume[i] for i in profile_pages]    \n",
    "NUMBER_OF_JOBS = 7\n",
    "jobs = split_volume_into_parts(volume, volume_unscaled, chapter_pages, NUMBER_OF_JOBS)\n",
    "parts = jobs[\"parts\"]\n",
    "jobs_unscaled = jobs[\"unscaled_images\"]\n",
    "jobs = jobs[\"scaled_images\"]\n",
    "\n",
    "# Summarize the images in the first job\n",
    "response = analyze_images_with_gpt4_vision(character_profiles, jobs[0], client, BASIC_PROMPT, BASIC_INSTRUCTIONS)\n",
    "recap = response.choices[0].message.content\n",
    "tokens = response.usage.total_tokens\n",
    "movie_script = extract_text_and_citations(response.choices[0].message.content, jobs[0], jobs_unscaled[0])\n",
    "\n",
    "print(\"\\n\\n\\n_____________\\n\\n\\n\")\n",
    "print(response.choices[0].message.content)\n",
    "\n",
    "# iterate thrugh the rest of the jobs while adding context from previous ones\n",
    "for i, job in enumerate(jobs):\n",
    "    if i == 0:\n",
    "        continue\n",
    "    response = analyze_images_with_gpt4_vision(character_profiles, job, client, recap + \"\\n-----\\n\" + BASIC_PROMPT_WITH_CONTEXT, BASIC_INSTRUCTIONS)\n",
    "    recap = recap + \"\\n\\n\" + response.choices[0].message.content\n",
    "    tokens += response.usage.total_tokens\n",
    "    print(\"\\n\\n\\n_____________\\n\\n\\n\")\n",
    "    print(response.choices[0].message.content)\n",
    "    movie_script = movie_script + extract_text_and_citations(response.choices[0].message.content, job, jobs_unscaled[i])\n",
    "\n",
    "print(\"\\n\\n\\n_____________\\n\\n\\n\")\n",
    "print(\"\\n\\n\\n_____________\\n\\n\\n\")\n",
    "print(\"\\n\\n\\n_____________\\n\\n\\n\")\n",
    "\n",
    "narration_script = extract_script(movie_script)\n",
    "print(narration_script)\n",
    "print(\"\\n___________\\n\")"
   ]
  },
  {
   "cell_type": "code",
   "execution_count": 378,
   "id": "f59dbd29",
   "metadata": {},
   "outputs": [
    {
     "name": "stdout",
     "output_type": "stream",
     "text": [
      "Load text detector ... Done!\n",
      "Number of unscaled images in segment: 1\n",
      "Loading images ... Number of images loaded: 1\n"
     ]
    },
    {
     "name": "stderr",
     "output_type": "stream",
     "text": [
      "Processing images: 1it [00:00, 18.23it/s]\n"
     ]
    },
    {
     "name": "stdout",
     "output_type": "stream",
     "text": [
      "Number of panels generated: 1\n",
      "Panels generated for text: In the heat of the Chunin Exam finals, Rock Lee stands firm against the daunting Gaara. The observers underestimate Lee, not knowing \"he's stronger than you think\".\n",
      "Number of unscaled images in segment: 1\n",
      "Loading images ... Number of images loaded: 1\n"
     ]
    },
    {
     "name": "stderr",
     "output_type": "stream",
     "text": [
      "Processing images: 1it [00:00, 26.09it/s]\n"
     ]
    },
    {
     "name": "stdout",
     "output_type": "stream",
     "text": [
      "Number of panels generated: 1\n",
      "Panels generated for text: As the match commences, Lee's initial attacks, including his \"Konoha Hurricane,\" are effortlessly countered by Gaara's defensive sand.\n",
      "Number of unscaled images in segment: 1\n",
      "Loading images ... Number of images loaded: 1\n"
     ]
    },
    {
     "name": "stderr",
     "output_type": "stream",
     "text": [
      "Processing images: 1it [00:00, 27.30it/s]\n"
     ]
    },
    {
     "name": "stdout",
     "output_type": "stream",
     "text": [
      "Number of panels generated: 1\n",
      "Panels generated for text: The sand's relentless defense bewilders Lee's supporters, with even the prodigious Neji noting that \"not even his moves are visible\".\n",
      "Number of unscaled images in segment: 1\n",
      "Loading images ... Number of images loaded: 1\n"
     ]
    },
    {
     "name": "stderr",
     "output_type": "stream",
     "text": [
      "Processing images: 1it [00:00, 34.83it/s]"
     ]
    },
    {
     "name": "stdout",
     "output_type": "stream",
     "text": [
      "Number of panels generated: 1\n",
      "Panels generated for text: Spectators begin to realize Gaara's sand is not merely defensive but \"a shield independent of Gaara's will\".\n",
      "Number of unscaled images in segment: 1\n",
      "Loading images ... "
     ]
    },
    {
     "name": "stderr",
     "output_type": "stream",
     "text": [
      "\n"
     ]
    },
    {
     "name": "stdout",
     "output_type": "stream",
     "text": [
      "Number of images loaded: 1\n"
     ]
    },
    {
     "name": "stderr",
     "output_type": "stream",
     "text": [
      "Processing images: 1it [00:00, 35.78it/s]\n"
     ]
    },
    {
     "name": "stdout",
     "output_type": "stream",
     "text": [
      "Number of panels generated: 1\n",
      "Panels generated for text: This autonomous defense renders Lee's taijutsu ineffective, leading to astonishment as Gaara boasts \"no one has ever wounded me\".\n",
      "Number of unscaled images in segment: 1\n",
      "Loading images ... Number of images loaded: 1\n"
     ]
    },
    {
     "name": "stderr",
     "output_type": "stream",
     "text": [
      "Processing images: 1it [00:00, 37.97it/s]\n"
     ]
    },
    {
     "name": "stdout",
     "output_type": "stream",
     "text": [
      "Number of panels generated: 1\n",
      "Panels generated for text: Amidst the fight, a crucial revelation hits—Lee is solely a taijutsu specialist, lacking ninjutsu and genjutsu abilities, a fact met with disbelief by onlookers.\n",
      "Number of unscaled images in segment: 1\n",
      "Loading images ... Number of images loaded: 1\n"
     ]
    },
    {
     "name": "stderr",
     "output_type": "stream",
     "text": [
      "Processing images: 1it [00:00, 37.63it/s]\n"
     ]
    },
    {
     "name": "stdout",
     "output_type": "stream",
     "text": [
      "Number of panels generated: 1\n",
      "Panels generated for text: In an unexpected move, Lee's mentor, Might Guy, permits him to remove his training weights. Cast aside, the weights hit the ground with a resounding boom, signaling the unleashing of Lee's true speed.\n",
      "Number of unscaled images in segment: 1\n",
      "Loading images ... Number of images loaded: 1\n"
     ]
    },
    {
     "name": "stderr",
     "output_type": "stream",
     "text": [
      "Processing images: 1it [00:00, 30.00it/s]\n"
     ]
    },
    {
     "name": "stdout",
     "output_type": "stream",
     "text": [
      "Number of panels generated: 1\n",
      "Panels generated for text: Renewed, Lee blitzes Gaara with an intensity that leaves the crowd and his adversary shocked, proving that \"when it comes to speed, Lee is unsurpassed\".\n",
      "Number of unscaled images in segment: 2\n",
      "Loading images ... Number of images loaded: 2\n"
     ]
    },
    {
     "name": "stderr",
     "output_type": "stream",
     "text": [
      "Processing images: 2it [00:00, 45.82it/s]\n"
     ]
    },
    {
     "name": "stdout",
     "output_type": "stream",
     "text": [
      "Number of panels generated: 2\n",
      "Panels generated for text: With relentless ferocity, Lee's blows begin to penetrate Gaara's \"ultimate defense,\" creating a spectacle that has the audience and his opponents on edge, as the possibility looms that this shield might actually crumble. Lee's display of raw determination and unyielded spirit against Gaara's seemingly impenetrable defense turns the match into a clash of wills that shakes the foundation of the arena.\n",
      "Number of unscaled images in segment: 1\n",
      "Loading images ... Number of images loaded: 1\n"
     ]
    },
    {
     "name": "stderr",
     "output_type": "stream",
     "text": [
      "Processing images: 1it [00:00, 39.89it/s]\n"
     ]
    },
    {
     "name": "stdout",
     "output_type": "stream",
     "text": [
      "Number of panels generated: 1\n",
      "Panels generated for text: Rock Lee, the underdog with the unwavering spirit, faces off against the stoic Gaara, whose sand armor appears impenetrable. As the fight intensifies, Lee's dedication to his craft is evident: \"Bushy Brows is getting even faster!\" his comrades exclaim in awe.\n",
      "Number of unscaled images in segment: 1\n",
      "Loading images ... Number of images loaded: 1\n"
     ]
    },
    {
     "name": "stderr",
     "output_type": "stream",
     "text": [
      "Processing images: 1it [00:00, 38.69it/s]\n"
     ]
    },
    {
     "name": "stdout",
     "output_type": "stream",
     "text": [
      "Number of panels generated: 1\n",
      "Panels generated for text: With each strike, Lee's speed escalates to the point where \"his moves are so fast even my eyes can't track them!\" according to shocked onlookers.\n",
      "Number of unscaled images in segment: 1\n",
      "Loading images ... Number of images loaded: 1\n"
     ]
    },
    {
     "name": "stderr",
     "output_type": "stream",
     "text": [
      "Processing images: 1it [00:00, 27.92it/s]\n"
     ]
    },
    {
     "name": "stdout",
     "output_type": "stream",
     "text": [
      "Number of panels generated: 1\n",
      "Panels generated for text: The tide begins to turn when Lee's mentor, Might Guy, recalls a crucial detail about Gaara's defense: \"The sand shield is the same substance of his body. Some hits should be going through!\".\n",
      "Number of unscaled images in segment: 1\n",
      "Loading images ... Number of images loaded: 1\n"
     ]
    },
    {
     "name": "stderr",
     "output_type": "stream",
     "text": [
      "Processing images: 1it [00:00, 40.82it/s]\n"
     ]
    },
    {
     "name": "stdout",
     "output_type": "stream",
     "text": [
      "Number of panels generated: 1\n",
      "Panels generated for text: This revelation sparks hope, and Lee capitalizes on it with unrivaled velocity, forcing Gaara to grimace in pain from the assault.\n",
      "Number of unscaled images in segment: 1\n",
      "Loading images ... Number of images loaded: 1\n"
     ]
    },
    {
     "name": "stderr",
     "output_type": "stream",
     "text": [
      "Processing images: 1it [00:00, 36.44it/s]\n"
     ]
    },
    {
     "name": "stdout",
     "output_type": "stream",
     "text": [
      "Number of panels generated: 1\n",
      "Panels generated for text: Knowing that brute strength won't be enough, Lee prepares his ace—'The Lotus' technique. Warned of its risks, Lee is determined: \"My only shot is to put everything I have into one final lotus of destruction!\".\n",
      "Number of unscaled images in segment: 1\n",
      "Loading images ... Number of images loaded: 1\n"
     ]
    },
    {
     "name": "stderr",
     "output_type": "stream",
     "text": [
      "Processing images: 1it [00:00, 33.27it/s]\n"
     ]
    },
    {
     "name": "stdout",
     "output_type": "stream",
     "text": [
      "Number of panels generated: 1\n",
      "Panels generated for text: Unleashing the move, Lee propels Gaara into the air\n",
      "Number of unscaled images in segment: 1\n",
      "Loading images ... Number of images loaded: 1\n"
     ]
    },
    {
     "name": "stderr",
     "output_type": "stream",
     "text": [
      "Processing images: 1it [00:00, 35.22it/s]\n"
     ]
    },
    {
     "name": "stdout",
     "output_type": "stream",
     "text": [
      "Number of panels generated: 1\n",
      "Panels generated for text: and then down with devastating force, shaking the arena as he roars, \"Primary Lotus!!\".\n",
      "Number of unscaled images in segment: 1\n",
      "Loading images ... Number of images loaded: 1\n"
     ]
    },
    {
     "name": "stderr",
     "output_type": "stream",
     "text": [
      "Processing images: 1it [00:00, 36.91it/s]\n"
     ]
    },
    {
     "name": "stdout",
     "output_type": "stream",
     "text": [
      "Number of panels generated: 1\n",
      "Panels generated for text: The dust settles, and for a moment it seems that Lee has defied the odds, prompting questions like \"Do you think he's dead?\" from the crowd. However, as the sand begins to clear, the impossible becomes evident: Gaara, though battered, stands unbroken. Lee's determination and his powerful technique fall short, leaving onlookers in disbelief as Gaara's monstrous resilience declares, \"It's fully awakened now...\". This cliffhanger moment marks a pivotal point in the battle of wills, with the Genius of Hard Work versus the cruel might of Gaara's sand.\n",
      "Number of unscaled images in segment: 1\n",
      "Loading images ... Number of images loaded: 1\n"
     ]
    },
    {
     "name": "stderr",
     "output_type": "stream",
     "text": [
      "Processing images: 1it [00:00, 36.55it/s]\n"
     ]
    },
    {
     "name": "stdout",
     "output_type": "stream",
     "text": [
      "Number of panels generated: 1\n",
      "Panels generated for text: In the wake of a fierce battle, Rock Lee's unfaltering determination is laid bare. Despite his valiant efforts and the unleashing of his secret technique, Lee collapses, his body reaching its limits, as Gaara ominously concludes, \"It's fully awakened now\".\n",
      "Number of unscaled images in segment: 1\n",
      "Loading images ... Number of images loaded: 1\n"
     ]
    },
    {
     "name": "stderr",
     "output_type": "stream",
     "text": [
      "Processing images: 1it [00:00, 83.80it/s]\n"
     ]
    },
    {
     "name": "stdout",
     "output_type": "stream",
     "text": [
      "Image 0 failed the paper texture check\n",
      "Number of panels generated: 1\n",
      "Panels generated for text: The crowd looks on, the shock clear in their eyes, while Gaara's power looms larger than ever.\n",
      "\n",
      "Amidst the tense aftermath, the narrative takes a poignant detour into Lee's past. Young Rock Lee, a genin bursting with ambition but devoid of ninjutsu and genjutsu skills, commits himself to the grueling path of taijutsu under the stern yet caring tutelage of Might Guy. Flashbacks reveal Lee's grueling training regimen, his relentless spirit echoed in Guy's words: \"If you do this 500 times, I'll recognize you as a ninja...\".\n",
      "Number of unscaled images in segment: 1\n",
      "Loading images ... Number of images loaded: 1\n"
     ]
    },
    {
     "name": "stderr",
     "output_type": "stream",
     "text": [
      "Processing images: 1it [00:00, 84.27it/s]\n"
     ]
    },
    {
     "name": "stdout",
     "output_type": "stream",
     "text": [
      "Image 0 failed the paper texture check\n",
      "Number of panels generated: 1\n",
      "Panels generated for text: The hardships Lee endured, including endless push-ups and heart-wrenching setbacks, paint a picture of a boy clinging to a single, unyielding belief—hard work can outshine natural talent.\n",
      "\n",
      "Back in the present, Lee, driven by sheer willpower, forces himself back up to continue the fight, his actions leaving the audience and his sensei visibly moved.\n",
      "Number of unscaled images in segment: 1\n",
      "Loading images ... Number of images loaded: 1\n"
     ]
    },
    {
     "name": "stderr",
     "output_type": "stream",
     "text": [
      "Processing images: 1it [00:00, 86.98it/s]\n"
     ]
    },
    {
     "name": "stdout",
     "output_type": "stream",
     "text": [
      "Image 0 failed the paper texture check\n",
      "Number of panels generated: 1\n",
      "Panels generated for text: Guy reflects on Lee's journey, proudly affirming, \"You did good, Lee... You're already a splendid ninja\".\n",
      "Number of unscaled images in segment: 1\n",
      "Loading images ... Number of images loaded: 1\n"
     ]
    },
    {
     "name": "stderr",
     "output_type": "stream",
     "text": [
      "Processing images: 1it [00:00, 39.41it/s]\n"
     ]
    },
    {
     "name": "stdout",
     "output_type": "stream",
     "text": [
      "Number of panels generated: 1\n",
      "Panels generated for text: This declaration of pride highlights Lee's unwavering dedication to his dreams, despite the harsh odds stacked against him.\n",
      "\n",
      "In an act of sheer resilience, Lee stands once more, embodying the spirit of the \"lotus that blooms twice,\" ready to face his formidable opponent head-on, further solidifying his reputation as 'The Genius of Hard Work'.\n",
      "Number of unscaled images in segment: 1\n",
      "Loading images ... Number of images loaded: 1\n"
     ]
    },
    {
     "name": "stderr",
     "output_type": "stream",
     "text": [
      "Processing images: 1it [00:00, 25.15it/s]\n"
     ]
    },
    {
     "name": "stdout",
     "output_type": "stream",
     "text": [
      "Number of panels generated: 1\n",
      "Panels generated for text: As he prepares to strike, the chapter closes on a cliffhanger, leaving readers to ponder the outcome of a battle where the unquenchable human spirit clashes with implacable, otherworldly power.\n",
      "Number of unscaled images in segment: 1\n",
      "Loading images ... Number of images loaded: 1\n"
     ]
    },
    {
     "name": "stderr",
     "output_type": "stream",
     "text": [
      "Processing images: 1it [00:00, 30.49it/s]\n"
     ]
    },
    {
     "name": "stdout",
     "output_type": "stream",
     "text": [
      "Number of panels generated: 1\n",
      "Panels generated for text: As the decisive moment approaches, tension grips the air. Rock Lee's strength wanes, yet he bravely chooses to move forward, unlocking the Fifth Gate—\"The gate... of closing!\".\n",
      "Number of unscaled images in segment: 1\n",
      "Loading images ... Number of images loaded: 1\n"
     ]
    },
    {
     "name": "stderr",
     "output_type": "stream",
     "text": [
      "Processing images: 1it [00:00, 41.08it/s]"
     ]
    },
    {
     "name": "stdout",
     "output_type": "stream",
     "text": [
      "Number of panels generated: 1\n",
      "Panels generated for text: The crowd watches, stunned, as Lee harnesses this forbidden power, \"a nice surprise... don't disappoint that kid, Bushy Brows!\" whispers his concerned mentor, Might Guy.\n",
      "Number of unscaled images in segment: 1\n",
      "Loading images ... "
     ]
    },
    {
     "name": "stderr",
     "output_type": "stream",
     "text": [
      "\n"
     ]
    },
    {
     "name": "stdout",
     "output_type": "stream",
     "text": [
      "Number of images loaded: 1\n"
     ]
    },
    {
     "name": "stderr",
     "output_type": "stream",
     "text": [
      "Processing images: 1it [00:00, 31.70it/s]\n"
     ]
    },
    {
     "name": "stdout",
     "output_type": "stream",
     "text": [
      "Number of panels generated: 1\n",
      "Panels generated for text: But the path Lee treads is fraught with danger. Gaara stands, seemingly an unassailable fortress, as the sands swirl ominously around him. In desperation, Lee unveils his ultimate technique, \"Reverse Lotus!\".\n",
      "Number of unscaled images in segment: 1\n",
      "Loading images ... Number of images loaded: 1\n"
     ]
    },
    {
     "name": "stderr",
     "output_type": "stream",
     "text": [
      "Processing images: 1it [00:00, 38.02it/s]\n"
     ]
    },
    {
     "name": "stdout",
     "output_type": "stream",
     "text": [
      "Number of panels generated: 1\n",
      "Panels generated for text: With blinding speed, he strikes, the force echoing through the stadium, leaving everyone gasping, \"He's fast!\".\n",
      "Number of unscaled images in segment: 1\n",
      "Loading images ... Number of images loaded: 1\n"
     ]
    },
    {
     "name": "stderr",
     "output_type": "stream",
     "text": [
      "Processing images: 1it [00:00, 38.18it/s]\n"
     ]
    },
    {
     "name": "stdout",
     "output_type": "stream",
     "text": [
      "Number of panels generated: 1\n",
      "Panels generated for text: Despite the display of sheer might, the outcome is grim. Gaara's defense holds, sand cocooning around him, leaving Lee to crumble, his body broken by the strain of his own attack. The stark reality looms over the arena—\"The Sand Armor appeared again...\".\n",
      "Number of unscaled images in segment: 1\n",
      "Loading images ... Number of images loaded: 1\n"
     ]
    },
    {
     "name": "stderr",
     "output_type": "stream",
     "text": [
      "Processing images: 1it [00:00, 57.77it/s]\n"
     ]
    },
    {
     "name": "stdout",
     "output_type": "stream",
     "text": [
      "Number of panels generated: 1\n",
      "Panels generated for text: Yet, even as he falls, Lee's shinobi spirit refuses to waver. \"This is the end!!\" he declares, mustering all that remains in an astonishing move, opening \"The Fifth Gate... Gate of Life!\".\n",
      "Number of unscaled images in segment: 1\n",
      "Loading images ... Number of images loaded: 1\n"
     ]
    },
    {
     "name": "stderr",
     "output_type": "stream",
     "text": [
      "Processing images: 1it [00:00, 38.24it/s]\n"
     ]
    },
    {
     "name": "stdout",
     "output_type": "stream",
     "text": [
      "Number of panels generated: 1\n",
      "Panels generated for text: The impact of his unyielding resolve resounds, a testament to his \"shinobi way\".\n",
      "Number of unscaled images in segment: 1\n",
      "Loading images ... Number of images loaded: 1\n"
     ]
    },
    {
     "name": "stderr",
     "output_type": "stream",
     "text": [
      "Processing images: 1it [00:00, 88.42it/s]\n"
     ]
    },
    {
     "name": "stdout",
     "output_type": "stream",
     "text": [
      "Image 0 failed the paper texture check\n",
      "Number of panels generated: 1\n",
      "Panels generated for text: In a breathtaking finale, the Reverse Lotus crashes down upon Gaara, a masterstroke potent enough to crack the very foundation, a thunderous blow that marks Lee's undying determination. Witnesses are left speechless, their eyes wide with a mix of horror and admiration.\n",
      "Number of unscaled images in segment: 1\n",
      "Loading images ... Number of images loaded: 1\n"
     ]
    },
    {
     "name": "stderr",
     "output_type": "stream",
     "text": [
      "Processing images: 1it [00:00, 36.49it/s]\n"
     ]
    },
    {
     "name": "stdout",
     "output_type": "stream",
     "text": [
      "Number of panels generated: 1\n",
      "Panels generated for text: But as the dust settles, the grim outcome of Lee's gambit is revealed, the price of tapping into such depths of power—a splendid ninja, lying amidst the ruins of his own might.\n",
      "Number of unscaled images in segment: 1\n",
      "Loading images ... Number of images loaded: 1\n"
     ]
    },
    {
     "name": "stderr",
     "output_type": "stream",
     "text": [
      "Processing images: 1it [00:00, 38.37it/s]\n"
     ]
    },
    {
     "name": "stdout",
     "output_type": "stream",
     "text": [
      "Number of panels generated: 1\n",
      "Panels generated for text: In a stunning display of power and resilience, Rock Lee's fight against Gaara comes to a crushing end. Lee's explosive techniques, the reverberating \"KABOOM\" of his movements, are not enough to break through Gaara's defenses.\n",
      "Number of unscaled images in segment: 2\n",
      "Loading images ... Number of images loaded: 2\n"
     ]
    },
    {
     "name": "stderr",
     "output_type": "stream",
     "text": [
      "Processing images: 2it [00:00, 50.26it/s]\n"
     ]
    },
    {
     "name": "stdout",
     "output_type": "stream",
     "text": [
      "Image 1 failed the paper texture check\n",
      "Number of panels generated: 2\n",
      "Panels generated for text: Gaara's sand, a shield of its own accord, grips Lee in its \"Sabaku Kyu: The Coffin of Crushing Sand!\" effectively turning the tide of the battle.\n",
      "Number of unscaled images in segment: 2\n",
      "Loading images ... Number of images loaded: 2\n"
     ]
    },
    {
     "name": "stderr",
     "output_type": "stream",
     "text": [
      "Processing images: 2it [00:00, 38.05it/s]\n"
     ]
    },
    {
     "name": "stdout",
     "output_type": "stream",
     "text": [
      "Number of panels generated: 2\n",
      "Panels generated for text: Despite Lee's valiant efforts, his body fails to endure the immense strain. Gaara declares victory with his unscathed visage, but Lee, ever determined, refuses to acknowledge defeat, standing once more with unbreakable spirit.\n",
      "Number of unscaled images in segment: 2\n",
      "Loading images ... Number of images loaded: 2\n"
     ]
    },
    {
     "name": "stderr",
     "output_type": "stream",
     "text": [
      "Processing images: 2it [00:00, 38.89it/s]\n"
     ]
    },
    {
     "name": "stdout",
     "output_type": "stream",
     "text": [
      "Number of panels generated: 2\n",
      "Panels generated for text: His mentor, Might Guy, intervenes before Lee harms himself further, catching his pupil in a supportive embrace. Guy's eyes, brimming with pride, reflect on Lee's courage and steadfastness, \"You're incredible kid...\" he whispers in admiration.\n",
      "Number of unscaled images in segment: 2\n",
      "Loading images ... Number of images loaded: 2\n"
     ]
    },
    {
     "name": "stderr",
     "output_type": "stream",
     "text": [
      "Processing images: 2it [00:00, 35.22it/s]\n"
     ]
    },
    {
     "name": "stdout",
     "output_type": "stream",
     "text": [
      "Number of panels generated: 2\n",
      "Panels generated for text: The crowd is conflicted, witnessing both Lee's admirable perseverance and the painful conclusion of his ambition. Gaara stands victorious, yet the onlookers are left to ponder the true nature of strength.\n",
      "Number of unscaled images in segment: 2\n",
      "Loading images ... Number of images loaded: 2\n"
     ]
    },
    {
     "name": "stderr",
     "output_type": "stream",
     "text": [
      "Processing images: 2it [00:00, 44.37it/s]\n"
     ]
    },
    {
     "name": "stdout",
     "output_type": "stream",
     "text": [
      "Number of panels generated: 2\n",
      "Panels generated for text: Guy reaffirms Lee's worth, cradling him closely, \"Lee... you are already... a splendid ninja!\" a testament to the respect earned through sheer effort.\n",
      "Number of unscaled images in segment: 3\n",
      "Loading images ... Number of images loaded: 3\n"
     ]
    },
    {
     "name": "stderr",
     "output_type": "stream",
     "text": [
      "Processing images: 3it [00:00, 54.52it/s]\n"
     ]
    },
    {
     "name": "stdout",
     "output_type": "stream",
     "text": [
      "Image 2 failed the paper texture check\n",
      "Number of panels generated: 3\n",
      "Panels generated for text: The aftermath of the battle sets a somber tone, as medical attention is swiftly sought for Lee's battered form. His rivals and friends alike can only watch in silence; the testament to Lee's spirit is echoed in their hushed voices.\n",
      "Number of unscaled images in segment: 2\n",
      "Loading images ... Number of images loaded: 2\n"
     ]
    },
    {
     "name": "stderr",
     "output_type": "stream",
     "text": [
      "Processing images: 2it [00:00, 35.19it/s]\n"
     ]
    },
    {
     "name": "stdout",
     "output_type": "stream",
     "text": [
      "Number of panels generated: 2\n",
      "Panels generated for text: Guy solemnly reflects on the sacrifice—Lee's dream sustained at a grievous cost. Naruto, moved by Lee's dedication, resolves to remember his fellow ninja's resolve.\n",
      "Number of unscaled images in segment: 2\n",
      "Loading images ... Number of images loaded: 2\n"
     ]
    },
    {
     "name": "stderr",
     "output_type": "stream",
     "text": [
      "Processing images: 2it [00:00, 34.93it/s]"
     ]
    },
    {
     "name": "stdout",
     "output_type": "stream",
     "text": [
      "Number of panels generated: 2\n",
      "Panels generated for text: As the crowd disperses, the focus shifts to the remaining contenders, with the tension around Sasuke's absence palpable. The Chuunin Exam's preliminaries reach their climax without one of its most anticipated contenders, leaving questions and concerns hanging in the air.\n",
      "Number of unscaled images in segment: 1\n",
      "Loading images ... "
     ]
    },
    {
     "name": "stderr",
     "output_type": "stream",
     "text": [
      "\n"
     ]
    },
    {
     "name": "stdout",
     "output_type": "stream",
     "text": [
      "Number of images loaded: 1\n"
     ]
    },
    {
     "name": "stderr",
     "output_type": "stream",
     "text": [
      "Processing images: 1it [00:00, 35.74it/s]\n"
     ]
    },
    {
     "name": "stdout",
     "output_type": "stream",
     "text": [
      "Number of panels generated: 1\n",
      "Panels generated for text: After the intensity of the Chunin Exam finals, the scene shifts to a calmer setting where the announcement is made that despite numerous formidable contenders, only one ninja, Neji, passed the exam.\n",
      "Number of unscaled images in segment: 1\n",
      "Loading images ... Number of images loaded: 1\n"
     ]
    },
    {
     "name": "stderr",
     "output_type": "stream",
     "text": [
      "Processing images: 1it [00:00, 35.70it/s]"
     ]
    },
    {
     "name": "stdout",
     "output_type": "stream",
     "text": [
      "Number of panels generated: 1\n",
      "Panels generated for text: Concerns are raised among comrades about Sasuke's condition, with Naruto declaring, \"It's all up to Sasuke now\" in a somber acknowledgment of his teammate's uncertain fate.\n",
      "Number of unscaled images in segment: 1\n",
      "Loading images ... "
     ]
    },
    {
     "name": "stderr",
     "output_type": "stream",
     "text": [
      "\n"
     ]
    },
    {
     "name": "stdout",
     "output_type": "stream",
     "text": [
      "Number of images loaded: 1\n"
     ]
    },
    {
     "name": "stderr",
     "output_type": "stream",
     "text": [
      "Processing images: 1it [00:00, 67.14it/s]\n"
     ]
    },
    {
     "name": "stdout",
     "output_type": "stream",
     "text": [
      "Image 0 failed the paper texture check\n",
      "Number of panels generated: 1\n",
      "Panels generated for text: As the dust settles, the village returns to a peaceful rhythm with Konohamaru and his friends plotting their next moves while Iruka reflects on the completed exams.\n",
      "Number of unscaled images in segment: 1\n",
      "Loading images ... Number of images loaded: 1\n"
     ]
    },
    {
     "name": "stderr",
     "output_type": "stream",
     "text": [
      "Processing images: 1it [00:00, 41.27it/s]\n"
     ]
    },
    {
     "name": "stdout",
     "output_type": "stream",
     "text": [
      "Number of panels generated: 1\n",
      "Panels generated for text: Orochimaru, in the guise of the Kazekage, postulates with Sasuke's older brother Itachi about the events that have transpired, alluding to Itachi's true mission involving the Akatsuki.\n",
      "Number of unscaled images in segment: 1\n",
      "Loading images ... Number of images loaded: 1\n"
     ]
    },
    {
     "name": "stderr",
     "output_type": "stream",
     "text": [
      "Processing images: 1it [00:00, 36.03it/s]\n"
     ]
    },
    {
     "name": "stdout",
     "output_type": "stream",
     "text": [
      "Number of panels generated: 1\n",
      "Panels generated for text: Their cryptic conversation unfolds, revealing glimpses of the larger turmoil brewing beyond the exam's facade, with Itachi's chilling intent—\"To remind you that strength requires the ruthlessness to be cold\" — as he departs with his companion Kisame.\n",
      "Number of unscaled images in segment: 1\n",
      "Loading images ... Number of images loaded: 1\n"
     ]
    },
    {
     "name": "stderr",
     "output_type": "stream",
     "text": [
      "Processing images: 1it [00:00, 40.25it/s]\n"
     ]
    },
    {
     "name": "stdout",
     "output_type": "stream",
     "text": [
      "Number of panels generated: 1\n",
      "Panels generated for text: Meanwhile, Kakashi acknowledges Sasuke's growth, but admits to a nagging concern over Naruto's safety, which is echoed in Jiraiya's more pressing warning about the intentions of Orochimaru.\n",
      "Number of unscaled images in segment: 2\n",
      "Loading images ... Number of images loaded: 2\n"
     ]
    },
    {
     "name": "stderr",
     "output_type": "stream",
     "text": [
      "Processing images: 2it [00:00, 31.10it/s]\n"
     ]
    },
    {
     "name": "stdout",
     "output_type": "stream",
     "text": [
      "Number of panels generated: 2\n",
      "Panels generated for text: As the day comes to a close, the proctor reflects on the necessity to push the finalists through a month of intense training before they can face their ultimate test.\n",
      "Number of unscaled images in segment: 1\n",
      "Loading images ... Number of images loaded: 1\n"
     ]
    },
    {
     "name": "stderr",
     "output_type": "stream",
     "text": [
      "Processing images: 1it [00:00, 34.77it/s]\n"
     ]
    },
    {
     "name": "stdout",
     "output_type": "stream",
     "text": [
      "Number of panels generated: 1\n",
      "Panels generated for text: Night falls, and we glimpse a shadowy figure training, igniting speculation—is it Sasuke honing his skills, driven by relentless ambition?\n",
      "Number of unscaled images in segment: 1\n",
      "Loading images ... Number of images loaded: 1\n"
     ]
    },
    {
     "name": "stderr",
     "output_type": "stream",
     "text": [
      "Processing images: 1it [00:00, 38.90it/s]\n"
     ]
    },
    {
     "name": "stdout",
     "output_type": "stream",
     "text": [
      "Number of panels generated: 1\n",
      "Panels generated for text: In a secretive clash, Kabuto and Baki engage in a concealed confrontation that ends with Kabuto's retreat, leaving Baki to ponder the strategic intricacies of his hidden opponents.\n",
      "Number of unscaled images in segment: 1\n",
      "Loading images ... Number of images loaded: 1\n"
     ]
    },
    {
     "name": "stderr",
     "output_type": "stream",
     "text": [
      "Processing images: 1it [00:00, 36.27it/s]\n"
     ]
    },
    {
     "name": "stdout",
     "output_type": "stream",
     "text": [
      "Number of panels generated: 1\n",
      "Panels generated for text: The chapter concludes with Kakashi and Kabuto coming face-to-face, an electrifying tension crackling between them as Kabuto makes a sly departure, leaving Kakashi pondering the young ninja's enigmatic true nature.\n",
      "Number of unscaled images in segment: 1\n",
      "Loading images ... Number of images loaded: 1\n"
     ]
    },
    {
     "name": "stderr",
     "output_type": "stream",
     "text": [
      "Processing images: 1it [00:00, 33.48it/s]\n"
     ]
    },
    {
     "name": "stdout",
     "output_type": "stream",
     "text": [
      "Number of panels generated: 1\n",
      "Panels generated for text: In the aftermath of Rock Lee's gripping battle, a determined Naruto visits his hospitalized teammates. Upon encountering a seemingly dismissive Jiraiya, Naruto's indignation boils over until Jiraiya reveals himself as the Sannin who will oversee Naruto's training. Meanwhile, Kabuto and Baki's shadowy exchange hints at deeper, more sinister plots brewing in the background.\n",
      "Number of unscaled images in segment: 3\n",
      "Loading images ... Number of images loaded: 3\n"
     ]
    },
    {
     "name": "stderr",
     "output_type": "stream",
     "text": [
      "Processing images: 3it [00:00, 37.32it/s]\n"
     ]
    },
    {
     "name": "stdout",
     "output_type": "stream",
     "text": [
      "Number of panels generated: 3\n",
      "Panels generated for text: Naruto's training begins under Jiraiya's eccentric guidance, starting with a seemingly simple but profound lesson: mastering the control of one's chakra. Jiraiya elucidates the concept with diagrams, demonstrating the delicate balance required between physical and spiritual energy. Naruto, eager yet unskilled, struggles to grasp the subtle art, comparing unfavorably to his peer Sasuke's more advanced control.\n",
      "Number of unscaled images in segment: 3\n",
      "Loading images ... Number of images loaded: 3\n"
     ]
    },
    {
     "name": "stderr",
     "output_type": "stream",
     "text": [
      "Processing images: 3it [00:00, 34.64it/s]\n"
     ]
    },
    {
     "name": "stdout",
     "output_type": "stream",
     "text": [
      "Number of panels generated: 3\n",
      "Panels generated for text: The training shifts to a hands-on approach, with Naruto's first task being to walk on water. Despite several humorous mishaps, Naruto's commitment to becoming Hokage drives him to overcome the challenge, showcasing the inspiring determination that defines his character.\n",
      "Number of unscaled images in segment: 3\n",
      "Loading images ... Number of images loaded: 3\n"
     ]
    },
    {
     "name": "stderr",
     "output_type": "stream",
     "text": [
      "Processing images: 3it [00:00, 42.40it/s]\n"
     ]
    },
    {
     "name": "stdout",
     "output_type": "stream",
     "text": [
      "Number of panels generated: 3\n",
      "Panels generated for text: The climax of this training sequence comes when Jiraiya forces Naruto to confront the extraordinary power of the Nine-Tails fox sealed within him. In a dramatic turn, Naruto finds himself grappling with the monster in his psyche. Jiraiya's methods push Naruto to the brink, bringing forth the immense, untamed chakra of the Nine-Tails as a true test of willpower and control.\n",
      "Number of unscaled images in segment: 3\n",
      "Loading images ... Number of images loaded: 3\n"
     ]
    },
    {
     "name": "stderr",
     "output_type": "stream",
     "text": [
      "Processing images: 3it [00:00, 39.12it/s]"
     ]
    },
    {
     "name": "stdout",
     "output_type": "stream",
     "text": [
      "Number of panels generated: 3\n",
      "Panels generated for text: As Naruto wrangles with this internal beast, Jiraiya's unorthodox approach reveals a deeper wisdom. Naruto's aspiration to harness the Nine-Tails' power hints at a potential untapped strength that could change the course of his destiny. This intense training arc leaves readers eager for the next chapter, where Naruto's evolution as a ninja promises to unfold further.\n"
     ]
    },
    {
     "name": "stderr",
     "output_type": "stream",
     "text": [
      "\n"
     ]
    }
   ],
   "source": [
    "extract_panels(movie_script)"
   ]
  },
  {
   "cell_type": "code",
   "execution_count": null,
   "id": "c08d5793",
   "metadata": {},
   "outputs": [],
   "source": [
    "print(\"number of segments:\", len(movie_script))\n",
    "for i, segment in enumerate(movie_script):\n",
    "    print(\"segment\", i, \": \", segment[\"text\"])\n",
    "    all_panels_base64 = [panel for sublist in segment[\"panels\"].values() for panel in sublist]\n",
    "    print(len(all_panels_base64))\n",
    "    print(\"number of panels:\", len(all_panels_base64))\n",
    "    print(\"number of images:\", len(segment[\"images\"]))\n",
    "\n",
    "def process_segment(segment_tuple):\n",
    "    i, segment = segment_tuple  # Unpack the tuple\n",
    "    panels = []\n",
    "    for j, page in enumerate(segment[\"images\"]):\n",
    "        if \"panels\" in segment:\n",
    "            if j not in segment[\"panels\"]:\n",
    "                panels.append(page)\n",
    "            else:\n",
    "                for panel in segment[\"panels\"][j]:\n",
    "                    panels.append(panel)\n",
    "        else:\n",
    "            panels.append(page)\n",
    "    \n",
    "    scaled_panels = [scale_base64_image(p) for p in panels]\n",
    "\n",
    "\n",
    "    response = get_important_panels(profile_reference, scaled_panels, client, \n",
    "        segment[\"text\"] + \"\\n________\\n\" + KEY_PANEL_IDENTIFICATION_PROMPT, KEY_PANEL_IDENTIFICATION_INSTRUCTIONS)\n",
    "\n",
    "    important_panels = response[\"parsed_response\"]\n",
    "    # check if important panels is an array\n",
    "    if not isinstance(important_panels, list):\n",
    "        important_panels = []\n",
    "\n",
    "    ip = []\n",
    "    for p in important_panels:\n",
    "        number = p\n",
    "        if isinstance(number, str):\n",
    "            if number.isdigit():\n",
    "                number = int(number)\n",
    "        if not isinstance(number, int):\n",
    "            continue\n",
    "\n",
    "        if number < len(panels):\n",
    "            ip.append(panels[number])\n",
    "        \n",
    "    \n",
    "    return i, ip, response[\"total_tokens\"]\n",
    "\n",
    "# Initialize variables\n",
    "panel_tokens = 0\n",
    "important_panels_info = {}\n",
    "\n",
    "# Use ThreadPoolExecutor to parallelize the processing\n",
    "with concurrent.futures.ThreadPoolExecutor() as executor:\n",
    "    # Create a list of futures\n",
    "    futures = [executor.submit(process_segment, (i, segment)) for i, segment in enumerate(movie_script)]\n",
    "    \n",
    "    # Collect the results as they complete\n",
    "    for future in concurrent.futures.as_completed(futures):\n",
    "        i, ip, tokens = future.result()\n",
    "        if ip:\n",
    "            print(\"Important panels for segment\", i, \"exist.\")\n",
    "        else: \n",
    "            print(\"No important panels for segment\", i)\n",
    "        movie_script[i][\"important_panels\"] = ip  # Assign the important panels back to the segment\n",
    "        panel_tokens += tokens\n",
    "\n",
    "\n",
    "ELEVENLABS_PRICE_PER_CHARACTER = 0.0003\n",
    "print(\"Tokens for extracting profiles and chapters:\", important_page_tokens, \" | \", \"${:,.4f}\".format(VISION_PRICE_PER_TOKEN * important_page_tokens))\n",
    "print(\"Tokens for summarization:\", tokens,  \" | \", \"${:,.4f}\".format(VISION_PRICE_PER_TOKEN * tokens))\n",
    "print(\"Tokens for extracting important panels:\", panel_tokens, \" | \", \"${:,.4f}\".format(VISION_PRICE_PER_TOKEN * panel_tokens))\n",
    "total_gpt_tokens = important_page_tokens + tokens + panel_tokens\n",
    "print(\"Total GPT tokens:\", total_gpt_tokens,  \" | \", \"${:,.4f}\".format(VISION_PRICE_PER_TOKEN * (total_gpt_tokens)))\n",
    "print(\"Total elevenlabs characters:\", len(narration_script), \" | \", \"${:,.4f}\".format(ELEVENLABS_PRICE_PER_CHARACTER * (len(narration_script))))\n",
    "print(\"GRAND TOTAL COST\",\" | \", \"${:,.4f}\".format(VISION_PRICE_PER_TOKEN * (total_gpt_tokens) + ELEVENLABS_PRICE_PER_CHARACTER * (len(narration_script))))"
   ]
  },
  {
   "cell_type": "code",
   "execution_count": 379,
   "id": "c972b45e",
   "metadata": {},
   "outputs": [
    {
     "name": "stdout",
     "output_type": "stream",
     "text": [
      "Narrating movie script...\n",
      "got bytes: 89025\n",
      "got bytes: 122462\n",
      "got bytes: 121626\n",
      "got bytes: 140434\n",
      "got bytes: 155062\n",
      "got bytes: 128313\n",
      "got bytes: 183484\n",
      "got bytes: 175960\n",
      "got bytes: 130821\n",
      "got bytes: 124133\n",
      "got bytes: 180976\n",
      "got bytes: 308871\n",
      "got bytes: 356519\n",
      "got bytes: 48065\n",
      "got bytes: 83173\n",
      "got bytes: 187245\n",
      "got bytes: 86099\n",
      "got bytes: 284630\n",
      "got bytes: 359444\n",
      "got bytes: 183484\n",
      "got bytes: 571350\n",
      "got bytes: 364042\n",
      "got bytes: 565916\n",
      "got bytes: 204800\n",
      "got bytes: 167183\n",
      "got bytes: 92786\n",
      "got bytes: 69799\n",
      "got bytes: 198948\n",
      "got bytes: 191425\n",
      "got bytes: 277106\n",
      "got bytes: 207307\n",
      "got bytes: 135000\n",
      "got bytes: 212323\n",
      "got bytes: 264568\n",
      "got bytes: 234475\n",
      "got bytes: 129149\n",
      "got bytes: 201038\n",
      "got bytes: 293407\n",
      "got bytes: 221100\n",
      "got bytes: 187245\n",
      "got bytes: 204800\n",
      "got bytes: 181812\n",
      "got bytes: 268747\n",
      "got bytes: 173871\n",
      "got bytes: 217756\n",
      "got bytes: 134164\n",
      "got bytes: 150047\n",
      "got bytes: 177632\n",
      "got bytes: 285048\n",
      "got bytes: 175960\n",
      "got bytes: 192261\n",
      "got bytes: 351921\n",
      "got bytes: 280032\n",
      "got bytes: 453903\n",
      "got bytes: 357355\n",
      "got bytes: 383268\n",
      "Editing movie together...\n"
     ]
    },
    {
     "ename": "KeyError",
     "evalue": "'important_panels'",
     "output_type": "error",
     "traceback": [
      "\u001b[0;31m---------------------------------------------------------------------------\u001b[0m",
      "\u001b[0;31mKeyError\u001b[0m                                  Traceback (most recent call last)",
      "Cell \u001b[0;32mIn[379], line 1\u001b[0m\n\u001b[0;32m----> 1\u001b[0m \u001b[38;5;28;01mawait\u001b[39;00m make_movie(movie_script, manga, volume_number, narration_client)\n",
      "File \u001b[0;32m~/Documents/Melden/reader-manga/movie_director.py:15\u001b[0m, in \u001b[0;36mmake_movie\u001b[0;34m(movie_script, manga, volume_number, narration_client)\u001b[0m\n\u001b[1;32m     13\u001b[0m \u001b[38;5;28;01mawait\u001b[39;00m add_narrations_to_script(movie_script, narration_client)\n\u001b[1;32m     14\u001b[0m \u001b[38;5;28mprint\u001b[39m(\u001b[38;5;124m\"\u001b[39m\u001b[38;5;124mEditing movie together...\u001b[39m\u001b[38;5;124m\"\u001b[39m)\n\u001b[0;32m---> 15\u001b[0m \u001b[43mcreate_movie_from_script\u001b[49m\u001b[43m(\u001b[49m\u001b[43mmovie_script\u001b[49m\u001b[43m,\u001b[49m\u001b[43m \u001b[49m\u001b[43mmanga\u001b[49m\u001b[43m,\u001b[49m\u001b[43m \u001b[49m\u001b[43mvolume_number\u001b[49m\u001b[43m)\u001b[49m\n\u001b[1;32m     16\u001b[0m \u001b[38;5;28mprint\u001b[39m(\u001b[38;5;124m\"\u001b[39m\u001b[38;5;124mMovie created successfully!\u001b[39m\u001b[38;5;124m\"\u001b[39m)\n\u001b[1;32m     17\u001b[0m \u001b[38;5;28;01mreturn\u001b[39;00m \u001b[38;5;28;01mTrue\u001b[39;00m\n",
      "File \u001b[0;32m~/Documents/Melden/reader-manga/movie_director.py:48\u001b[0m, in \u001b[0;36mcreate_movie_from_script\u001b[0;34m(script, manga, volume_number)\u001b[0m\n\u001b[1;32m     46\u001b[0m \u001b[38;5;28;01mfor\u001b[39;00m segment_index, segment \u001b[38;5;129;01min\u001b[39;00m \u001b[38;5;28menumerate\u001b[39m(script):\n\u001b[1;32m     47\u001b[0m     narration_audio \u001b[38;5;241m=\u001b[39m segment[\u001b[38;5;124m\"\u001b[39m\u001b[38;5;124mnarration\u001b[39m\u001b[38;5;124m\"\u001b[39m]  \u001b[38;5;66;03m# This is a BytesIO object\u001b[39;00m\n\u001b[0;32m---> 48\u001b[0m     important_panels \u001b[38;5;241m=\u001b[39m \u001b[43msegment\u001b[49m\u001b[43m[\u001b[49m\u001b[38;5;124;43m\"\u001b[39;49m\u001b[38;5;124;43mimportant_panels\u001b[39;49m\u001b[38;5;124;43m\"\u001b[39;49m\u001b[43m]\u001b[49m\n\u001b[1;32m     49\u001b[0m     base64_images \u001b[38;5;241m=\u001b[39m segment[\u001b[38;5;124m\"\u001b[39m\u001b[38;5;124mimages_unscaled\u001b[39m\u001b[38;5;124m\"\u001b[39m]  \u001b[38;5;66;03m# This should be a list of base64 strings\u001b[39;00m\n\u001b[1;32m     50\u001b[0m     \u001b[38;5;28mprint\u001b[39m(\u001b[38;5;124mf\u001b[39m\u001b[38;5;124m\"\u001b[39m\u001b[38;5;124mNumber of images in segment \u001b[39m\u001b[38;5;132;01m{\u001b[39;00msegment_index\u001b[38;5;132;01m}\u001b[39;00m\u001b[38;5;124m:\u001b[39m\u001b[38;5;124m\"\u001b[39m, \u001b[38;5;28mlen\u001b[39m(base64_images))\n",
      "\u001b[0;31mKeyError\u001b[0m: 'important_panels'"
     ]
    }
   ],
   "source": [
    "await make_movie(movie_script, manga, volume_number, narration_client)"
   ]
  },
  {
   "cell_type": "code",
   "execution_count": null,
   "id": "8adcb9d2-bf68-4d18-b475-c52145efdd63",
   "metadata": {},
   "outputs": [],
   "source": []
  },
  {
   "cell_type": "code",
   "execution_count": null,
   "id": "e9ebb25c-7473-4f55-b20b-0eff66908581",
   "metadata": {},
   "outputs": [],
   "source": []
  },
  {
   "cell_type": "code",
   "execution_count": null,
   "id": "d80d4cc7-37a5-44d3-9480-b98dae3c8289",
   "metadata": {},
   "outputs": [],
   "source": []
  },
  {
   "cell_type": "code",
   "execution_count": null,
   "id": "0ac7aac2-9860-4eb8-8d54-8a4c34702fec",
   "metadata": {
    "scrolled": true
   },
   "outputs": [],
   "source": []
  },
  {
   "cell_type": "code",
   "execution_count": null,
   "id": "33283437-1e28-43a8-b067-b7b13c412bf1",
   "metadata": {},
   "outputs": [],
   "source": []
  },
  {
   "cell_type": "code",
   "execution_count": null,
   "id": "5bb6edb8-6850-4418-87aa-b9496e4d140d",
   "metadata": {},
   "outputs": [],
   "source": []
  }
 ],
 "metadata": {
  "kernelspec": {
   "display_name": "Python 3 (ipykernel)",
   "language": "python",
   "name": "python3"
  },
  "language_info": {
   "codemirror_mode": {
    "name": "ipython",
    "version": 3
   },
   "file_extension": ".py",
   "mimetype": "text/x-python",
   "name": "python",
   "nbconvert_exporter": "python",
   "pygments_lexer": "ipython3",
   "version": "3.11.7"
  }
 },
 "nbformat": 4,
 "nbformat_minor": 5
}
