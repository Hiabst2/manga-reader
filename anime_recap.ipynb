{
 "cells": [
  {
   "cell_type": "code",
   "execution_count": 196,
   "id": "df8dec17-bddc-409a-8610-c0ab1a57ed15",
   "metadata": {},
   "outputs": [
    {
     "data": {
      "text/plain": [
       "True"
      ]
     },
     "execution_count": 196,
     "metadata": {},
     "output_type": "execute_result"
    }
   ],
   "source": [
    "from dotenv import load_dotenv\n",
    "from openai import OpenAI\n",
    "from elevenlabs.client import AsyncElevenLabs\n",
    "import asyncio\n",
    "import json\n",
    "import os\n",
    "import argparse\n",
    "import concurrent.futures\n",
    "\n",
    "from manga_extraction import extract_all_pages_as_images, save_important_pages, split_volume_into_parts, save_all_pages, extract_panels, scale_base64_image\n",
    "from vision_analysis import analyze_images_with_gpt4_vision, detect_important_pages, get_important_panels, VISION_PRICE_PER_TOKEN \n",
    "from prompts import DRAMATIC_PROMPT, BASIC_PROMPT, BASIC_PROMPT_WITH_CONTEXT,  BASIC_INSTRUCTIONS, KEY_PAGE_IDENTIFICATION_INSTRUCTIONS, KEY_PANEL_IDENTIFICATION_PROMPT, KEY_PANEL_IDENTIFICATION_INSTRUCTIONS\n",
    "from citation_processing import extract_text_and_citations, extract_script\n",
    "from movie_director import make_movie\n",
    "load_dotenv()  # Load environment variables from .env file"
   ]
  },
  {
   "cell_type": "code",
   "execution_count": 197,
   "id": "cca43991-2e27-4c95-9a6f-f2974e0b6662",
   "metadata": {},
   "outputs": [],
   "source": [
    "volume_number = 1\n",
    "manga = \"vinland-saga\""
   ]
  },
  {
   "cell_type": "code",
   "execution_count": 198,
   "id": "12bbe703-0967-473f-b58c-663e05afabd2",
   "metadata": {},
   "outputs": [
    {
     "name": "stdout",
     "output_type": "stream",
     "text": [
      "Extracting all pages from the volume...\n",
      "Total pages in volume: 465\n"
     ]
    }
   ],
   "source": [
    "# Initialize OpenAI client with API key\n",
    "client = OpenAI()\n",
    "# get elevenlabs api key from dotenv\n",
    "narration_client = AsyncElevenLabs(api_key=os.getenv(\"ELEVENLABS_API_KEY\"))\n",
    "\n",
    "print(\"Extracting all pages from the volume...\")\n",
    "volume_scaled_and_unscaled = extract_all_pages_as_images(f\"{manga}/v{volume_number}/v{volume_number}.pdf\")\n",
    "volume = volume_scaled_and_unscaled[\"scaled\"]\n",
    "volume_unscaled = volume_scaled_and_unscaled[\"full\"]\n",
    "print(\"Total pages in volume:\", len(volume))"
   ]
  },
  {
   "cell_type": "code",
   "execution_count": 199,
   "id": "4c35d189-d3d8-445e-ad4d-dc94060b4ea9",
   "metadata": {},
   "outputs": [
    {
     "name": "stdout",
     "output_type": "stream",
     "text": [
      "Identifying important pages in the volume...\n",
      "Using GPT as a backup to format JSON object...\n",
      "Processing pages 0 to 19\n",
      "[\n",
      "  {\n",
      "    \"image_index\": 2,\n",
      "    \"type\": \"chapter\"\n",
      "  },\n",
      "  {\n",
      "    \"image_index\": 4,\n",
      "    \"type\": \"profile\"\n",
      "  }\n",
      "]\n",
      "Using GPT as a backup to format JSON object...\n",
      "Processing pages 180 to 199\n",
      "[\n",
      "  {\n",
      "    \"image_index\": 14,\n",
      "    \"type\": \"chapter\"\n",
      "  }\n",
      "]\n",
      "Using GPT as a backup to format JSON object...\n",
      "Processing pages 160 to 179\n",
      "[\n",
      "  {\n",
      "    \"image_index\": 7,\n",
      "    \"type\": \"chapter\"\n",
      "  },\n",
      "  {\n",
      "    \"image_index\": 8,\n",
      "    \"type\": \"chapter\"\n",
      "  }\n",
      "]\n",
      "Using GPT as a backup to format JSON object...\n",
      "Using GPT as a backup to format JSON object...\n",
      "Processing pages 40 to 59\n",
      "[]\n",
      "Processing pages 200 to 219\n",
      "[\n",
      "  {\n",
      "    \"image_index\": 0,\n",
      "    \"type\": \"chapter\"\n",
      "  },\n",
      "  {\n",
      "    \"image_index\": 18,\n",
      "    \"type\": \"chapter\"\n",
      "  },\n",
      "  {\n",
      "    \"image_index\": 19,\n",
      "    \"type\": \"profile\"\n",
      "  }\n",
      "]\n",
      "Using GPT as a backup to format JSON object...\n",
      "Processing pages 220 to 239\n",
      "[\n",
      "  {\n",
      "    \"image_index\": 0,\n",
      "    \"type\": \"chapter\"\n",
      "  }\n",
      "]\n",
      "Using GPT as a backup to format JSON object...\n",
      "Using GPT as a backup to format JSON object...\n",
      "Processing pages 140 to 159\n",
      "[]\n",
      "Processing pages 80 to 99\n",
      "[\n",
      "  {\n",
      "    \"image_index\": 9,\n",
      "    \"type\": \"chapter\"\n",
      "  },\n",
      "  {\n",
      "    \"image_index\": 10,\n",
      "    \"type\": \"chapter\"\n",
      "  }\n",
      "]\n",
      "Using GPT as a backup to format JSON object...\n",
      "Processing pages 60 to 79\n",
      "[]\n",
      "Using GPT as a backup to format JSON object...\n",
      "Processing pages 100 to 119\n",
      "[]\n",
      "Using GPT as a backup to format JSON object...\n",
      "Using GPT as a backup to format JSON object...\n",
      "Processing pages 120 to 139\n",
      "[\n",
      "  {\n",
      "    \"image_index\": 10,\n",
      "    \"type\": \"chapter\"\n",
      "  },\n",
      "  {\n",
      "    \"image_index\": 12,\n",
      "    \"type\": \"chapter\"\n",
      "  }\n",
      "]\n",
      "Processing pages 240 to 259\n",
      "[\n",
      "  {\n",
      "    \"image_index\": 1,\n",
      "    \"type\": \"chapter\"\n",
      "  },\n",
      "  {\n",
      "    \"image_index\": 3,\n",
      "    \"type\": \"chapter\"\n",
      "  }\n",
      "]\n",
      "Using GPT as a backup to format JSON object...\n",
      "Processing pages 20 to 39\n",
      "[]\n",
      "Using GPT as a backup to format JSON object...\n",
      "Processing pages 260 to 279\n",
      "[\n",
      "  {\n",
      "    \"image_index\": 1,\n",
      "    \"type\": \"chapter\"\n",
      "  },\n",
      "  {\n",
      "    \"image_index\": 3,\n",
      "    \"type\": \"chapter\"\n",
      "  }\n",
      "]\n",
      "Using GPT as a backup to format JSON object...\n",
      "Processing pages 460 to 464\n",
      "[\n",
      "  {\n",
      "    \"image_index\": 3,\n",
      "    \"type\": \"chapter\"\n",
      "  },\n",
      "  {\n",
      "    \"image_index\": 4,\n",
      "    \"type\": \"profile\"\n",
      "  }\n",
      "]\n",
      "Using GPT as a backup to format JSON object...\n",
      "Using GPT as a backup to format JSON object...\n",
      "Processing pages 420 to 439\n",
      "[\n",
      "  {\n",
      "    \"image_index\": 2,\n",
      "    \"type\": \"profile\"\n",
      "  }\n",
      "]\n",
      "Using GPT as a backup to format JSON object...\n",
      "Processing pages 300 to 319\n",
      "[\n",
      "  {\n",
      "    \"image_index\": 4,\n",
      "    \"type\": \"chapter\"\n",
      "  }\n",
      "]\n",
      "Using GPT as a backup to format JSON object...\n",
      "Using GPT as a backup to format JSON object...\n",
      "Using GPT as a backup to format JSON object...\n",
      "Using GPT as a backup to format JSON object...\n",
      "Processing pages 380 to 399\n",
      "[\n",
      "  {\n",
      "    \"image_index\": 1,\n",
      "    \"type\": \"chapter\"\n",
      "  },\n",
      "  {\n",
      "    \"image_index\": 3,\n",
      "    \"type\": \"chapter\"\n",
      "  }\n",
      "]\n",
      "Using GPT as a backup to format JSON object...\n",
      "Processing pages 400 to 419\n",
      "[\n",
      "  {\n",
      "    \"image_index\": 1,\n",
      "    \"type\": \"chapter\"\n",
      "  },\n",
      "  {\n",
      "    \"image_index\": 19,\n",
      "    \"type\": \"chapter\"\n",
      "  }\n",
      "]\n",
      "Processing pages 320 to 339\n",
      "[\n",
      "  {\n",
      "    \"image_index\": 2,\n",
      "    \"type\": \"chapter\"\n",
      "  },\n",
      "  {\n",
      "    \"image_index\": 4,\n",
      "    \"type\": \"chapter\"\n",
      "  }\n",
      "]\n",
      "Processing pages 340 to 359\n",
      "[\n",
      "  {\n",
      "    \"image_index\": 2,\n",
      "    \"type\": \"chapter\"\n",
      "  },\n",
      "  {\n",
      "    \"image_index\": 3,\n",
      "    \"type\": \"chapter\"\n",
      "  }\n",
      "]\n",
      "Processing pages 280 to 299\n",
      "[\n",
      "  {\n",
      "    \"image_index\": 2,\n",
      "    \"type\": \"chapter\"\n",
      "  },\n",
      "  {\n",
      "    \"image_index\": 3,\n",
      "    \"type\": \"chapter\"\n",
      "  }\n",
      "]\n",
      "Using GPT as a backup to format JSON object...\n",
      "Processing pages 440 to 459\n",
      "[\n",
      "  {\n",
      "    \"image_index\": 4,\n",
      "    \"type\": \"chapter\"\n",
      "  }\n",
      "]\n",
      "Processing pages 360 to 379\n",
      "[\n",
      "  {\n",
      "    \"image_index\": 3,\n",
      "    \"type\": \"chapter\"\n",
      "  }\n",
      "]\n",
      "Total tokens to extract profiles and chapters: 67827\n",
      "\n",
      "__________\n",
      "\n",
      "Profile pages: [4, 219, 422, 464]\n",
      "Chapter pages: [2, 89, 90, 130, 132, 167, 168, 194, 200, 218, 220, 241, 243, 261, 263, 282, 283, 304, 322, 324, 342, 343, 363, 381, 383, 401, 419, 444, 463]\n"
     ]
    }
   ],
   "source": [
    "profile_reference = extract_all_pages_as_images(f\"{manga}/profile-reference.pdf\")[\"scaled\"]\n",
    "chapter_reference = extract_all_pages_as_images(f\"{manga}/chapter-reference.pdf\")[\"scaled\"]\n",
    "\n",
    "profile_pages = []\n",
    "chapter_pages = [] \n",
    "\n",
    "important_page_tokens = 0\n",
    "\n",
    "batch_size = 20\n",
    "\n",
    "print(\"Identifying important pages in the volume...\")\n",
    "# Function to wrap the detect_important_pages call\n",
    "def process_batch(start_idx, pages):\n",
    "    response = detect_important_pages(profile_reference, chapter_reference, pages, client,\n",
    "        KEY_PAGE_IDENTIFICATION_INSTRUCTIONS, KEY_PAGE_IDENTIFICATION_INSTRUCTIONS)\n",
    "    return start_idx, response\n",
    "\n",
    "# Using ThreadPoolExecutor to parallelize API calls\n",
    "with concurrent.futures.ThreadPoolExecutor() as executor:\n",
    "    futures = []\n",
    "    for i in range(0, len(volume), batch_size):\n",
    "        pages = volume[i:i+batch_size]\n",
    "        futures.append(executor.submit(process_batch, i, pages))\n",
    "\n",
    "    for future in concurrent.futures.as_completed(futures):\n",
    "        start_idx, response = future.result()\n",
    "        end_index = start_idx + batch_size - 1\n",
    "        print(f\"Processing pages {start_idx} to {min(end_index, len(volume)-1)}\")\n",
    "        \n",
    "        ip = response[\"parsed_response\"]\n",
    "        print(json.dumps(ip, indent=2))\n",
    "        for page in ip:\n",
    "            if page[\"type\"] == \"profile\":\n",
    "                profile_pages.append(page[\"image_index\"] + start_idx)\n",
    "            elif page[\"type\"] == \"chapter\":\n",
    "                chapter_pages.append(page[\"image_index\"] + start_idx)\n",
    "\n",
    "        important_page_tokens += response[\"total_tokens\"]\n",
    "\n",
    "profile_pages.sort()\n",
    "chapter_pages.sort()\n",
    "\n",
    "print(\"Total tokens to extract profiles and chapters:\", important_page_tokens)\n",
    "print(\"\\n__________\\n\")\n",
    "print(\"Profile pages:\", profile_pages)\n",
    "print(\"Chapter pages:\", chapter_pages)"
   ]
  },
  {
   "cell_type": "code",
   "execution_count": 200,
   "id": "780436d6-8bdc-4b04-a11d-348eb9638225",
   "metadata": {},
   "outputs": [
    {
     "name": "stdout",
     "output_type": "stream",
     "text": [
      "465\n",
      "\n",
      "__________\n",
      "\n",
      "Saving important pages to disk for QA...\n"
     ]
    }
   ],
   "source": [
    "print(f\"{len(volume)}\")\n",
    "print(\"\\n__________\\n\")\n",
    "print(\"Saving important pages to disk for QA...\")\n",
    "save_important_pages(volume, profile_pages, chapter_pages, manga, volume_number)"
   ]
  },
  {
   "cell_type": "code",
   "execution_count": 201,
   "id": "21d4ac09",
   "metadata": {},
   "outputs": [
    {
     "name": "stdout",
     "output_type": "stream",
     "text": [
      "2->89\n",
      "90->132\n",
      "133->194\n",
      "195->243\n",
      "244->304\n",
      "305->363\n",
      "364->419\n",
      "420->463\n",
      "464->end (465)\n",
      "\n",
      "\n",
      "\n",
      "_____________\n",
      "\n",
      "\n",
      "\n",
      "The scene unfolds amidst the cacophony of war, with fervent cries and the metallic clash of weapons echoing through the Frankish kingdom's territory. At the heart of the chaos, the young and relentless Thorfinn stands determined, harboring a fierce glint in his eyes and the burden of vengeful purpose against Askeladd, his commander[^6][^7][^8]. The battle rages on, with each side maneuvering for the upper hand. Amidst the fray, a plan unfurls as riders are dispatched to face the oncoming French army[^14][^15].\n",
      "\n",
      "With the snowfall heralding an inevitable siege, the villagers behind the fray carry dread in their hearts, while the warriors, including Thorfinn, station themselves strategically, surveying the opposing forces with a tactical eye[^12][^13]. Confident and mocking, Askeladd commands Thorfinn, who remains stoic and silently focused on his own pursuits of revenge[^16][^17].\n",
      "\n",
      "The tide of battle shifts unexpectedly as a \"messenger,\" Thorfinn in disguise, infiltrates the enemy's ranks. His lightning-quick reflexes cut through the air as he leaves his adversaries bewildered and in disarray with his surprising agility and skill[^19][^20][^21]. \"Can anyone here speak Norse?\" shouts Thorfinn as he unveils his true identity and purpose among the astonished soldiers[^22].\n",
      "\n",
      "Meanwhile, a deceptive strategy is laid bare as the French troops behold an uncanny sight—a ship approaching through the mountains, betraying their expectations[^23][^24]. The sieged city braces for a multifaceted assault, with enemies attacking from unexpected quarters. In a brilliant twist of military tactics, Askeladd's men descend from the hills, their ships riding the tidal wave of a river in full spate to flank the bewildered French garrison[^29][^30].\n",
      "\n",
      "Thorfinn, embodying the ferocity of a seasoned warrior despite his tender age, leaps into the heart of the conflict, swiftly and lethally executing his moves, leaving his enemies stunned, whispering in disbelief: \"Little devil...\"[^34][^35]. As the defenders mount a counterattack, Thorfinn's eyes, cold and full of intent, are undistracted from his true target—Askeladd. \"Prepare to die!\" he declares, his voice echoing the depth of his resolve[^37][^38].\n",
      "\n",
      "In a final, breathtaking gambit, ships emerge from the mist, and the battle reaches its crescendo. The warriors, with unparalleled valor, storm the city gates and unleash chaos upon the defenders. As the dust settles and silence falls upon the battlefield, it becomes clear that victory hangs on the edge of a knife[^50][^51][^52].\n",
      "\n",
      "With guile and the brute force of warriors, the fortress succumbs, yet amidst the spoils, a deeper strategy unfolds. Thorfinn, consumed with the need to avenge his father, confronts Askeladd, challenging him to a duel amidst the smoldering aftermath of their triumph[^79][^80]. As the two stand, interlocked in their personal vendetta, the curtain draws on Chapter 18, leaving the echoes of an age-old saga of war and retribution to linger in the air[^82][^83].\n",
      "\n",
      "\n",
      "\n",
      "_____________\n",
      "\n",
      "\n",
      "\n",
      "As the viking longships cut through the waves, the warriors of Askeladd's band find respite in the Danish village of Jelling. The village welcomes Askeladd like a hero, with villagers rushing to greet him and women lavishing him with affection[^5]. The prodigal son returns to luxurious feasts and the company of his devoted niece, whose respect for her uncle is evident despite his dismissive attitude towards affection[^6][^7].\n",
      "\n",
      "In the midst of celebrations, Askeladd's astuteness as a leader is revealed; his ability to provide for his men and maintain alliances with locals is key to their survival through the harsh winter[^8]. Discussions turn to the price of slaves and the value of gold, hinting at the complexities of the economic and social order within the Viking world[^9][^10].\n",
      "\n",
      "Unexpectedly, Thorfinn's request for a duel interrupts the merriment. Askeladd indulges the boy's desire for revenge, treating the duel as a mere annoyance before supper, brushing off Thorfinn's challenge as a distraction[^11]. The duel commences, and the villagers encircle the fighters, eager for entertainment[^12]. Thorfinn's agility and growth as a warrior are on full display; he is swifter and more deadly than ever before[^15]. Yet, Askeladd remains unimpressed, goading Thorfinn with references to his late father, Thors[^16].\n",
      "\n",
      "The battle intensifies, with Thorfinn launching a ferocious attack. Askeladd, however, remains in control, seizing an opportunity to overtake Thorfinn using his cunning rather than brute force[^21]. It becomes clear that Askeladd honors the memory of Thorfinn's father, even as he brutally teaches Thorfinn a lesson in the harsh realities of their world[^22][^23].\n",
      "\n",
      "In the aftermath of the duel, Askeladd's casual demeanor returns, and he retreats to his feast. Thorfinn, broken and humiliated, stays on the ship, pondering the path of vengeance and the true meaning of being a warrior—as reflected on by the quiet image of his father[^24][^25].\n",
      "\n",
      "The scene transitions to Thorfinn's quiet contemplation with the girl slave, reflecting on freedom, choice, and the possibility of a world without war or slavery—a land of peace[^26][^27][^28]. The memory of Thors instills a dream of Vinland, a distant place free from the strife of their current lives, filling young Thorfinn with wonder[^30].\n",
      "\n",
      "The chapter closes with a grand image—a relentless storm that bears upon new adventurers, as a towering wave is conquered by the fearless explorer Leif Erikson, setting his sights on Vinland, heralding the unknown challenges and promises of \"the land of pastures\" beyond the edge of the sea[^33].\n",
      "\n",
      "\n",
      "\n",
      "_____________\n",
      "\n",
      "\n",
      "\n",
      "In the harsh climes of Iceland, the perseverance of the Vikings is put to the test. Leif Erikson returns, heralding tales of fertile lands to the West—Vinland, free from the bindings of slavery and war[^3][^4]. His stories fuel the imaginations of the children, particularly Thorfinn, who dreams of such lands[^6].\n",
      "\n",
      "However, the severity of the Icelandic winter does not relent, with the villagers struggling to maintain their livestock and safeguard their survival[^10][^11]. Thorfinn, under the guidance of Leif Erikson, internalizes the hardships of his people, comparing them to the warmth and abundance promised by Vinland[^12][^13]. \n",
      "\n",
      "Turmoil strikes as a half-drowned man is discovered on the shore, and Thorfinn's sister, Ylva, renders aid, setting aside her grief for her lost father to act with compassion[^17][^18][^20]. Questions arise about the stranger's origins, with suspicions cast on whether his tales of woe are as genuine as the depths of the sea from which he emerged[^23][^24].\n",
      "\n",
      "The plot thickens with the arrival of Halfdan, a powerful chieftain, demanding the return of the rescued man—the half-dead is revealed to be a runaway slave[^26][^27]. Invoking his ownership, Halfdan's word seems law, but Leif Erikson's wisdom offers a different path, and a subtle negotiation unfolds as the price of freedom hangs in the balance[^29][^30][^31].\n",
      "\n",
      "Thorfinn's father, Thors, becomes the cornerstone of the discussion, with his legacy influencing Leif's words and actions. With a heartfelt deal, four sheep are exchanged for a man's life, cutting the bonds of servitude[^33][^34][^35]. In a somber moment, the grave truths of life's fragility and the value of each soul are laid bare[^38][^39].\n",
      "\n",
      "As the chapter concludes, the enduring whispers of Vinland call to those who dare to dream, with the mighty Leif standing as a beacon on the precipice of a new dawn, inspiring the generation to follow[^40]. With a newfound resolve, the Vikings reconcile with the strain of living in an unforgiving land and look toward the horizon, where hope for a brighter future might just be within reach[^41].\n",
      "\n",
      "\n",
      "\n",
      "_____________\n",
      "\n",
      "\n",
      "\n",
      "In a tranquil respite from the ferocity of battle, Makoto Yukimura, the masterful artist behind Vinland Saga, pays homage to the idyllic yet treacherous Viking way of life. Through a humorous interlude, a faux Viking exclaims, \"Gimme all yer money!\" quickly undermined by the reality of needing to \"put out our laundry...\"[^1].\n",
      "\n",
      "Transitioning from the lighthearted to the profound, Yukimura imparts a reflection on the etymological origins of \"viking.” These Northmen who pirated, raided, and ventured in search of fertile lands, all while dreaming and loving like any other[^3].\n",
      "\n",
      "The narrative then sails briskly forward to November 13th, 1002 A.D. A village bathes, unaware of the approaching doom. Suddenly, the tranquility shatters—a messenger hastens to announce an imminent enemy attack, and in an instant, war cries fill the air, spears are brandished, and chaos erupts with the battle cry, \"BURN IT ALL DOWN!\" severing any pretense of peace[^4][^5][^7].\n",
      "\n",
      "The onslaught is relentless—a once peaceful settlement becomes prey to the Viking horde. Within Norway, a boat departs under Leif's guidance into an uncertain future. The conversation swiftly turns to fate and war as Thors Teskalsson, known as \"Troll,\" is reluctantly recruited by Floki of the Jomsvikings. His legendary prowess in battle now summoned for war against England under the Danes[^10][^15][^21][^22].\n",
      "\n",
      "As Thors grapples with his destiny, he reflects, \"If I run in this battle, the 'Troll' will never be able to live as a bit better man...\"[^23]. Duty calls, and Thors faces his past—a past drenched in bloodshed, a life once forsaken for the serenity of family and a humble existence[^25][^26]. His soul, however, is not at ease, and the clarion call of war lingers ominously[^27][^28].\n",
      "\n",
      "In the closing scenes, children emulate the warriors they idolize, oblivious to the brutality of their games. Thorfinn emerges victorious, but his expression is hollow—a harbinger of the trials ahead. This loss of innocence underscores a grim reality: their lives are forever interwoven with the specter of conflict[^30][^31][^32].\n",
      "\n",
      "The chapter ends as it began, peaceful yet poised on the brink of destruction, as the Viking longships set forth, their sails filled with the cold northern winds, charting a course for the relentless theater of war[^17]. With each stroke of the oar, they cleave the icy waters, their journey a testament to the indomitable spirit of the Northmen, eternally driven by the promise and perils of the sword[^18].\n",
      "\n",
      "\n",
      "\n",
      "_____________\n",
      "\n",
      "\n",
      "\n",
      "In the frigid heartland of a Viking village, young Thorfinn craves the excitement of battle. With eyes full of eagerness, he watches the warriors prepare, utterly absorbed by their might and valor[^1]. The children play roughly, emulating the adults' prowess, but when Thorfinn, filled with the fiery spirit of a warrior, wins the scuffle, the atmosphere shifts[^2]. Leif looks on, noting Thorfinn's born talent as a fighter—a harbinger of the tempest that brews within the boy[^3].\n",
      "\n",
      "Confronted with his son's burgeoning bloodlust, Thors presents him with a sleek, impressively-crafted helm, as if to acknowledge the inevitable path Thorfinn is embarking upon[^4]. The child, enticed by the call of the battlefield, begs, \"Check this out, Pa! Really, look at me!\" But there's an undercurrent of melancholy, for these innocent pleas are tinged with the gravity of a future forged in steel and strife[^5].\n",
      "\n",
      "Meanwhile, inside their home, Thorfinn's sister, Ylva, scolds him for his carelessness, underscoring the stark contrast between domestic life and the violent games played outside[^6]. Thorfinn, ever relentless, secretly searches for a weapon, his soul already enchanted by the promise of a sword—a silent vow to enter the grown-ups' world[^7][^8].\n",
      "\n",
      "The gravity of Thorfinn's silent declaration becomes apparent when he finds a fallen warrior and, with trepidation, takes up his sword. It is shiny, inviting—and heavy with significance[^9][^10][^11]. Thors, witnessing his son's inner turmoil, confronts him gently yet firmly, reminding Thorfinn that \"You have no enemies. No one has any enemies. There should be no one...\"[^15]. But in the stubbornness of youth, Thorfinn's mind wrestles with his father's idealistic vision and the visceral allure of vengeance[^16].\n",
      "\n",
      "Thorfinn's struggle between childhood aspirations and the grounded wisdom of his elders reaches a crescendo when Thors faces the somber reality. He prepares for a journey from which he may never return, leaving his family and a son who still dreams of battles yet fought[^17][^18]. The chapter closes with Thorfinn's silent gaze upon the sea, a vast expanse teeming with both peril and promise, as the Vikings' oars slice through the icy waters[^19][^20].\n",
      "\n",
      "Dawn breaks, and a new chapter unfolds. Thors and his men set sail for what may be their last mission, a journey tinged with both hope and foreboding. As the sail unfurls, Thorfinn's absence sends ripples of confusion among the crew[^21]. The revelation hits—Thorfinn has stowed away, unbeknownst to his father[^22]. His eyes are set on adventure, even as the harsh winds of fate blow strong around him. \"Man oars!\" the warriors cry, pushing forward into the unyielding current of destiny[^23].\n",
      "\n",
      "And so, Chapter 8 concludes with the image of a longship braving the open sea, bound for England's shores, carrying a crew of stalwart souls and a young boy cloaked in the shadow of a future teeming with the echoes of war and the stark reality of the Viking saga[^24].\n",
      "\n",
      "\n",
      "\n",
      "_____________\n",
      "\n",
      "\n",
      "\n",
      "Sailing through the abyssal night, Thors's crew strains to see through the enveloping darkness, with Leif expertly navigating by the stars alone[^1]. The men brace themselves, sensing foreboding winds that signal the start of a tempest[^2]. Amidst the ocean's roar, a young Thorfinn, unbeknownst to his father, hides below, stowing away for the adventure of a lifetime[^5].\n",
      "\n",
      "The storm strikes with fury, and the ships, caught in its wrath, scatter helplessly[^9]. Leif's experience as a sailor shines through the maelstrom, as he remains calm, expertly guiding the crew[^2]. Yet when they approach the Faroe Islands, something feels amiss. The houses on the shore are few and far between—a stark contrast to Leif's memories of the settlement[^16]. As the ominous sense of deceit becomes palpable, Thors's ship is bombarded by a barrage of falling logs, a deadly trap set by unseen assailants[^18][^19].\n",
      "\n",
      "The ambush is revealed as Thors's ship is ensnared between towering cliffs—the enemy is upon them, a legion of merciless warriors who have lured them into a deadly snare[^22]. With the realization that they are facing none other than the notorious Jomsvikings, Thors's past collides with the present in a violent outpouring of fate[^25].\n",
      "\n",
      "A colossal fight ensues, with Thors, the legendary warrior, standing tall amidst the mayhem, his prowess in battle as dreadful and breathtaking as the storm's fury[^26]. Surrounded by enemies, Thors instructs Thorfinn, \"Only use it to protect yourself when it's absolutely necessary...\" as he hands his son the helm, a symbol of his burgeoning journey from boy to shield-bearer[^29].\n",
      "\n",
      "The bloodthirsty Jomsvikings show no mercy, yet they are awed by the might of Thors, who wields not a sword, but sheer force to repel their assault[^31]. \"Troll of Jom,\" they whisper, as each adversary falls before his indomitable strength[^34]. Even in the chaos of battle, Thors remains steadfast, his every move a testament to his moniker—more than a monster, a legend brought to life[^35].\n",
      "\n",
      "Thors's valor offers a fleeting hope of victory, but as the enemy regroups and Bjorn, their berserker, explodes into a frenetic fury, the tide turns once more[^37]. The men fight with the ferocity of wolves, Thors's every move grappling with not just foes but the weight of his choices, his legacy, and the world he wishes for his son[^40].\n",
      "\n",
      "In a shocking twist of honor among warriors, Thors calls for a halt to the bloodshed, offering himself in exchange for the lives of his men and the protection of his son, his will unbroken even in the face of overwhelming odds[^43]. The chapter climaxes with Thors's stunning gambit, his surrender leaving the enemy and his own men in disbelief, as the magnanimity of the \"Troll of Jom\" eclipses the din of battle and the snarl of the storm[^44].\n",
      "\n",
      "\n",
      "\n",
      "_____________\n",
      "\n",
      "\n",
      "\n",
      "Amid the suspense of a volatile standoff, Thors, the enigmatic and formidable \"Troll of Jom,\" confronts his fate on the decks of his ship, surrounded by the formidable Jomsvikings and his own bewildered crew[^1]. His son, Thorfinn, watches with veiled trepidation as Thors, stoic and unyielding, accepts the challenge of a duel to the death[^4]. \n",
      "\n",
      "Floki, leader of the Jomsvikings, goads Thors, questioning his courage and resolve, to which Thors responds with ironclad conviction, \"Begone, fritters. You cannot defeat me.\" His presence is an unspoken threat, an assurance that even in the darkest hour, valor remains[^1]. \n",
      "\n",
      "As the duel unfolds, Thors's sheer might is revealed—he moves with a grace and power that belies his stature. The atmosphere is electric, charged with the anticipation of a clash between titans[^14]. With a force that shakes the very vessel they stand upon, Thors disarms his opponent, Askeladd, sending a clear message of his unmatched prowess[^22].\n",
      "\n",
      "However, it's not only Thors's strength that captivates the onlookers; his son is also engulfed by the unfolding drama, witnessing his father's indomitable spirit[^32]. The combatants exchange fierce blows, their swords singing a deadly harmony that resonates across the ship[^28]. \n",
      "\n",
      "In a decisive moment that sears itself into the memories of all present, Thors stands unassailable, his resolve as unbreakable as his famed helm. With a heart heavy with sorrow, yet clear with purpose, Thors claims victory. But it is hollow, for all he truly desires is freedom for his men and protection for his son. Askeladd acknowledges his defeat grudgingly, but with respect[^47][^50].\n",
      "\n",
      "The battle's climax echoes Thorfinn's adoration, chanting \"Father!!\" as Thors's mighty figure overshadows their adversaries, securing the safety of his crew and solidifying his legend[^53]. Thus, Chapter 15 concludes with the fall of the sword and the rise of a true warrior—a man who wields his strength not for glory, but for the bond of family and the chance at peace[^54].\n",
      "\n",
      "\n",
      "\n",
      "_____________\n",
      "\n",
      "\n",
      "\n",
      "The profound tragedy of Thors's death unravels as he stands, pierced by a forest of arrows; his figure a stark emblem of his unwavering honor and a poignant testament to the cost of true courage[^16]. Thorfinn, bearing witness to this harrowing moment, can barely comprehend the gravity as he cries out, \"Father!\" His innocence shatters amidst the grim tableau of sacrifice[^18].\n",
      "\n",
      "Askeladd, the orchestrator of this cruel fate, acknowledges Thors's triumph, even in death, compelling him to \"Understand... I swear by my ancestors. Artorius...\"—a solemn vow to uphold the warrior's last wishes[^20]. The Jomsvikings, stoic and resolute, stand as grim spectators to the somber pact[^22].\n",
      "\n",
      "In a final, insidious betrayal, Askeladd commands, \"Do it. Drop the boy.\" Thorfinn plummets into the icy abyss, his tiny, desperate voice echoing his father’s name. The cold sea embraces him, and so ends Thors's saga, with his mighty legacy cradled in the young, vengeful heart of his son[^25][^26].\n",
      "\n",
      "As the Viking ships sail away, carrying Thors's body and his comrades, Thorfinn, alone and adrift, is consumed by an incendiary rage that promises vengeance: \"I swear I'll kill you. I'll kill you!!\"^28]. His father, the man of no enemies, leaves a legacy marred by unresolved anguish, setting Thorfinn on a dark path fueled by retribution[^32].\n",
      "\n",
      "In the poignant aftermath, the night envelopes all, and the vast sea, indifferent to mortal woes, quietly absorbs the echoes of the fallen warrior and the birth cries of a vengeful shadow[^33].\n",
      "\n",
      "\n",
      "\n",
      "_____________\n",
      "\n",
      "\n",
      "\n",
      "Amidst the bleak expanse of the sea and the merciless winds, Thorfinn's journey with the war band of Askeladd unfolds on a somber map scattered with bloodshed and battles. His tireless pursuit, from his native Iceland to the shores of England, paints a bitter trail of vengeance stretching far across the frigid North Atlantic[^1]. Every mark on the map, from Thorfinn's village to the Frankish lands, echoes the relentless cadence of his grim sojourn—each location a stark reminder of violence endured and the will to persist.\n",
      "\n",
      "The page reveals not just the vast distances traversed but the transformation within Thorfinn, etching the scars of countless skirmishes into his very soul. As the map spans the pivotal points of his travels, one can almost hear the clash of steel and the cries of warriors in resonance with each name etched upon the parchment[^1].\n",
      "\n",
      "An inconspicuous 'X' marks the village of Thorfinn, an origin now synonymous with both loss and the fierce determination of a boy grown too soon into the grim reality of a warrior's life[^1]. Across the wintry waters, the Faroe Islands, England, and a trail that winds like the path of destiny, the journey of Thorfinn coalesces into a legacy written not in ink, but in the blood of foes and the indelible memories of struggle, sacrifice, and the undying flame of revenge[^1].\n",
      "\n",
      "\n",
      "\n",
      "_____________\n",
      "\n",
      "\n",
      "\n",
      "\n",
      "\n",
      "\n",
      "_____________\n",
      "\n",
      "\n",
      "\n",
      "\n",
      "\n",
      "\n",
      "_____________\n",
      "\n",
      "\n",
      "\n",
      "The scene unfolds amidst the cacophony of war, with fervent cries and the metallic clash of weapons echoing through the Frankish kingdom's territory. At the heart of the chaos, the young and relentless Thorfinn stands determined, harboring a fierce glint in his eyes and the burden of vengeful purpose against Askeladd, his commander.The battle rages on, with each side maneuvering for the upper hand. Amidst the fray, a plan unfurls as riders are dispatched to face the oncoming French army.With the snowfall heralding an inevitable siege, the villagers behind the fray carry dread in their hearts, while the warriors, including Thorfinn, station themselves strategically, surveying the opposing forces with a tactical eye.Confident and mocking, Askeladd commands Thorfinn, who remains stoic and silently focused on his own pursuits of revenge.The tide of battle shifts unexpectedly as a \"messenger,\" Thorfinn in disguise, infiltrates the enemy's ranks. His lightning-quick reflexes cut through the air as he leaves his adversaries bewildered and in disarray with his surprising agility and skill.\"Can anyone here speak Norse?\" shouts Thorfinn as he unveils his true identity and purpose among the astonished soldiers.Meanwhile, a deceptive strategy is laid bare as the French troops behold an uncanny sight—a ship approaching through the mountains, betraying their expectations.The sieged city braces for a multifaceted assault, with enemies attacking from unexpected quarters. In a brilliant twist of military tactics, Askeladd's men descend from the hills, their ships riding the tidal wave of a river in full spate to flank the bewildered French garrison.Thorfinn, embodying the ferocity of a seasoned warrior despite his tender age, leaps into the heart of the conflict, swiftly and lethally executing his moves, leaving his enemies stunned, whispering in disbelief: \"Little devil...\".As the defenders mount a counterattack, Thorfinn's eyes, cold and full of intent, are undistracted from his true target—Askeladd. \"Prepare to die!\" he declares, his voice echoing the depth of his resolve.In a final, breathtaking gambit, ships emerge from the mist, and the battle reaches its crescendo. The warriors, with unparalleled valor, storm the city gates and unleash chaos upon the defenders. As the dust settles and silence falls upon the battlefield, it becomes clear that victory hangs on the edge of a knife.With guile and the brute force of warriors, the fortress succumbs, yet amidst the spoils, a deeper strategy unfolds. Thorfinn, consumed with the need to avenge his father, confronts Askeladd, challenging him to a duel amidst the smoldering aftermath of their triumph.As the two stand, interlocked in their personal vendetta, the curtain draws on Chapter 18, leaving the echoes of an age-old saga of war and retribution to linger in the air.As the viking longships cut through the waves, the warriors of Askeladd's band find respite in the Danish village of Jelling. The village welcomes Askeladd like a hero, with villagers rushing to greet him and women lavishing him with affection.The prodigal son returns to luxurious feasts and the company of his devoted niece, whose respect for her uncle is evident despite his dismissive attitude towards affection.In the midst of celebrations, Askeladd's astuteness as a leader is revealed; his ability to provide for his men and maintain alliances with locals is key to their survival through the harsh winter.Discussions turn to the price of slaves and the value of gold, hinting at the complexities of the economic and social order within the Viking world.Unexpectedly, Thorfinn's request for a duel interrupts the merriment. Askeladd indulges the boy's desire for revenge, treating the duel as a mere annoyance before supper, brushing off Thorfinn's challenge as a distraction.The duel commences, and the villagers encircle the fighters, eager for entertainment.Thorfinn's agility and growth as a warrior are on full display; he is swifter and more deadly than ever before.Yet, Askeladd remains unimpressed, goading Thorfinn with references to his late father, Thors.The battle intensifies, with Thorfinn launching a ferocious attack. Askeladd, however, remains in control, seizing an opportunity to overtake Thorfinn using his cunning rather than brute force.It becomes clear that Askeladd honors the memory of Thorfinn's father, even as he brutally teaches Thorfinn a lesson in the harsh realities of their world.In the aftermath of the duel, Askeladd's casual demeanor returns, and he retreats to his feast. Thorfinn, broken and humiliated, stays on the ship, pondering the path of vengeance and the true meaning of being a warrior—as reflected on by the quiet image of his father.The scene transitions to Thorfinn's quiet contemplation with the girl slave, reflecting on freedom, choice, and the possibility of a world without war or slavery—a land of peace.The memory of Thors instills a dream of Vinland, a distant place free from the strife of their current lives, filling young Thorfinn with wonder.The chapter closes with a grand image—a relentless storm that bears upon new adventurers, as a towering wave is conquered by the fearless explorer Leif Erikson, setting his sights on Vinland, heralding the unknown challenges and promises of \"the land of pastures\" beyond the edge of the sea.In the harsh climes of Iceland, the perseverance of the Vikings is put to the test. Leif Erikson returns, heralding tales of fertile lands to the West—Vinland, free from the bindings of slavery and war.His stories fuel the imaginations of the children, particularly Thorfinn, who dreams of such lands.However, the severity of the Icelandic winter does not relent, with the villagers struggling to maintain their livestock and safeguard their survival.Thorfinn, under the guidance of Leif Erikson, internalizes the hardships of his people, comparing them to the warmth and abundance promised by Vinland.Turmoil strikes as a half-drowned man is discovered on the shore, and Thorfinn's sister, Ylva, renders aid, setting aside her grief for her lost father to act with compassion.Questions arise about the stranger's origins, with suspicions cast on whether his tales of woe are as genuine as the depths of the sea from which he emerged.The plot thickens with the arrival of Halfdan, a powerful chieftain, demanding the return of the rescued man—the half-dead is revealed to be a runaway slave.Invoking his ownership, Halfdan's word seems law, but Leif Erikson's wisdom offers a different path, and a subtle negotiation unfolds as the price of freedom hangs in the balance.Thorfinn's father, Thors, becomes the cornerstone of the discussion, with his legacy influencing Leif's words and actions. With a heartfelt deal, four sheep are exchanged for a man's life, cutting the bonds of servitude.In a somber moment, the grave truths of life's fragility and the value of each soul are laid bare.As the chapter concludes, the enduring whispers of Vinland call to those who dare to dream, with the mighty Leif standing as a beacon on the precipice of a new dawn, inspiring the generation to follow.With a newfound resolve, the Vikings reconcile with the strain of living in an unforgiving land and look toward the horizon, where hope for a brighter future might just be within reach.In a tranquil respite from the ferocity of battle, Makoto Yukimura, the masterful artist behind Vinland Saga, pays homage to the idyllic yet treacherous Viking way of life. Through a humorous interlude, a faux Viking exclaims, \"Gimme all yer money!\" quickly undermined by the reality of needing to \"put out our laundry...\".Transitioning from the lighthearted to the profound, Yukimura imparts a reflection on the etymological origins of \"viking.” These Northmen who pirated, raided, and ventured in search of fertile lands, all while dreaming and loving like any other.The narrative then sails briskly forward to November 13th, 1002 A.D. A village bathes, unaware of the approaching doom. Suddenly, the tranquility shatters—a messenger hastens to announce an imminent enemy attack, and in an instant, war cries fill the air, spears are brandished, and chaos erupts with the battle cry, \"BURN IT ALL DOWN!\" severing any pretense of peace.The onslaught is relentless—a once peaceful settlement becomes prey to the Viking horde. Within Norway, a boat departs under Leif's guidance into an uncertain future. The conversation swiftly turns to fate and war as Thors Teskalsson, known as \"Troll,\" is reluctantly recruited by Floki of the Jomsvikings. His legendary prowess in battle now summoned for war against England under the Danes.As Thors grapples with his destiny, he reflects, \"If I run in this battle, the 'Troll' will never be able to live as a bit better man...\".Duty calls, and Thors faces his past—a past drenched in bloodshed, a life once forsaken for the serenity of family and a humble existence.His soul, however, is not at ease, and the clarion call of war lingers ominously.In the closing scenes, children emulate the warriors they idolize, oblivious to the brutality of their games. Thorfinn emerges victorious, but his expression is hollow—a harbinger of the trials ahead. This loss of innocence underscores a grim reality: their lives are forever interwoven with the specter of conflict.The chapter ends as it began, peaceful yet poised on the brink of destruction, as the Viking longships set forth, their sails filled with the cold northern winds, charting a course for the relentless theater of war.With each stroke of the oar, they cleave the icy waters, their journey a testament to the indomitable spirit of the Northmen, eternally driven by the promise and perils of the sword.In the frigid heartland of a Viking village, young Thorfinn craves the excitement of battle. With eyes full of eagerness, he watches the warriors prepare, utterly absorbed by their might and valor.The children play roughly, emulating the adults' prowess, but when Thorfinn, filled with the fiery spirit of a warrior, wins the scuffle, the atmosphere shifts.Leif looks on, noting Thorfinn's born talent as a fighter—a harbinger of the tempest that brews within the boy.Confronted with his son's burgeoning bloodlust, Thors presents him with a sleek, impressively-crafted helm, as if to acknowledge the inevitable path Thorfinn is embarking upon.The child, enticed by the call of the battlefield, begs, \"Check this out, Pa! Really, look at me!\" But there's an undercurrent of melancholy, for these innocent pleas are tinged with the gravity of a future forged in steel and strife.Meanwhile, inside their home, Thorfinn's sister, Ylva, scolds him for his carelessness, underscoring the stark contrast between domestic life and the violent games played outside.Thorfinn, ever relentless, secretly searches for a weapon, his soul already enchanted by the promise of a sword—a silent vow to enter the grown-ups' world.The gravity of Thorfinn's silent declaration becomes apparent when he finds a fallen warrior and, with trepidation, takes up his sword. It is shiny, inviting—and heavy with significance.Thors, witnessing his son's inner turmoil, confronts him gently yet firmly, reminding Thorfinn that \"You have no enemies. No one has any enemies. There should be no one...\".But in the stubbornness of youth, Thorfinn's mind wrestles with his father's idealistic vision and the visceral allure of vengeance.Thorfinn's struggle between childhood aspirations and the grounded wisdom of his elders reaches a crescendo when Thors faces the somber reality. He prepares for a journey from which he may never return, leaving his family and a son who still dreams of battles yet fought.The chapter closes with Thorfinn's silent gaze upon the sea, a vast expanse teeming with both peril and promise, as the Vikings' oars slice through the icy waters.Dawn breaks, and a new chapter unfolds. Thors and his men set sail for what may be their last mission, a journey tinged with both hope and foreboding. As the sail unfurls, Thorfinn's absence sends ripples of confusion among the crew.The revelation hits—Thorfinn has stowed away, unbeknownst to his father.His eyes are set on adventure, even as the harsh winds of fate blow strong around him. \"Man oars!\" the warriors cry, pushing forward into the unyielding current of destiny.And so, Chapter 8 concludes with the image of a longship braving the open sea, bound for England's shores, carrying a crew of stalwart souls and a young boy cloaked in the shadow of a future teeming with the echoes of war and the stark reality of the Viking saga.Sailing through the abyssal night, Thors's crew strains to see through the enveloping darkness, with Leif expertly navigating by the stars alone.The men brace themselves, sensing foreboding winds that signal the start of a tempest.Amidst the ocean's roar, a young Thorfinn, unbeknownst to his father, hides below, stowing away for the adventure of a lifetime.The storm strikes with fury, and the ships, caught in its wrath, scatter helplessly.Leif's experience as a sailor shines through the maelstrom, as he remains calm, expertly guiding the crew.Yet when they approach the Faroe Islands, something feels amiss. The houses on the shore are few and far between—a stark contrast to Leif's memories of the settlement.As the ominous sense of deceit becomes palpable, Thors's ship is bombarded by a barrage of falling logs, a deadly trap set by unseen assailants.The ambush is revealed as Thors's ship is ensnared between towering cliffs—the enemy is upon them, a legion of merciless warriors who have lured them into a deadly snare.With the realization that they are facing none other than the notorious Jomsvikings, Thors's past collides with the present in a violent outpouring of fate.A colossal fight ensues, with Thors, the legendary warrior, standing tall amidst the mayhem, his prowess in battle as dreadful and breathtaking as the storm's fury.Surrounded by enemies, Thors instructs Thorfinn, \"Only use it to protect yourself when it's absolutely necessary...\" as he hands his son the helm, a symbol of his burgeoning journey from boy to shield-bearer.The bloodthirsty Jomsvikings show no mercy, yet they are awed by the might of Thors, who wields not a sword, but sheer force to repel their assault.\"Troll of Jom,\" they whisper, as each adversary falls before his indomitable strength.Even in the chaos of battle, Thors remains steadfast, his every move a testament to his moniker—more than a monster, a legend brought to life.Thors's valor offers a fleeting hope of victory, but as the enemy regroups and Bjorn, their berserker, explodes into a frenetic fury, the tide turns once more.The men fight with the ferocity of wolves, Thors's every move grappling with not just foes but the weight of his choices, his legacy, and the world he wishes for his son.In a shocking twist of honor among warriors, Thors calls for a halt to the bloodshed, offering himself in exchange for the lives of his men and the protection of his son, his will unbroken even in the face of overwhelming odds.The chapter climaxes with Thors's stunning gambit, his surrender leaving the enemy and his own men in disbelief, as the magnanimity of the \"Troll of Jom\" eclipses the din of battle and the snarl of the storm.Amid the suspense of a volatile standoff, Thors, the enigmatic and formidable \"Troll of Jom,\" confronts his fate on the decks of his ship, surrounded by the formidable Jomsvikings and his own bewildered crew.His son, Thorfinn, watches with veiled trepidation as Thors, stoic and unyielding, accepts the challenge of a duel to the death.Floki, leader of the Jomsvikings, goads Thors, questioning his courage and resolve, to which Thors responds with ironclad conviction, \"Begone, fritters. You cannot defeat me.\" His presence is an unspoken threat, an assurance that even in the darkest hour, valor remains.As the duel unfolds, Thors's sheer might is revealed—he moves with a grace and power that belies his stature. The atmosphere is electric, charged with the anticipation of a clash between titans.With a force that shakes the very vessel they stand upon, Thors disarms his opponent, Askeladd, sending a clear message of his unmatched prowess.However, it's not only Thors's strength that captivates the onlookers; his son is also engulfed by the unfolding drama, witnessing his father's indomitable spirit.The combatants exchange fierce blows, their swords singing a deadly harmony that resonates across the ship.In a decisive moment that sears itself into the memories of all present, Thors stands unassailable, his resolve as unbreakable as his famed helm. With a heart heavy with sorrow, yet clear with purpose, Thors claims victory. But it is hollow, for all he truly desires is freedom for his men and protection for his son. Askeladd acknowledges his defeat grudgingly, but with respect.The battle's climax echoes Thorfinn's adoration, chanting \"Father!!\" as Thors's mighty figure overshadows their adversaries, securing the safety of his crew and solidifying his legend.Thus, Chapter 15 concludes with the fall of the sword and the rise of a true warrior—a man who wields his strength not for glory, but for the bond of family and the chance at peace.The profound tragedy of Thors's death unravels as he stands, pierced by a forest of arrows; his figure a stark emblem of his unwavering honor and a poignant testament to the cost of true courage.Thorfinn, bearing witness to this harrowing moment, can barely comprehend the gravity as he cries out, \"Father!\" His innocence shatters amidst the grim tableau of sacrifice.Askeladd, the orchestrator of this cruel fate, acknowledges Thors's triumph, even in death, compelling him to \"Understand... I swear by my ancestors. Artorius...\"—a solemn vow to uphold the warrior's last wishes.The Jomsvikings, stoic and resolute, stand as grim spectators to the somber pact.In a final, insidious betrayal, Askeladd commands, \"Do it. Drop the boy.\" Thorfinn plummets into the icy abyss, his tiny, desperate voice echoing his father’s name. The cold sea embraces him, and so ends Thors's saga, with his mighty legacy cradled in the young, vengeful heart of his son.As the Viking ships sail away, carrying Thors's body and his comrades, Thorfinn, alone and adrift, is consumed by an incendiary rage that promises vengeance: \"I swear I'll kill you. I'll kill you!!\"^28]. His father, the man of no enemies, leaves a legacy marred by unresolved anguish, setting Thorfinn on a dark path fueled by retribution.In the poignant aftermath, the night envelopes all, and the vast sea, indifferent to mortal woes, quietly absorbs the echoes of the fallen warrior and the birth cries of a vengeful shadow.Amidst the bleak expanse of the sea and the merciless winds, Thorfinn's journey with the war band of Askeladd unfolds on a somber map scattered with bloodshed and battles. His tireless pursuit, from his native Iceland to the shores of England, paints a bitter trail of vengeance stretching far across the frigid North Atlantic. Every mark on the map, from Thorfinn's village to the Frankish lands, echoes the relentless cadence of his grim sojourn—each location a stark reminder of violence endured and the will to persist.\n",
      "\n",
      "The page reveals not just the vast distances traversed but the transformation within Thorfinn, etching the scars of countless skirmishes into his very soul. As the map spans the pivotal points of his travels, one can almost hear the clash of steel and the cries of warriors in resonance with each name etched upon the parchment. An inconspicuous 'X' marks the village of Thorfinn, an origin now synonymous with both loss and the fierce determination of a boy grown too soon into the grim reality of a warrior's life. Across the wintry waters, the Faroe Islands, England, and a trail that winds like the path of destiny, the journey of Thorfinn coalesces into a legacy written not in ink, but in the blood of foes and the indelible memories of struggle, sacrifice, and the undying flame of revenge.\n",
      "\n",
      "___________\n",
      "\n"
     ]
    }
   ],
   "source": [
    "character_profiles = [volume[i] for i in profile_pages]    \n",
    "jobs = split_volume_into_parts(volume, volume_unscaled, chapter_pages, 9)\n",
    "parts = jobs[\"parts\"]\n",
    "jobs_unscaled = jobs[\"unscaled_images\"]\n",
    "jobs = jobs[\"scaled_images\"]\n",
    "\n",
    "# Summarize the images in the first job\n",
    "response = analyze_images_with_gpt4_vision(character_profiles, jobs[0], client, BASIC_PROMPT, BASIC_INSTRUCTIONS)\n",
    "recap = response.choices[0].message.content\n",
    "tokens = response.usage.total_tokens\n",
    "movie_script = extract_text_and_citations(response.choices[0].message.content, jobs[0], jobs_unscaled[0])\n",
    "\n",
    "print(\"\\n\\n\\n_____________\\n\\n\\n\")\n",
    "print(response.choices[0].message.content)\n",
    "\n",
    "# iterate thrugh the rest of the jobs while adding context from previous ones\n",
    "for i, job in enumerate(jobs):\n",
    "    if i == 0:\n",
    "        continue\n",
    "    response = analyze_images_with_gpt4_vision(character_profiles, job, client, recap + \"\\n-----\\n\" + BASIC_PROMPT_WITH_CONTEXT, BASIC_INSTRUCTIONS)\n",
    "    recap = recap + \"\\n\\n\" + response.choices[0].message.content\n",
    "    tokens += response.usage.total_tokens\n",
    "    print(\"\\n\\n\\n_____________\\n\\n\\n\")\n",
    "    print(response.choices[0].message.content)\n",
    "    movie_script = movie_script + extract_text_and_citations(response.choices[0].message.content, job, jobs_unscaled[i])\n",
    "\n",
    "print(\"\\n\\n\\n_____________\\n\\n\\n\")\n",
    "print(\"\\n\\n\\n_____________\\n\\n\\n\")\n",
    "print(\"\\n\\n\\n_____________\\n\\n\\n\")\n",
    "\n",
    "narration_script = extract_script(movie_script)\n",
    "print(narration_script)\n",
    "print(\"\\n___________\\n\")"
   ]
  },
  {
   "cell_type": "code",
   "execution_count": 202,
   "id": "f59dbd29",
   "metadata": {},
   "outputs": [
    {
     "name": "stdout",
     "output_type": "stream",
     "text": [
      "Load text detector ... Done!\n",
      "Number of unscaled images in segment: 1\n",
      "Loading images ... Number of images loaded: 1\n"
     ]
    },
    {
     "name": "stderr",
     "output_type": "stream",
     "text": [
      "Processing images: 1it [00:00, 16.21it/s]\n"
     ]
    },
    {
     "name": "stdout",
     "output_type": "stream",
     "text": [
      "Number of panels generated: 1\n",
      "Panels generated for text: The scene unfolds amidst the cacophony of war, with fervent cries and the metallic clash of weapons echoing through the Frankish kingdom's territory. At the heart of the chaos, the young and relentless Thorfinn stands determined, harboring a fierce glint in his eyes and the burden of vengeful purpose against Askeladd, his commander.\n",
      "Number of unscaled images in segment: 3\n",
      "Loading images ... Number of images loaded: 3\n"
     ]
    },
    {
     "name": "stderr",
     "output_type": "stream",
     "text": [
      "Processing images: 3it [00:00, 18.60it/s]\n"
     ]
    },
    {
     "name": "stdout",
     "output_type": "stream",
     "text": [
      "Number of panels generated: 3\n",
      "Panels generated for text: The battle rages on, with each side maneuvering for the upper hand. Amidst the fray, a plan unfurls as riders are dispatched to face the oncoming French army.\n",
      "Number of unscaled images in segment: 2\n",
      "Loading images ... Number of images loaded: 2\n"
     ]
    },
    {
     "name": "stderr",
     "output_type": "stream",
     "text": [
      "Processing images: 2it [00:00, 20.31it/s]\n"
     ]
    },
    {
     "name": "stdout",
     "output_type": "stream",
     "text": [
      "Number of panels generated: 2\n",
      "Panels generated for text: With the snowfall heralding an inevitable siege, the villagers behind the fray carry dread in their hearts, while the warriors, including Thorfinn, station themselves strategically, surveying the opposing forces with a tactical eye.\n",
      "Number of unscaled images in segment: 2\n",
      "Loading images ... Number of images loaded: 2\n"
     ]
    },
    {
     "name": "stderr",
     "output_type": "stream",
     "text": [
      "Processing images: 2it [00:00, 23.44it/s]\n"
     ]
    },
    {
     "name": "stdout",
     "output_type": "stream",
     "text": [
      "Number of panels generated: 2\n",
      "Panels generated for text: Confident and mocking, Askeladd commands Thorfinn, who remains stoic and silently focused on his own pursuits of revenge.\n",
      "Number of unscaled images in segment: 2\n",
      "Loading images ... Number of images loaded: 2\n"
     ]
    },
    {
     "name": "stderr",
     "output_type": "stream",
     "text": [
      "Processing images: 2it [00:00, 20.30it/s]\n"
     ]
    },
    {
     "name": "stdout",
     "output_type": "stream",
     "text": [
      "Number of panels generated: 2\n",
      "Panels generated for text: The tide of battle shifts unexpectedly as a \"messenger,\" Thorfinn in disguise, infiltrates the enemy's ranks. His lightning-quick reflexes cut through the air as he leaves his adversaries bewildered and in disarray with his surprising agility and skill.\n",
      "Number of unscaled images in segment: 3\n",
      "Loading images ... Number of images loaded: 3\n"
     ]
    },
    {
     "name": "stderr",
     "output_type": "stream",
     "text": [
      "Processing images: 3it [00:00, 19.89it/s]\n"
     ]
    },
    {
     "name": "stdout",
     "output_type": "stream",
     "text": [
      "Number of panels generated: 3\n",
      "Panels generated for text: \"Can anyone here speak Norse?\" shouts Thorfinn as he unveils his true identity and purpose among the astonished soldiers.\n",
      "Number of unscaled images in segment: 1\n",
      "Loading images ... Number of images loaded: 1\n"
     ]
    },
    {
     "name": "stderr",
     "output_type": "stream",
     "text": [
      "Processing images: 1it [00:00, 20.91it/s]\n"
     ]
    },
    {
     "name": "stdout",
     "output_type": "stream",
     "text": [
      "Number of panels generated: 1\n",
      "Panels generated for text: Meanwhile, a deceptive strategy is laid bare as the French troops behold an uncanny sight—a ship approaching through the mountains, betraying their expectations.\n",
      "Number of unscaled images in segment: 2\n",
      "Loading images ... Number of images loaded: 2\n"
     ]
    },
    {
     "name": "stderr",
     "output_type": "stream",
     "text": [
      "Processing images: 2it [00:00, 31.22it/s]\n"
     ]
    },
    {
     "name": "stdout",
     "output_type": "stream",
     "text": [
      "Image 0 failed the paper texture check\n",
      "Number of panels generated: 2\n",
      "Panels generated for text: The sieged city braces for a multifaceted assault, with enemies attacking from unexpected quarters. In a brilliant twist of military tactics, Askeladd's men descend from the hills, their ships riding the tidal wave of a river in full spate to flank the bewildered French garrison.\n",
      "Number of unscaled images in segment: 2\n",
      "Loading images ... Number of images loaded: 2\n"
     ]
    },
    {
     "name": "stderr",
     "output_type": "stream",
     "text": [
      "Processing images: 2it [00:00, 29.36it/s]\n"
     ]
    },
    {
     "name": "stdout",
     "output_type": "stream",
     "text": [
      "Image 1 failed the paper texture check\n",
      "Number of panels generated: 2\n",
      "Panels generated for text: Thorfinn, embodying the ferocity of a seasoned warrior despite his tender age, leaps into the heart of the conflict, swiftly and lethally executing his moves, leaving his enemies stunned, whispering in disbelief: \"Little devil...\".\n",
      "Number of unscaled images in segment: 2\n",
      "Loading images ... Number of images loaded: 2\n"
     ]
    },
    {
     "name": "stderr",
     "output_type": "stream",
     "text": [
      "Processing images: 0it [00:00, ?it/s]"
     ]
    },
    {
     "name": "stdout",
     "output_type": "stream",
     "text": [
      "Image 0 failed the paper texture check\n"
     ]
    },
    {
     "name": "stderr",
     "output_type": "stream",
     "text": [
      "Processing images: 2it [00:00, 44.95it/s]\n"
     ]
    },
    {
     "name": "stdout",
     "output_type": "stream",
     "text": [
      "Image 1 failed the paper texture check\n",
      "Number of panels generated: 2\n",
      "Panels generated for text: As the defenders mount a counterattack, Thorfinn's eyes, cold and full of intent, are undistracted from his true target—Askeladd. \"Prepare to die!\" he declares, his voice echoing the depth of his resolve.\n",
      "Number of unscaled images in segment: 2\n",
      "Loading images ... Number of images loaded: 2\n"
     ]
    },
    {
     "name": "stderr",
     "output_type": "stream",
     "text": [
      "Processing images: 2it [00:00, 20.69it/s]"
     ]
    },
    {
     "name": "stdout",
     "output_type": "stream",
     "text": [
      "Number of panels generated: 2\n",
      "Panels generated for text: In a final, breathtaking gambit, ships emerge from the mist, and the battle reaches its crescendo. The warriors, with unparalleled valor, storm the city gates and unleash chaos upon the defenders. As the dust settles and silence falls upon the battlefield, it becomes clear that victory hangs on the edge of a knife.\n",
      "Number of unscaled images in segment: 3\n",
      "Loading images ... "
     ]
    },
    {
     "name": "stderr",
     "output_type": "stream",
     "text": [
      "\n"
     ]
    },
    {
     "name": "stdout",
     "output_type": "stream",
     "text": [
      "Number of images loaded: 3\n"
     ]
    },
    {
     "name": "stderr",
     "output_type": "stream",
     "text": [
      "Processing images: 3it [00:00, 20.86it/s]\n"
     ]
    },
    {
     "name": "stdout",
     "output_type": "stream",
     "text": [
      "Number of panels generated: 3\n",
      "Panels generated for text: With guile and the brute force of warriors, the fortress succumbs, yet amidst the spoils, a deeper strategy unfolds. Thorfinn, consumed with the need to avenge his father, confronts Askeladd, challenging him to a duel amidst the smoldering aftermath of their triumph.\n",
      "Number of unscaled images in segment: 2\n",
      "Loading images ... Number of images loaded: 2\n"
     ]
    },
    {
     "name": "stderr",
     "output_type": "stream",
     "text": [
      "Processing images: 2it [00:00, 20.24it/s]\n"
     ]
    },
    {
     "name": "stdout",
     "output_type": "stream",
     "text": [
      "Number of panels generated: 2\n",
      "Panels generated for text: As the two stand, interlocked in their personal vendetta, the curtain draws on Chapter 18, leaving the echoes of an age-old saga of war and retribution to linger in the air.\n",
      "Number of unscaled images in segment: 1\n",
      "Loading images ... Number of images loaded: 1\n"
     ]
    },
    {
     "name": "stderr",
     "output_type": "stream",
     "text": [
      "Processing images: 1it [00:00, 22.55it/s]\n"
     ]
    },
    {
     "name": "stdout",
     "output_type": "stream",
     "text": [
      "Number of panels generated: 1\n",
      "Panels generated for text: As the viking longships cut through the waves, the warriors of Askeladd's band find respite in the Danish village of Jelling. The village welcomes Askeladd like a hero, with villagers rushing to greet him and women lavishing him with affection.\n",
      "Number of unscaled images in segment: 1\n",
      "Loading images ... Number of images loaded: 1\n"
     ]
    },
    {
     "name": "stderr",
     "output_type": "stream",
     "text": [
      "Processing images: 1it [00:00, 23.50it/s]\n"
     ]
    },
    {
     "name": "stdout",
     "output_type": "stream",
     "text": [
      "Number of panels generated: 1\n",
      "Panels generated for text: The prodigal son returns to luxurious feasts and the company of his devoted niece, whose respect for her uncle is evident despite his dismissive attitude towards affection.\n",
      "Number of unscaled images in segment: 2\n",
      "Loading images ... Number of images loaded: 2\n"
     ]
    },
    {
     "name": "stderr",
     "output_type": "stream",
     "text": [
      "Processing images: 2it [00:00, 23.39it/s]\n"
     ]
    },
    {
     "name": "stdout",
     "output_type": "stream",
     "text": [
      "Number of panels generated: 2\n",
      "Panels generated for text: In the midst of celebrations, Askeladd's astuteness as a leader is revealed; his ability to provide for his men and maintain alliances with locals is key to their survival through the harsh winter.\n",
      "Number of unscaled images in segment: 1\n",
      "Loading images ... Number of images loaded: 1\n"
     ]
    },
    {
     "name": "stderr",
     "output_type": "stream",
     "text": [
      "Processing images: 1it [00:00, 20.92it/s]\n"
     ]
    },
    {
     "name": "stdout",
     "output_type": "stream",
     "text": [
      "Number of panels generated: 1\n",
      "Panels generated for text: Discussions turn to the price of slaves and the value of gold, hinting at the complexities of the economic and social order within the Viking world.\n",
      "Number of unscaled images in segment: 2\n",
      "Loading images ... Number of images loaded: 2\n"
     ]
    },
    {
     "name": "stderr",
     "output_type": "stream",
     "text": [
      "Processing images: 2it [00:00, 22.59it/s]\n"
     ]
    },
    {
     "name": "stdout",
     "output_type": "stream",
     "text": [
      "Number of panels generated: 2\n",
      "Panels generated for text: Unexpectedly, Thorfinn's request for a duel interrupts the merriment. Askeladd indulges the boy's desire for revenge, treating the duel as a mere annoyance before supper, brushing off Thorfinn's challenge as a distraction.\n",
      "Number of unscaled images in segment: 1\n",
      "Loading images ... Number of images loaded: 1\n"
     ]
    },
    {
     "name": "stderr",
     "output_type": "stream",
     "text": [
      "Processing images: 1it [00:00, 24.98it/s]\n"
     ]
    },
    {
     "name": "stdout",
     "output_type": "stream",
     "text": [
      "Number of panels generated: 1\n",
      "Panels generated for text: The duel commences, and the villagers encircle the fighters, eager for entertainment.\n",
      "Number of unscaled images in segment: 1\n",
      "Loading images ... Number of images loaded: 1\n"
     ]
    },
    {
     "name": "stderr",
     "output_type": "stream",
     "text": [
      "Processing images: 1it [00:00, 22.97it/s]\n"
     ]
    },
    {
     "name": "stdout",
     "output_type": "stream",
     "text": [
      "Number of panels generated: 1\n",
      "Panels generated for text: Thorfinn's agility and growth as a warrior are on full display; he is swifter and more deadly than ever before.\n",
      "Number of unscaled images in segment: 1\n",
      "Loading images ... Number of images loaded: 1\n"
     ]
    },
    {
     "name": "stderr",
     "output_type": "stream",
     "text": [
      "Processing images: 1it [00:00, 21.27it/s]\n"
     ]
    },
    {
     "name": "stdout",
     "output_type": "stream",
     "text": [
      "Number of panels generated: 1\n",
      "Panels generated for text: Yet, Askeladd remains unimpressed, goading Thorfinn with references to his late father, Thors.\n",
      "Number of unscaled images in segment: 1\n",
      "Loading images ... Number of images loaded: 1\n"
     ]
    },
    {
     "name": "stderr",
     "output_type": "stream",
     "text": [
      "Processing images: 1it [00:00, 20.07it/s]\n"
     ]
    },
    {
     "name": "stdout",
     "output_type": "stream",
     "text": [
      "Number of panels generated: 1\n",
      "Panels generated for text: The battle intensifies, with Thorfinn launching a ferocious attack. Askeladd, however, remains in control, seizing an opportunity to overtake Thorfinn using his cunning rather than brute force.\n",
      "Number of unscaled images in segment: 1\n",
      "Loading images ... Number of images loaded: 1\n"
     ]
    },
    {
     "name": "stderr",
     "output_type": "stream",
     "text": [
      "Processing images: 1it [00:00, 21.59it/s]\n"
     ]
    },
    {
     "name": "stdout",
     "output_type": "stream",
     "text": [
      "Number of panels generated: 1\n",
      "Panels generated for text: It becomes clear that Askeladd honors the memory of Thorfinn's father, even as he brutally teaches Thorfinn a lesson in the harsh realities of their world.\n",
      "Number of unscaled images in segment: 2\n",
      "Loading images ... Number of images loaded: 2\n"
     ]
    },
    {
     "name": "stderr",
     "output_type": "stream",
     "text": [
      "Processing images: 2it [00:00, 24.04it/s]\n"
     ]
    },
    {
     "name": "stdout",
     "output_type": "stream",
     "text": [
      "Number of panels generated: 2\n",
      "Panels generated for text: In the aftermath of the duel, Askeladd's casual demeanor returns, and he retreats to his feast. Thorfinn, broken and humiliated, stays on the ship, pondering the path of vengeance and the true meaning of being a warrior—as reflected on by the quiet image of his father.\n",
      "Number of unscaled images in segment: 2\n",
      "Loading images ... Number of images loaded: 2\n"
     ]
    },
    {
     "name": "stderr",
     "output_type": "stream",
     "text": [
      "Processing images: 2it [00:00, 21.67it/s]\n"
     ]
    },
    {
     "name": "stdout",
     "output_type": "stream",
     "text": [
      "Number of panels generated: 2\n",
      "Panels generated for text: The scene transitions to Thorfinn's quiet contemplation with the girl slave, reflecting on freedom, choice, and the possibility of a world without war or slavery—a land of peace.\n",
      "Number of unscaled images in segment: 3\n",
      "Loading images ... Number of images loaded: 3\n"
     ]
    },
    {
     "name": "stderr",
     "output_type": "stream",
     "text": [
      "Processing images: 3it [00:00, 26.11it/s]\n"
     ]
    },
    {
     "name": "stdout",
     "output_type": "stream",
     "text": [
      "Image 2 failed the paper texture check\n",
      "Number of panels generated: 3\n",
      "Panels generated for text: The memory of Thors instills a dream of Vinland, a distant place free from the strife of their current lives, filling young Thorfinn with wonder.\n",
      "Number of unscaled images in segment: 1\n",
      "Loading images ... Number of images loaded: 1\n"
     ]
    },
    {
     "name": "stderr",
     "output_type": "stream",
     "text": [
      "Processing images: 1it [00:00, 20.67it/s]\n"
     ]
    },
    {
     "name": "stdout",
     "output_type": "stream",
     "text": [
      "Number of panels generated: 1\n",
      "Panels generated for text: The chapter closes with a grand image—a relentless storm that bears upon new adventurers, as a towering wave is conquered by the fearless explorer Leif Erikson, setting his sights on Vinland, heralding the unknown challenges and promises of \"the land of pastures\" beyond the edge of the sea.\n",
      "Number of unscaled images in segment: 1\n",
      "Loading images ... Number of images loaded: 1\n"
     ]
    },
    {
     "name": "stderr",
     "output_type": "stream",
     "text": [
      "Processing images: 1it [00:00, 21.00it/s]\n"
     ]
    },
    {
     "name": "stdout",
     "output_type": "stream",
     "text": [
      "Number of panels generated: 1\n",
      "Panels generated for text: In the harsh climes of Iceland, the perseverance of the Vikings is put to the test. Leif Erikson returns, heralding tales of fertile lands to the West—Vinland, free from the bindings of slavery and war.\n",
      "Number of unscaled images in segment: 2\n",
      "Loading images ... Number of images loaded: 2\n"
     ]
    },
    {
     "name": "stderr",
     "output_type": "stream",
     "text": [
      "Processing images: 2it [00:00, 21.89it/s]\n"
     ]
    },
    {
     "name": "stdout",
     "output_type": "stream",
     "text": [
      "Number of panels generated: 2\n",
      "Panels generated for text: His stories fuel the imaginations of the children, particularly Thorfinn, who dreams of such lands.\n",
      "Number of unscaled images in segment: 1\n",
      "Loading images ... Number of images loaded: 1\n"
     ]
    },
    {
     "name": "stderr",
     "output_type": "stream",
     "text": [
      "Processing images: 1it [00:00, 20.59it/s]\n"
     ]
    },
    {
     "name": "stdout",
     "output_type": "stream",
     "text": [
      "Number of panels generated: 1\n",
      "Panels generated for text: However, the severity of the Icelandic winter does not relent, with the villagers struggling to maintain their livestock and safeguard their survival.\n",
      "Number of unscaled images in segment: 2\n",
      "Loading images ... Number of images loaded: 2\n"
     ]
    },
    {
     "name": "stderr",
     "output_type": "stream",
     "text": [
      "Processing images: 2it [00:00, 20.82it/s]\n"
     ]
    },
    {
     "name": "stdout",
     "output_type": "stream",
     "text": [
      "Number of panels generated: 2\n",
      "Panels generated for text: Thorfinn, under the guidance of Leif Erikson, internalizes the hardships of his people, comparing them to the warmth and abundance promised by Vinland.\n",
      "Number of unscaled images in segment: 2\n",
      "Loading images ... Number of images loaded: 2\n"
     ]
    },
    {
     "name": "stderr",
     "output_type": "stream",
     "text": [
      "Processing images: 2it [00:00, 22.31it/s]\n"
     ]
    },
    {
     "name": "stdout",
     "output_type": "stream",
     "text": [
      "Number of panels generated: 2\n",
      "Panels generated for text: Turmoil strikes as a half-drowned man is discovered on the shore, and Thorfinn's sister, Ylva, renders aid, setting aside her grief for her lost father to act with compassion.\n",
      "Number of unscaled images in segment: 3\n",
      "Loading images ... Number of images loaded: 3\n"
     ]
    },
    {
     "name": "stderr",
     "output_type": "stream",
     "text": [
      "Processing images: 3it [00:00, 21.52it/s]\n"
     ]
    },
    {
     "name": "stdout",
     "output_type": "stream",
     "text": [
      "Number of panels generated: 3\n",
      "Panels generated for text: Questions arise about the stranger's origins, with suspicions cast on whether his tales of woe are as genuine as the depths of the sea from which he emerged.\n",
      "Number of unscaled images in segment: 2\n",
      "Loading images ... Number of images loaded: 2\n"
     ]
    },
    {
     "name": "stderr",
     "output_type": "stream",
     "text": [
      "Processing images: 2it [00:00, 20.00it/s]\n"
     ]
    },
    {
     "name": "stdout",
     "output_type": "stream",
     "text": [
      "Number of panels generated: 2\n",
      "Panels generated for text: The plot thickens with the arrival of Halfdan, a powerful chieftain, demanding the return of the rescued man—the half-dead is revealed to be a runaway slave.\n",
      "Number of unscaled images in segment: 2\n",
      "Loading images ... Number of images loaded: 2\n"
     ]
    },
    {
     "name": "stderr",
     "output_type": "stream",
     "text": [
      "Processing images: 2it [00:00, 21.25it/s]\n"
     ]
    },
    {
     "name": "stdout",
     "output_type": "stream",
     "text": [
      "Number of panels generated: 2\n",
      "Panels generated for text: Invoking his ownership, Halfdan's word seems law, but Leif Erikson's wisdom offers a different path, and a subtle negotiation unfolds as the price of freedom hangs in the balance.\n",
      "Number of unscaled images in segment: 3\n",
      "Loading images ... Number of images loaded: 3\n"
     ]
    },
    {
     "name": "stderr",
     "output_type": "stream",
     "text": [
      "Processing images: 3it [00:00, 22.04it/s]\n"
     ]
    },
    {
     "name": "stdout",
     "output_type": "stream",
     "text": [
      "Number of panels generated: 3\n",
      "Panels generated for text: Thorfinn's father, Thors, becomes the cornerstone of the discussion, with his legacy influencing Leif's words and actions. With a heartfelt deal, four sheep are exchanged for a man's life, cutting the bonds of servitude.\n",
      "Number of unscaled images in segment: 3\n",
      "Loading images ... Number of images loaded: 3\n"
     ]
    },
    {
     "name": "stderr",
     "output_type": "stream",
     "text": [
      "Processing images: 3it [00:00, 20.12it/s]\n"
     ]
    },
    {
     "name": "stdout",
     "output_type": "stream",
     "text": [
      "Number of panels generated: 3\n",
      "Panels generated for text: In a somber moment, the grave truths of life's fragility and the value of each soul are laid bare.\n",
      "Number of unscaled images in segment: 2\n",
      "Loading images ... Number of images loaded: 2\n"
     ]
    },
    {
     "name": "stderr",
     "output_type": "stream",
     "text": [
      "Processing images: 2it [00:00, 20.56it/s]\n"
     ]
    },
    {
     "name": "stdout",
     "output_type": "stream",
     "text": [
      "Number of panels generated: 2\n",
      "Panels generated for text: As the chapter concludes, the enduring whispers of Vinland call to those who dare to dream, with the mighty Leif standing as a beacon on the precipice of a new dawn, inspiring the generation to follow.\n",
      "Number of unscaled images in segment: 1\n",
      "Loading images ... Number of images loaded: 1\n"
     ]
    },
    {
     "name": "stderr",
     "output_type": "stream",
     "text": [
      "Processing images: 1it [00:00, 20.00it/s]\n"
     ]
    },
    {
     "name": "stdout",
     "output_type": "stream",
     "text": [
      "Number of panels generated: 1\n",
      "Panels generated for text: With a newfound resolve, the Vikings reconcile with the strain of living in an unforgiving land and look toward the horizon, where hope for a brighter future might just be within reach.\n",
      "Number of unscaled images in segment: 1\n",
      "Loading images ... Number of images loaded: 1\n"
     ]
    },
    {
     "name": "stderr",
     "output_type": "stream",
     "text": [
      "Processing images: 1it [00:00, 26.66it/s]\n"
     ]
    },
    {
     "name": "stdout",
     "output_type": "stream",
     "text": [
      "Number of panels generated: 1\n",
      "Panels generated for text: In a tranquil respite from the ferocity of battle, Makoto Yukimura, the masterful artist behind Vinland Saga, pays homage to the idyllic yet treacherous Viking way of life. Through a humorous interlude, a faux Viking exclaims, \"Gimme all yer money!\" quickly undermined by the reality of needing to \"put out our laundry...\".\n",
      "Number of unscaled images in segment: 1\n",
      "Loading images ... Number of images loaded: 1\n"
     ]
    },
    {
     "name": "stderr",
     "output_type": "stream",
     "text": [
      "Processing images: 1it [00:00, 20.17it/s]\n"
     ]
    },
    {
     "name": "stdout",
     "output_type": "stream",
     "text": [
      "Number of panels generated: 1\n",
      "Panels generated for text: Transitioning from the lighthearted to the profound, Yukimura imparts a reflection on the etymological origins of \"viking.” These Northmen who pirated, raided, and ventured in search of fertile lands, all while dreaming and loving like any other.\n",
      "Number of unscaled images in segment: 1\n",
      "Loading images ... Number of images loaded: 1\n"
     ]
    },
    {
     "name": "stderr",
     "output_type": "stream",
     "text": [
      "Processing images: 1it [00:00, 21.35it/s]\n"
     ]
    },
    {
     "name": "stdout",
     "output_type": "stream",
     "text": [
      "Number of panels generated: 1\n",
      "Panels generated for text: The narrative then sails briskly forward to November 13th, 1002 A.D. A village bathes, unaware of the approaching doom. Suddenly, the tranquility shatters—a messenger hastens to announce an imminent enemy attack, and in an instant, war cries fill the air, spears are brandished, and chaos erupts with the battle cry, \"BURN IT ALL DOWN!\" severing any pretense of peace.\n",
      "Number of unscaled images in segment: 3\n",
      "Loading images ... Number of images loaded: 3\n"
     ]
    },
    {
     "name": "stderr",
     "output_type": "stream",
     "text": [
      "Processing images: 0it [00:00, ?it/s]"
     ]
    },
    {
     "name": "stdout",
     "output_type": "stream",
     "text": [
      "Image 0 failed the paper texture check\n"
     ]
    },
    {
     "name": "stderr",
     "output_type": "stream",
     "text": [
      "Processing images: 3it [00:00, 26.59it/s]\n"
     ]
    },
    {
     "name": "stdout",
     "output_type": "stream",
     "text": [
      "Number of panels generated: 3\n",
      "Panels generated for text: The onslaught is relentless—a once peaceful settlement becomes prey to the Viking horde. Within Norway, a boat departs under Leif's guidance into an uncertain future. The conversation swiftly turns to fate and war as Thors Teskalsson, known as \"Troll,\" is reluctantly recruited by Floki of the Jomsvikings. His legendary prowess in battle now summoned for war against England under the Danes.\n",
      "Number of unscaled images in segment: 4\n",
      "Loading images ... Number of images loaded: 4\n"
     ]
    },
    {
     "name": "stderr",
     "output_type": "stream",
     "text": [
      "Processing images: 4it [00:00, 26.55it/s]\n"
     ]
    },
    {
     "name": "stdout",
     "output_type": "stream",
     "text": [
      "Image 2 failed the paper texture check\n",
      "Number of panels generated: 4\n",
      "Panels generated for text: As Thors grapples with his destiny, he reflects, \"If I run in this battle, the 'Troll' will never be able to live as a bit better man...\".\n",
      "Number of unscaled images in segment: 1\n",
      "Loading images ... Number of images loaded: 1\n"
     ]
    },
    {
     "name": "stderr",
     "output_type": "stream",
     "text": [
      "Processing images: 1it [00:00, 18.50it/s]\n"
     ]
    },
    {
     "name": "stdout",
     "output_type": "stream",
     "text": [
      "Number of panels generated: 1\n",
      "Panels generated for text: Duty calls, and Thors faces his past—a past drenched in bloodshed, a life once forsaken for the serenity of family and a humble existence.\n",
      "Number of unscaled images in segment: 2\n",
      "Loading images ... Number of images loaded: 2\n"
     ]
    },
    {
     "name": "stderr",
     "output_type": "stream",
     "text": [
      "Processing images: 2it [00:00, 21.84it/s]\n"
     ]
    },
    {
     "name": "stdout",
     "output_type": "stream",
     "text": [
      "Number of panels generated: 2\n",
      "Panels generated for text: His soul, however, is not at ease, and the clarion call of war lingers ominously.\n",
      "Number of unscaled images in segment: 2\n",
      "Loading images ... Number of images loaded: 2\n"
     ]
    },
    {
     "name": "stderr",
     "output_type": "stream",
     "text": [
      "Processing images: 2it [00:00, 22.74it/s]\n"
     ]
    },
    {
     "name": "stdout",
     "output_type": "stream",
     "text": [
      "Number of panels generated: 2\n",
      "Panels generated for text: In the closing scenes, children emulate the warriors they idolize, oblivious to the brutality of their games. Thorfinn emerges victorious, but his expression is hollow—a harbinger of the trials ahead. This loss of innocence underscores a grim reality: their lives are forever interwoven with the specter of conflict.\n",
      "Number of unscaled images in segment: 3\n",
      "Loading images ... Number of images loaded: 3\n"
     ]
    },
    {
     "name": "stderr",
     "output_type": "stream",
     "text": [
      "Processing images: 3it [00:00, 22.37it/s]\n"
     ]
    },
    {
     "name": "stdout",
     "output_type": "stream",
     "text": [
      "Number of panels generated: 3\n",
      "Panels generated for text: The chapter ends as it began, peaceful yet poised on the brink of destruction, as the Viking longships set forth, their sails filled with the cold northern winds, charting a course for the relentless theater of war.\n",
      "Number of unscaled images in segment: 1\n",
      "Loading images ... Number of images loaded: 1\n"
     ]
    },
    {
     "name": "stderr",
     "output_type": "stream",
     "text": [
      "Processing images: 1it [00:00, 22.40it/s]\n"
     ]
    },
    {
     "name": "stdout",
     "output_type": "stream",
     "text": [
      "Number of panels generated: 1\n",
      "Panels generated for text: With each stroke of the oar, they cleave the icy waters, their journey a testament to the indomitable spirit of the Northmen, eternally driven by the promise and perils of the sword.\n",
      "Number of unscaled images in segment: 1\n",
      "Loading images ... Number of images loaded: 1\n"
     ]
    },
    {
     "name": "stderr",
     "output_type": "stream",
     "text": [
      "Processing images: 1it [00:00, 21.75it/s]\n"
     ]
    },
    {
     "name": "stdout",
     "output_type": "stream",
     "text": [
      "Number of panels generated: 1\n",
      "Panels generated for text: In the frigid heartland of a Viking village, young Thorfinn craves the excitement of battle. With eyes full of eagerness, he watches the warriors prepare, utterly absorbed by their might and valor.\n",
      "Number of unscaled images in segment: 1\n",
      "Loading images ... Number of images loaded: 1\n"
     ]
    },
    {
     "name": "stderr",
     "output_type": "stream",
     "text": [
      "Processing images: 1it [00:00, 22.14it/s]\n"
     ]
    },
    {
     "name": "stdout",
     "output_type": "stream",
     "text": [
      "Number of panels generated: 1\n",
      "Panels generated for text: The children play roughly, emulating the adults' prowess, but when Thorfinn, filled with the fiery spirit of a warrior, wins the scuffle, the atmosphere shifts.\n",
      "Number of unscaled images in segment: 1\n",
      "Loading images ... Number of images loaded: 1\n"
     ]
    },
    {
     "name": "stderr",
     "output_type": "stream",
     "text": [
      "Processing images: 1it [00:00, 21.79it/s]\n"
     ]
    },
    {
     "name": "stdout",
     "output_type": "stream",
     "text": [
      "Number of panels generated: 1\n",
      "Panels generated for text: Leif looks on, noting Thorfinn's born talent as a fighter—a harbinger of the tempest that brews within the boy.\n",
      "Number of unscaled images in segment: 1\n",
      "Loading images ... Number of images loaded: 1\n"
     ]
    },
    {
     "name": "stderr",
     "output_type": "stream",
     "text": [
      "Processing images: 1it [00:00, 20.62it/s]\n"
     ]
    },
    {
     "name": "stdout",
     "output_type": "stream",
     "text": [
      "Number of panels generated: 1\n",
      "Panels generated for text: Confronted with his son's burgeoning bloodlust, Thors presents him with a sleek, impressively-crafted helm, as if to acknowledge the inevitable path Thorfinn is embarking upon.\n",
      "Number of unscaled images in segment: 1\n",
      "Loading images ... Number of images loaded: 1\n"
     ]
    },
    {
     "name": "stderr",
     "output_type": "stream",
     "text": [
      "Processing images: 1it [00:00, 21.75it/s]\n"
     ]
    },
    {
     "name": "stdout",
     "output_type": "stream",
     "text": [
      "Number of panels generated: 1\n",
      "Panels generated for text: The child, enticed by the call of the battlefield, begs, \"Check this out, Pa! Really, look at me!\" But there's an undercurrent of melancholy, for these innocent pleas are tinged with the gravity of a future forged in steel and strife.\n",
      "Number of unscaled images in segment: 1\n",
      "Loading images ... Number of images loaded: 1\n"
     ]
    },
    {
     "name": "stderr",
     "output_type": "stream",
     "text": [
      "Processing images: 1it [00:00, 20.28it/s]\n"
     ]
    },
    {
     "name": "stdout",
     "output_type": "stream",
     "text": [
      "Number of panels generated: 1\n",
      "Panels generated for text: Meanwhile, inside their home, Thorfinn's sister, Ylva, scolds him for his carelessness, underscoring the stark contrast between domestic life and the violent games played outside.\n",
      "Number of unscaled images in segment: 1\n",
      "Loading images ... Number of images loaded: 1\n"
     ]
    },
    {
     "name": "stderr",
     "output_type": "stream",
     "text": [
      "Processing images: 1it [00:00, 23.70it/s]\n"
     ]
    },
    {
     "name": "stdout",
     "output_type": "stream",
     "text": [
      "Number of panels generated: 1\n",
      "Panels generated for text: Thorfinn, ever relentless, secretly searches for a weapon, his soul already enchanted by the promise of a sword—a silent vow to enter the grown-ups' world.\n",
      "Number of unscaled images in segment: 2\n",
      "Loading images ... Number of images loaded: 2\n"
     ]
    },
    {
     "name": "stderr",
     "output_type": "stream",
     "text": [
      "Processing images: 2it [00:00, 26.78it/s]\n"
     ]
    },
    {
     "name": "stdout",
     "output_type": "stream",
     "text": [
      "Number of panels generated: 2\n",
      "Panels generated for text: The gravity of Thorfinn's silent declaration becomes apparent when he finds a fallen warrior and, with trepidation, takes up his sword. It is shiny, inviting—and heavy with significance.\n",
      "Number of unscaled images in segment: 3\n",
      "Loading images ... Number of images loaded: 3\n"
     ]
    },
    {
     "name": "stderr",
     "output_type": "stream",
     "text": [
      "Processing images: 3it [00:00, 20.79it/s]\n"
     ]
    },
    {
     "name": "stdout",
     "output_type": "stream",
     "text": [
      "Number of panels generated: 3\n",
      "Panels generated for text: Thors, witnessing his son's inner turmoil, confronts him gently yet firmly, reminding Thorfinn that \"You have no enemies. No one has any enemies. There should be no one...\".\n",
      "Number of unscaled images in segment: 1\n",
      "Loading images ... Number of images loaded: 1\n"
     ]
    },
    {
     "name": "stderr",
     "output_type": "stream",
     "text": [
      "Processing images: 1it [00:00, 21.44it/s]\n"
     ]
    },
    {
     "name": "stdout",
     "output_type": "stream",
     "text": [
      "Number of panels generated: 1\n",
      "Panels generated for text: But in the stubbornness of youth, Thorfinn's mind wrestles with his father's idealistic vision and the visceral allure of vengeance.\n",
      "Number of unscaled images in segment: 1\n",
      "Loading images ... Number of images loaded: 1\n"
     ]
    },
    {
     "name": "stderr",
     "output_type": "stream",
     "text": [
      "Processing images: 1it [00:00, 21.29it/s]\n"
     ]
    },
    {
     "name": "stdout",
     "output_type": "stream",
     "text": [
      "Number of panels generated: 1\n",
      "Panels generated for text: Thorfinn's struggle between childhood aspirations and the grounded wisdom of his elders reaches a crescendo when Thors faces the somber reality. He prepares for a journey from which he may never return, leaving his family and a son who still dreams of battles yet fought.\n",
      "Number of unscaled images in segment: 2\n",
      "Loading images ... Number of images loaded: 2\n"
     ]
    },
    {
     "name": "stderr",
     "output_type": "stream",
     "text": [
      "Processing images: 2it [00:00, 28.57it/s]\n"
     ]
    },
    {
     "name": "stdout",
     "output_type": "stream",
     "text": [
      "Image 1 failed the paper texture check\n",
      "Number of panels generated: 2\n",
      "Panels generated for text: The chapter closes with Thorfinn's silent gaze upon the sea, a vast expanse teeming with both peril and promise, as the Vikings' oars slice through the icy waters.\n",
      "Number of unscaled images in segment: 2\n",
      "Loading images ... Number of images loaded: 2\n"
     ]
    },
    {
     "name": "stderr",
     "output_type": "stream",
     "text": [
      "Processing images: 2it [00:00, 21.02it/s]\n"
     ]
    },
    {
     "name": "stdout",
     "output_type": "stream",
     "text": [
      "Number of panels generated: 2\n",
      "Panels generated for text: Dawn breaks, and a new chapter unfolds. Thors and his men set sail for what may be their last mission, a journey tinged with both hope and foreboding. As the sail unfurls, Thorfinn's absence sends ripples of confusion among the crew.\n",
      "Number of unscaled images in segment: 1\n",
      "Loading images ... Number of images loaded: 1\n"
     ]
    },
    {
     "name": "stderr",
     "output_type": "stream",
     "text": [
      "Processing images: 1it [00:00, 21.03it/s]\n"
     ]
    },
    {
     "name": "stdout",
     "output_type": "stream",
     "text": [
      "Number of panels generated: 1\n",
      "Panels generated for text: The revelation hits—Thorfinn has stowed away, unbeknownst to his father.\n",
      "Number of unscaled images in segment: 1\n",
      "Loading images ... Number of images loaded: 1\n"
     ]
    },
    {
     "name": "stderr",
     "output_type": "stream",
     "text": [
      "Processing images: 1it [00:00, 21.49it/s]\n"
     ]
    },
    {
     "name": "stdout",
     "output_type": "stream",
     "text": [
      "Number of panels generated: 1\n",
      "Panels generated for text: His eyes are set on adventure, even as the harsh winds of fate blow strong around him. \"Man oars!\" the warriors cry, pushing forward into the unyielding current of destiny.\n",
      "Number of unscaled images in segment: 1\n",
      "Loading images ... Number of images loaded: 1\n"
     ]
    },
    {
     "name": "stderr",
     "output_type": "stream",
     "text": [
      "Processing images: 1it [00:00, 23.05it/s]\n"
     ]
    },
    {
     "name": "stdout",
     "output_type": "stream",
     "text": [
      "Number of panels generated: 1\n",
      "Panels generated for text: And so, Chapter 8 concludes with the image of a longship braving the open sea, bound for England's shores, carrying a crew of stalwart souls and a young boy cloaked in the shadow of a future teeming with the echoes of war and the stark reality of the Viking saga.\n",
      "Number of unscaled images in segment: 1\n",
      "Loading images ... Number of images loaded: 1\n"
     ]
    },
    {
     "name": "stderr",
     "output_type": "stream",
     "text": [
      "Processing images: 1it [00:00, 47.42it/s]\n"
     ]
    },
    {
     "name": "stdout",
     "output_type": "stream",
     "text": [
      "Image 0 failed the paper texture check\n",
      "Number of panels generated: 1\n",
      "Panels generated for text: Sailing through the abyssal night, Thors's crew strains to see through the enveloping darkness, with Leif expertly navigating by the stars alone.\n",
      "Number of unscaled images in segment: 1\n",
      "Loading images ... Number of images loaded: 1\n"
     ]
    },
    {
     "name": "stderr",
     "output_type": "stream",
     "text": [
      "Processing images: 1it [00:00, 21.56it/s]\n"
     ]
    },
    {
     "name": "stdout",
     "output_type": "stream",
     "text": [
      "Number of panels generated: 1\n",
      "Panels generated for text: The men brace themselves, sensing foreboding winds that signal the start of a tempest.\n",
      "Number of unscaled images in segment: 1\n",
      "Loading images ... Number of images loaded: 1\n"
     ]
    },
    {
     "name": "stderr",
     "output_type": "stream",
     "text": [
      "Processing images: 1it [00:00, 21.14it/s]\n"
     ]
    },
    {
     "name": "stdout",
     "output_type": "stream",
     "text": [
      "Number of panels generated: 1\n",
      "Panels generated for text: Amidst the ocean's roar, a young Thorfinn, unbeknownst to his father, hides below, stowing away for the adventure of a lifetime.\n",
      "Number of unscaled images in segment: 1\n",
      "Loading images ... Number of images loaded: 1\n"
     ]
    },
    {
     "name": "stderr",
     "output_type": "stream",
     "text": [
      "Processing images: 1it [00:00, 46.12it/s]\n"
     ]
    },
    {
     "name": "stdout",
     "output_type": "stream",
     "text": [
      "Image 0 failed the paper texture check\n",
      "Number of panels generated: 1\n",
      "Panels generated for text: The storm strikes with fury, and the ships, caught in its wrath, scatter helplessly.\n",
      "Number of unscaled images in segment: 1\n",
      "Loading images ... Number of images loaded: 1\n"
     ]
    },
    {
     "name": "stderr",
     "output_type": "stream",
     "text": [
      "Processing images: 1it [00:00, 21.95it/s]\n"
     ]
    },
    {
     "name": "stdout",
     "output_type": "stream",
     "text": [
      "Number of panels generated: 1\n",
      "Panels generated for text: Leif's experience as a sailor shines through the maelstrom, as he remains calm, expertly guiding the crew.\n",
      "Number of unscaled images in segment: 1\n",
      "Loading images ... Number of images loaded: 1\n"
     ]
    },
    {
     "name": "stderr",
     "output_type": "stream",
     "text": [
      "Processing images: 1it [00:00, 20.84it/s]\n"
     ]
    },
    {
     "name": "stdout",
     "output_type": "stream",
     "text": [
      "Number of panels generated: 1\n",
      "Panels generated for text: Yet when they approach the Faroe Islands, something feels amiss. The houses on the shore are few and far between—a stark contrast to Leif's memories of the settlement.\n",
      "Number of unscaled images in segment: 1\n",
      "Loading images ... Number of images loaded: 1\n"
     ]
    },
    {
     "name": "stderr",
     "output_type": "stream",
     "text": [
      "Processing images: 1it [00:00, 18.27it/s]"
     ]
    },
    {
     "name": "stdout",
     "output_type": "stream",
     "text": [
      "Number of panels generated: 1\n",
      "Panels generated for text: As the ominous sense of deceit becomes palpable, Thors's ship is bombarded by a barrage of falling logs, a deadly trap set by unseen assailants.\n",
      "Number of unscaled images in segment: 2\n",
      "Loading images ... "
     ]
    },
    {
     "name": "stderr",
     "output_type": "stream",
     "text": [
      "\n"
     ]
    },
    {
     "name": "stdout",
     "output_type": "stream",
     "text": [
      "Number of images loaded: 2\n"
     ]
    },
    {
     "name": "stderr",
     "output_type": "stream",
     "text": [
      "Processing images: 2it [00:00, 20.03it/s]\n"
     ]
    },
    {
     "name": "stdout",
     "output_type": "stream",
     "text": [
      "Number of panels generated: 2\n",
      "Panels generated for text: The ambush is revealed as Thors's ship is ensnared between towering cliffs—the enemy is upon them, a legion of merciless warriors who have lured them into a deadly snare.\n",
      "Number of unscaled images in segment: 1\n",
      "Loading images ... Number of images loaded: 1\n"
     ]
    },
    {
     "name": "stderr",
     "output_type": "stream",
     "text": [
      "Processing images: 1it [00:00, 20.19it/s]\n"
     ]
    },
    {
     "name": "stdout",
     "output_type": "stream",
     "text": [
      "Number of panels generated: 1\n",
      "Panels generated for text: With the realization that they are facing none other than the notorious Jomsvikings, Thors's past collides with the present in a violent outpouring of fate.\n",
      "Number of unscaled images in segment: 1\n",
      "Loading images ... Number of images loaded: 1\n"
     ]
    },
    {
     "name": "stderr",
     "output_type": "stream",
     "text": [
      "Processing images: 1it [00:00, 20.31it/s]\n"
     ]
    },
    {
     "name": "stdout",
     "output_type": "stream",
     "text": [
      "Number of panels generated: 1\n",
      "Panels generated for text: A colossal fight ensues, with Thors, the legendary warrior, standing tall amidst the mayhem, his prowess in battle as dreadful and breathtaking as the storm's fury.\n",
      "Number of unscaled images in segment: 1\n",
      "Loading images ... Number of images loaded: 1\n"
     ]
    },
    {
     "name": "stderr",
     "output_type": "stream",
     "text": [
      "Processing images: 1it [00:00, 20.60it/s]\n"
     ]
    },
    {
     "name": "stdout",
     "output_type": "stream",
     "text": [
      "Number of panels generated: 1\n",
      "Panels generated for text: Surrounded by enemies, Thors instructs Thorfinn, \"Only use it to protect yourself when it's absolutely necessary...\" as he hands his son the helm, a symbol of his burgeoning journey from boy to shield-bearer.\n",
      "Number of unscaled images in segment: 1\n",
      "Loading images ... Number of images loaded: 1\n"
     ]
    },
    {
     "name": "stderr",
     "output_type": "stream",
     "text": [
      "Processing images: 1it [00:00, 22.17it/s]\n"
     ]
    },
    {
     "name": "stdout",
     "output_type": "stream",
     "text": [
      "Number of panels generated: 1\n",
      "Panels generated for text: The bloodthirsty Jomsvikings show no mercy, yet they are awed by the might of Thors, who wields not a sword, but sheer force to repel their assault.\n",
      "Number of unscaled images in segment: 1\n",
      "Loading images ... Number of images loaded: 1\n"
     ]
    },
    {
     "name": "stderr",
     "output_type": "stream",
     "text": [
      "Processing images: 1it [00:00, 19.00it/s]\n"
     ]
    },
    {
     "name": "stdout",
     "output_type": "stream",
     "text": [
      "Number of panels generated: 1\n",
      "Panels generated for text: \"Troll of Jom,\" they whisper, as each adversary falls before his indomitable strength.\n",
      "Number of unscaled images in segment: 1\n",
      "Loading images ... Number of images loaded: 1\n"
     ]
    },
    {
     "name": "stderr",
     "output_type": "stream",
     "text": [
      "Processing images: 1it [00:00, 19.79it/s]\n"
     ]
    },
    {
     "name": "stdout",
     "output_type": "stream",
     "text": [
      "Number of panels generated: 1\n",
      "Panels generated for text: Even in the chaos of battle, Thors remains steadfast, his every move a testament to his moniker—more than a monster, a legend brought to life.\n",
      "Number of unscaled images in segment: 1\n",
      "Loading images ... Number of images loaded: 1\n"
     ]
    },
    {
     "name": "stderr",
     "output_type": "stream",
     "text": [
      "Processing images: 1it [00:00, 20.17it/s]\n"
     ]
    },
    {
     "name": "stdout",
     "output_type": "stream",
     "text": [
      "Number of panels generated: 1\n",
      "Panels generated for text: Thors's valor offers a fleeting hope of victory, but as the enemy regroups and Bjorn, their berserker, explodes into a frenetic fury, the tide turns once more.\n",
      "Number of unscaled images in segment: 1\n",
      "Loading images ... Number of images loaded: 1\n"
     ]
    },
    {
     "name": "stderr",
     "output_type": "stream",
     "text": [
      "Processing images: 1it [00:00, 20.48it/s]\n"
     ]
    },
    {
     "name": "stdout",
     "output_type": "stream",
     "text": [
      "Number of panels generated: 1\n",
      "Panels generated for text: The men fight with the ferocity of wolves, Thors's every move grappling with not just foes but the weight of his choices, his legacy, and the world he wishes for his son.\n",
      "Number of unscaled images in segment: 1\n",
      "Loading images ... Number of images loaded: 1\n"
     ]
    },
    {
     "name": "stderr",
     "output_type": "stream",
     "text": [
      "Processing images: 1it [00:00, 20.35it/s]\n"
     ]
    },
    {
     "name": "stdout",
     "output_type": "stream",
     "text": [
      "Number of panels generated: 1\n",
      "Panels generated for text: In a shocking twist of honor among warriors, Thors calls for a halt to the bloodshed, offering himself in exchange for the lives of his men and the protection of his son, his will unbroken even in the face of overwhelming odds.\n",
      "Number of unscaled images in segment: 1\n",
      "Loading images ... Number of images loaded: 1\n"
     ]
    },
    {
     "name": "stderr",
     "output_type": "stream",
     "text": [
      "Processing images: 1it [00:00, 20.22it/s]\n"
     ]
    },
    {
     "name": "stdout",
     "output_type": "stream",
     "text": [
      "Number of panels generated: 1\n",
      "Panels generated for text: The chapter climaxes with Thors's stunning gambit, his surrender leaving the enemy and his own men in disbelief, as the magnanimity of the \"Troll of Jom\" eclipses the din of battle and the snarl of the storm.\n",
      "Number of unscaled images in segment: 1\n",
      "Loading images ... Number of images loaded: 1\n"
     ]
    },
    {
     "name": "stderr",
     "output_type": "stream",
     "text": [
      "Processing images: 1it [00:00, 21.27it/s]\n"
     ]
    },
    {
     "name": "stdout",
     "output_type": "stream",
     "text": [
      "Number of panels generated: 1\n",
      "Panels generated for text: Amid the suspense of a volatile standoff, Thors, the enigmatic and formidable \"Troll of Jom,\" confronts his fate on the decks of his ship, surrounded by the formidable Jomsvikings and his own bewildered crew.\n",
      "Number of unscaled images in segment: 1\n",
      "Loading images ... Number of images loaded: 1\n"
     ]
    },
    {
     "name": "stderr",
     "output_type": "stream",
     "text": [
      "Processing images: 1it [00:00, 22.46it/s]\n"
     ]
    },
    {
     "name": "stdout",
     "output_type": "stream",
     "text": [
      "Number of panels generated: 1\n",
      "Panels generated for text: His son, Thorfinn, watches with veiled trepidation as Thors, stoic and unyielding, accepts the challenge of a duel to the death.\n",
      "Number of unscaled images in segment: 1\n",
      "Loading images ... Number of images loaded: 1\n"
     ]
    },
    {
     "name": "stderr",
     "output_type": "stream",
     "text": [
      "Processing images: 1it [00:00, 21.44it/s]\n"
     ]
    },
    {
     "name": "stdout",
     "output_type": "stream",
     "text": [
      "Number of panels generated: 1\n",
      "Panels generated for text: Floki, leader of the Jomsvikings, goads Thors, questioning his courage and resolve, to which Thors responds with ironclad conviction, \"Begone, fritters. You cannot defeat me.\" His presence is an unspoken threat, an assurance that even in the darkest hour, valor remains.\n",
      "Number of unscaled images in segment: 1\n",
      "Loading images ... Number of images loaded: 1\n"
     ]
    },
    {
     "name": "stderr",
     "output_type": "stream",
     "text": [
      "Processing images: 1it [00:00, 20.25it/s]\n"
     ]
    },
    {
     "name": "stdout",
     "output_type": "stream",
     "text": [
      "Number of panels generated: 1\n",
      "Panels generated for text: As the duel unfolds, Thors's sheer might is revealed—he moves with a grace and power that belies his stature. The atmosphere is electric, charged with the anticipation of a clash between titans.\n",
      "Number of unscaled images in segment: 1\n",
      "Loading images ... Number of images loaded: 1\n"
     ]
    },
    {
     "name": "stderr",
     "output_type": "stream",
     "text": [
      "Processing images: 1it [00:00, 20.79it/s]\n"
     ]
    },
    {
     "name": "stdout",
     "output_type": "stream",
     "text": [
      "Number of panels generated: 1\n",
      "Panels generated for text: With a force that shakes the very vessel they stand upon, Thors disarms his opponent, Askeladd, sending a clear message of his unmatched prowess.\n",
      "Number of unscaled images in segment: 1\n",
      "Loading images ... Number of images loaded: 1\n"
     ]
    },
    {
     "name": "stderr",
     "output_type": "stream",
     "text": [
      "Processing images: 1it [00:00, 21.70it/s]\n"
     ]
    },
    {
     "name": "stdout",
     "output_type": "stream",
     "text": [
      "Number of panels generated: 1\n",
      "Panels generated for text: However, it's not only Thors's strength that captivates the onlookers; his son is also engulfed by the unfolding drama, witnessing his father's indomitable spirit.\n",
      "Number of unscaled images in segment: 1\n",
      "Loading images ... Number of images loaded: 1\n"
     ]
    },
    {
     "name": "stderr",
     "output_type": "stream",
     "text": [
      "Processing images: 1it [00:00, 23.45it/s]\n"
     ]
    },
    {
     "name": "stdout",
     "output_type": "stream",
     "text": [
      "Number of panels generated: 1\n",
      "Panels generated for text: The combatants exchange fierce blows, their swords singing a deadly harmony that resonates across the ship.\n",
      "Number of unscaled images in segment: 1\n",
      "Loading images ... Number of images loaded: 1\n"
     ]
    },
    {
     "name": "stderr",
     "output_type": "stream",
     "text": [
      "Processing images: 1it [00:00, 21.65it/s]\n"
     ]
    },
    {
     "name": "stdout",
     "output_type": "stream",
     "text": [
      "Number of panels generated: 1\n",
      "Panels generated for text: In a decisive moment that sears itself into the memories of all present, Thors stands unassailable, his resolve as unbreakable as his famed helm. With a heart heavy with sorrow, yet clear with purpose, Thors claims victory. But it is hollow, for all he truly desires is freedom for his men and protection for his son. Askeladd acknowledges his defeat grudgingly, but with respect.\n",
      "Number of unscaled images in segment: 2\n",
      "Loading images ... Number of images loaded: 2\n"
     ]
    },
    {
     "name": "stderr",
     "output_type": "stream",
     "text": [
      "Processing images: 2it [00:00, 22.00it/s]\n"
     ]
    },
    {
     "name": "stdout",
     "output_type": "stream",
     "text": [
      "Number of panels generated: 2\n",
      "Panels generated for text: The battle's climax echoes Thorfinn's adoration, chanting \"Father!!\" as Thors's mighty figure overshadows their adversaries, securing the safety of his crew and solidifying his legend.\n",
      "Number of unscaled images in segment: 1\n",
      "Loading images ... Number of images loaded: 1\n"
     ]
    },
    {
     "name": "stderr",
     "output_type": "stream",
     "text": [
      "Processing images: 1it [00:00, 22.24it/s]\n"
     ]
    },
    {
     "name": "stdout",
     "output_type": "stream",
     "text": [
      "Number of panels generated: 1\n",
      "Panels generated for text: Thus, Chapter 15 concludes with the fall of the sword and the rise of a true warrior—a man who wields his strength not for glory, but for the bond of family and the chance at peace.\n",
      "Number of unscaled images in segment: 1\n",
      "Loading images ... Number of images loaded: 1\n"
     ]
    },
    {
     "name": "stderr",
     "output_type": "stream",
     "text": [
      "Processing images: 1it [00:00, 22.41it/s]\n"
     ]
    },
    {
     "name": "stdout",
     "output_type": "stream",
     "text": [
      "Number of panels generated: 1\n",
      "Panels generated for text: The profound tragedy of Thors's death unravels as he stands, pierced by a forest of arrows; his figure a stark emblem of his unwavering honor and a poignant testament to the cost of true courage.\n",
      "Number of unscaled images in segment: 1\n",
      "Loading images ... Number of images loaded: 1\n"
     ]
    },
    {
     "name": "stderr",
     "output_type": "stream",
     "text": [
      "Processing images: 1it [00:00, 22.86it/s]\n"
     ]
    },
    {
     "name": "stdout",
     "output_type": "stream",
     "text": [
      "Number of panels generated: 1\n",
      "Panels generated for text: Thorfinn, bearing witness to this harrowing moment, can barely comprehend the gravity as he cries out, \"Father!\" His innocence shatters amidst the grim tableau of sacrifice.\n",
      "Number of unscaled images in segment: 1\n",
      "Loading images ... Number of images loaded: 1\n"
     ]
    },
    {
     "name": "stderr",
     "output_type": "stream",
     "text": [
      "Processing images: 1it [00:00, 47.22it/s]\n"
     ]
    },
    {
     "name": "stdout",
     "output_type": "stream",
     "text": [
      "Image 0 failed the paper texture check\n",
      "Number of panels generated: 1\n",
      "Panels generated for text: Askeladd, the orchestrator of this cruel fate, acknowledges Thors's triumph, even in death, compelling him to \"Understand... I swear by my ancestors. Artorius...\"—a solemn vow to uphold the warrior's last wishes.\n",
      "Number of unscaled images in segment: 1\n",
      "Loading images ... Number of images loaded: 1\n"
     ]
    },
    {
     "name": "stderr",
     "output_type": "stream",
     "text": [
      "Processing images: 1it [00:00, 47.39it/s]\n"
     ]
    },
    {
     "name": "stdout",
     "output_type": "stream",
     "text": [
      "Image 0 failed the paper texture check\n",
      "Number of panels generated: 1\n",
      "Panels generated for text: The Jomsvikings, stoic and resolute, stand as grim spectators to the somber pact.\n",
      "Number of unscaled images in segment: 1\n",
      "Loading images ... Number of images loaded: 1\n"
     ]
    },
    {
     "name": "stderr",
     "output_type": "stream",
     "text": [
      "Processing images: 1it [00:00, 21.29it/s]\n"
     ]
    },
    {
     "name": "stdout",
     "output_type": "stream",
     "text": [
      "Number of panels generated: 1\n",
      "Panels generated for text: In a final, insidious betrayal, Askeladd commands, \"Do it. Drop the boy.\" Thorfinn plummets into the icy abyss, his tiny, desperate voice echoing his father’s name. The cold sea embraces him, and so ends Thors's saga, with his mighty legacy cradled in the young, vengeful heart of his son.\n",
      "Number of unscaled images in segment: 2\n",
      "Loading images ... Number of images loaded: 2\n"
     ]
    },
    {
     "name": "stderr",
     "output_type": "stream",
     "text": [
      "Processing images: 2it [00:00, 22.02it/s]\n"
     ]
    },
    {
     "name": "stdout",
     "output_type": "stream",
     "text": [
      "Number of panels generated: 2\n",
      "Panels generated for text: As the Viking ships sail away, carrying Thors's body and his comrades, Thorfinn, alone and adrift, is consumed by an incendiary rage that promises vengeance: \"I swear I'll kill you. I'll kill you!!\"^28]. His father, the man of no enemies, leaves a legacy marred by unresolved anguish, setting Thorfinn on a dark path fueled by retribution.\n",
      "Number of unscaled images in segment: 1\n",
      "Loading images ... Number of images loaded: 1\n"
     ]
    },
    {
     "name": "stderr",
     "output_type": "stream",
     "text": [
      "Processing images: 1it [00:00, 21.83it/s]\n"
     ]
    },
    {
     "name": "stdout",
     "output_type": "stream",
     "text": [
      "Number of panels generated: 1\n",
      "Panels generated for text: In the poignant aftermath, the night envelopes all, and the vast sea, indifferent to mortal woes, quietly absorbs the echoes of the fallen warrior and the birth cries of a vengeful shadow.\n",
      "Number of unscaled images in segment: 0\n",
      "Loading images ... Number of images loaded: 0\n"
     ]
    },
    {
     "name": "stderr",
     "output_type": "stream",
     "text": [
      "Processing images: 0it [00:00, ?it/s]"
     ]
    },
    {
     "name": "stdout",
     "output_type": "stream",
     "text": [
      "Number of panels generated: 0\n",
      "Panels generated for text: Amidst the bleak expanse of the sea and the merciless winds, Thorfinn's journey with the war band of Askeladd unfolds on a somber map scattered with bloodshed and battles. His tireless pursuit, from his native Iceland to the shores of England, paints a bitter trail of vengeance stretching far across the frigid North Atlantic. Every mark on the map, from Thorfinn's village to the Frankish lands, echoes the relentless cadence of his grim sojourn—each location a stark reminder of violence endured and the will to persist.\n",
      "\n",
      "The page reveals not just the vast distances traversed but the transformation within Thorfinn, etching the scars of countless skirmishes into his very soul. As the map spans the pivotal points of his travels, one can almost hear the clash of steel and the cries of warriors in resonance with each name etched upon the parchment. An inconspicuous 'X' marks the village of Thorfinn, an origin now synonymous with both loss and the fierce determination of a boy grown too soon into the grim reality of a warrior's life. Across the wintry waters, the Faroe Islands, England, and a trail that winds like the path of destiny, the journey of Thorfinn coalesces into a legacy written not in ink, but in the blood of foes and the indelible memories of struggle, sacrifice, and the undying flame of revenge.\n"
     ]
    },
    {
     "name": "stderr",
     "output_type": "stream",
     "text": [
      "\n"
     ]
    }
   ],
   "source": [
    "extract_panels(movie_script)"
   ]
  },
  {
   "cell_type": "code",
   "execution_count": 203,
   "id": "86238437",
   "metadata": {},
   "outputs": [
    {
     "name": "stdout",
     "output_type": "stream",
     "text": [
      "number of segments: 101\n",
      "segment 0 :  The scene unfolds amidst the cacophony of war, with fervent cries and the metallic clash of weapons echoing through the Frankish kingdom's territory. At the heart of the chaos, the young and relentless Thorfinn stands determined, harboring a fierce glint in his eyes and the burden of vengeful purpose against Askeladd, his commander.\n",
      "3\n",
      "number of panels: 3\n",
      "number of images: 1\n",
      "segment 1 :  The battle rages on, with each side maneuvering for the upper hand. Amidst the fray, a plan unfurls as riders are dispatched to face the oncoming French army.\n",
      "9\n",
      "number of panels: 9\n",
      "number of images: 3\n",
      "segment 2 :  With the snowfall heralding an inevitable siege, the villagers behind the fray carry dread in their hearts, while the warriors, including Thorfinn, station themselves strategically, surveying the opposing forces with a tactical eye.\n",
      "14\n",
      "number of panels: 14\n",
      "number of images: 2\n",
      "segment 3 :  Confident and mocking, Askeladd commands Thorfinn, who remains stoic and silently focused on his own pursuits of revenge.\n",
      "11\n",
      "number of panels: 11\n",
      "number of images: 2\n",
      "segment 4 :  The tide of battle shifts unexpectedly as a \"messenger,\" Thorfinn in disguise, infiltrates the enemy's ranks. His lightning-quick reflexes cut through the air as he leaves his adversaries bewildered and in disarray with his surprising agility and skill.\n",
      "8\n",
      "number of panels: 8\n",
      "number of images: 2\n",
      "segment 5 :  \"Can anyone here speak Norse?\" shouts Thorfinn as he unveils his true identity and purpose among the astonished soldiers.\n",
      "13\n",
      "number of panels: 13\n",
      "number of images: 3\n",
      "segment 6 :  Meanwhile, a deceptive strategy is laid bare as the French troops behold an uncanny sight—a ship approaching through the mountains, betraying their expectations.\n",
      "6\n",
      "number of panels: 6\n",
      "number of images: 1\n",
      "segment 7 :  The sieged city braces for a multifaceted assault, with enemies attacking from unexpected quarters. In a brilliant twist of military tactics, Askeladd's men descend from the hills, their ships riding the tidal wave of a river in full spate to flank the bewildered French garrison.\n",
      "9\n",
      "number of panels: 9\n",
      "number of images: 2\n",
      "segment 8 :  Thorfinn, embodying the ferocity of a seasoned warrior despite his tender age, leaps into the heart of the conflict, swiftly and lethally executing his moves, leaving his enemies stunned, whispering in disbelief: \"Little devil...\".\n",
      "5\n",
      "number of panels: 5\n",
      "number of images: 2\n",
      "segment 9 :  As the defenders mount a counterattack, Thorfinn's eyes, cold and full of intent, are undistracted from his true target—Askeladd. \"Prepare to die!\" he declares, his voice echoing the depth of his resolve.\n",
      "2\n",
      "number of panels: 2\n",
      "number of images: 2\n",
      "segment 10 :  In a final, breathtaking gambit, ships emerge from the mist, and the battle reaches its crescendo. The warriors, with unparalleled valor, storm the city gates and unleash chaos upon the defenders. As the dust settles and silence falls upon the battlefield, it becomes clear that victory hangs on the edge of a knife.\n",
      "9\n",
      "number of panels: 9\n",
      "number of images: 2\n",
      "segment 11 :  With guile and the brute force of warriors, the fortress succumbs, yet amidst the spoils, a deeper strategy unfolds. Thorfinn, consumed with the need to avenge his father, confronts Askeladd, challenging him to a duel amidst the smoldering aftermath of their triumph.\n",
      "8\n",
      "number of panels: 8\n",
      "number of images: 3\n",
      "segment 12 :  As the two stand, interlocked in their personal vendetta, the curtain draws on Chapter 18, leaving the echoes of an age-old saga of war and retribution to linger in the air.\n",
      "9\n",
      "number of panels: 9\n",
      "number of images: 2\n",
      "segment 13 :  As the viking longships cut through the waves, the warriors of Askeladd's band find respite in the Danish village of Jelling. The village welcomes Askeladd like a hero, with villagers rushing to greet him and women lavishing him with affection.\n",
      "4\n",
      "number of panels: 4\n",
      "number of images: 1\n",
      "segment 14 :  The prodigal son returns to luxurious feasts and the company of his devoted niece, whose respect for her uncle is evident despite his dismissive attitude towards affection.\n",
      "6\n",
      "number of panels: 6\n",
      "number of images: 1\n",
      "segment 15 :  In the midst of celebrations, Askeladd's astuteness as a leader is revealed; his ability to provide for his men and maintain alliances with locals is key to their survival through the harsh winter.\n",
      "10\n",
      "number of panels: 10\n",
      "number of images: 2\n",
      "segment 16 :  Discussions turn to the price of slaves and the value of gold, hinting at the complexities of the economic and social order within the Viking world.\n",
      "2\n",
      "number of panels: 2\n",
      "number of images: 1\n",
      "segment 17 :  Unexpectedly, Thorfinn's request for a duel interrupts the merriment. Askeladd indulges the boy's desire for revenge, treating the duel as a mere annoyance before supper, brushing off Thorfinn's challenge as a distraction.\n",
      "6\n",
      "number of panels: 6\n",
      "number of images: 2\n",
      "segment 18 :  The duel commences, and the villagers encircle the fighters, eager for entertainment.\n",
      "4\n",
      "number of panels: 4\n",
      "number of images: 1\n",
      "segment 19 :  Thorfinn's agility and growth as a warrior are on full display; he is swifter and more deadly than ever before.\n",
      "5\n",
      "number of panels: 5\n",
      "number of images: 1\n",
      "segment 20 :  Yet, Askeladd remains unimpressed, goading Thorfinn with references to his late father, Thors.\n",
      "1\n",
      "number of panels: 1\n",
      "number of images: 1\n",
      "segment 21 :  The battle intensifies, with Thorfinn launching a ferocious attack. Askeladd, however, remains in control, seizing an opportunity to overtake Thorfinn using his cunning rather than brute force.\n",
      "5\n",
      "number of panels: 5\n",
      "number of images: 1\n",
      "segment 22 :  It becomes clear that Askeladd honors the memory of Thorfinn's father, even as he brutally teaches Thorfinn a lesson in the harsh realities of their world.\n",
      "1\n",
      "number of panels: 1\n",
      "number of images: 1\n",
      "segment 23 :  In the aftermath of the duel, Askeladd's casual demeanor returns, and he retreats to his feast. Thorfinn, broken and humiliated, stays on the ship, pondering the path of vengeance and the true meaning of being a warrior—as reflected on by the quiet image of his father.\n",
      "7\n",
      "number of panels: 7\n",
      "number of images: 2\n",
      "segment 24 :  The scene transitions to Thorfinn's quiet contemplation with the girl slave, reflecting on freedom, choice, and the possibility of a world without war or slavery—a land of peace.\n",
      "7\n",
      "number of panels: 7\n",
      "number of images: 2\n",
      "segment 25 :  The memory of Thors instills a dream of Vinland, a distant place free from the strife of their current lives, filling young Thorfinn with wonder.\n",
      "18\n",
      "number of panels: 18\n",
      "number of images: 3\n",
      "segment 26 :  The chapter closes with a grand image—a relentless storm that bears upon new adventurers, as a towering wave is conquered by the fearless explorer Leif Erikson, setting his sights on Vinland, heralding the unknown challenges and promises of \"the land of pastures\" beyond the edge of the sea.\n",
      "3\n",
      "number of panels: 3\n",
      "number of images: 1\n",
      "segment 27 :  In the harsh climes of Iceland, the perseverance of the Vikings is put to the test. Leif Erikson returns, heralding tales of fertile lands to the West—Vinland, free from the bindings of slavery and war.\n",
      "8\n",
      "number of panels: 8\n",
      "number of images: 1\n",
      "segment 28 :  His stories fuel the imaginations of the children, particularly Thorfinn, who dreams of such lands.\n",
      "9\n",
      "number of panels: 9\n",
      "number of images: 2\n",
      "segment 29 :  However, the severity of the Icelandic winter does not relent, with the villagers struggling to maintain their livestock and safeguard their survival.\n",
      "5\n",
      "number of panels: 5\n",
      "number of images: 1\n",
      "segment 30 :  Thorfinn, under the guidance of Leif Erikson, internalizes the hardships of his people, comparing them to the warmth and abundance promised by Vinland.\n",
      "9\n",
      "number of panels: 9\n",
      "number of images: 2\n",
      "segment 31 :  Turmoil strikes as a half-drowned man is discovered on the shore, and Thorfinn's sister, Ylva, renders aid, setting aside her grief for her lost father to act with compassion.\n",
      "12\n",
      "number of panels: 12\n",
      "number of images: 2\n",
      "segment 32 :  Questions arise about the stranger's origins, with suspicions cast on whether his tales of woe are as genuine as the depths of the sea from which he emerged.\n",
      "15\n",
      "number of panels: 15\n",
      "number of images: 3\n",
      "segment 33 :  The plot thickens with the arrival of Halfdan, a powerful chieftain, demanding the return of the rescued man—the half-dead is revealed to be a runaway slave.\n",
      "7\n",
      "number of panels: 7\n",
      "number of images: 2\n",
      "segment 34 :  Invoking his ownership, Halfdan's word seems law, but Leif Erikson's wisdom offers a different path, and a subtle negotiation unfolds as the price of freedom hangs in the balance.\n",
      "10\n",
      "number of panels: 10\n",
      "number of images: 2\n",
      "segment 35 :  Thorfinn's father, Thors, becomes the cornerstone of the discussion, with his legacy influencing Leif's words and actions. With a heartfelt deal, four sheep are exchanged for a man's life, cutting the bonds of servitude.\n",
      "15\n",
      "number of panels: 15\n",
      "number of images: 3\n",
      "segment 36 :  In a somber moment, the grave truths of life's fragility and the value of each soul are laid bare.\n",
      "8\n",
      "number of panels: 8\n",
      "number of images: 3\n",
      "segment 37 :  As the chapter concludes, the enduring whispers of Vinland call to those who dare to dream, with the mighty Leif standing as a beacon on the precipice of a new dawn, inspiring the generation to follow.\n",
      "7\n",
      "number of panels: 7\n",
      "number of images: 2\n",
      "segment 38 :  With a newfound resolve, the Vikings reconcile with the strain of living in an unforgiving land and look toward the horizon, where hope for a brighter future might just be within reach.\n",
      "6\n",
      "number of panels: 6\n",
      "number of images: 1\n",
      "segment 39 :  In a tranquil respite from the ferocity of battle, Makoto Yukimura, the masterful artist behind Vinland Saga, pays homage to the idyllic yet treacherous Viking way of life. Through a humorous interlude, a faux Viking exclaims, \"Gimme all yer money!\" quickly undermined by the reality of needing to \"put out our laundry...\".\n",
      "3\n",
      "number of panels: 3\n",
      "number of images: 1\n",
      "segment 40 :  Transitioning from the lighthearted to the profound, Yukimura imparts a reflection on the etymological origins of \"viking.” These Northmen who pirated, raided, and ventured in search of fertile lands, all while dreaming and loving like any other.\n",
      "5\n",
      "number of panels: 5\n",
      "number of images: 1\n",
      "segment 41 :  The narrative then sails briskly forward to November 13th, 1002 A.D. A village bathes, unaware of the approaching doom. Suddenly, the tranquility shatters—a messenger hastens to announce an imminent enemy attack, and in an instant, war cries fill the air, spears are brandished, and chaos erupts with the battle cry, \"BURN IT ALL DOWN!\" severing any pretense of peace.\n",
      "5\n",
      "number of panels: 5\n",
      "number of images: 1\n",
      "segment 42 :  The onslaught is relentless—a once peaceful settlement becomes prey to the Viking horde. Within Norway, a boat departs under Leif's guidance into an uncertain future. The conversation swiftly turns to fate and war as Thors Teskalsson, known as \"Troll,\" is reluctantly recruited by Floki of the Jomsvikings. His legendary prowess in battle now summoned for war against England under the Danes.\n",
      "8\n",
      "number of panels: 8\n",
      "number of images: 3\n",
      "segment 43 :  As Thors grapples with his destiny, he reflects, \"If I run in this battle, the 'Troll' will never be able to live as a bit better man...\".\n",
      "11\n",
      "number of panels: 11\n",
      "number of images: 4\n",
      "segment 44 :  Duty calls, and Thors faces his past—a past drenched in bloodshed, a life once forsaken for the serenity of family and a humble existence.\n",
      "3\n",
      "number of panels: 3\n",
      "number of images: 1\n",
      "segment 45 :  His soul, however, is not at ease, and the clarion call of war lingers ominously.\n",
      "11\n",
      "number of panels: 11\n",
      "number of images: 2\n",
      "segment 46 :  In the closing scenes, children emulate the warriors they idolize, oblivious to the brutality of their games. Thorfinn emerges victorious, but his expression is hollow—a harbinger of the trials ahead. This loss of innocence underscores a grim reality: their lives are forever interwoven with the specter of conflict.\n",
      "13\n",
      "number of panels: 13\n",
      "number of images: 2\n",
      "segment 47 :  The chapter ends as it began, peaceful yet poised on the brink of destruction, as the Viking longships set forth, their sails filled with the cold northern winds, charting a course for the relentless theater of war.\n",
      "12\n",
      "number of panels: 12\n",
      "number of images: 3\n",
      "segment 48 :  With each stroke of the oar, they cleave the icy waters, their journey a testament to the indomitable spirit of the Northmen, eternally driven by the promise and perils of the sword.\n",
      "5\n",
      "number of panels: 5\n",
      "number of images: 1\n",
      "segment 49 :  In the frigid heartland of a Viking village, young Thorfinn craves the excitement of battle. With eyes full of eagerness, he watches the warriors prepare, utterly absorbed by their might and valor.\n",
      "3\n",
      "number of panels: 3\n",
      "number of images: 1\n",
      "segment 50 :  The children play roughly, emulating the adults' prowess, but when Thorfinn, filled with the fiery spirit of a warrior, wins the scuffle, the atmosphere shifts.\n",
      "6\n",
      "number of panels: 6\n",
      "number of images: 1\n",
      "segment 51 :  Leif looks on, noting Thorfinn's born talent as a fighter—a harbinger of the tempest that brews within the boy.\n",
      "3\n",
      "number of panels: 3\n",
      "number of images: 1\n",
      "segment 52 :  Confronted with his son's burgeoning bloodlust, Thors presents him with a sleek, impressively-crafted helm, as if to acknowledge the inevitable path Thorfinn is embarking upon.\n",
      "4\n",
      "number of panels: 4\n",
      "number of images: 1\n",
      "segment 53 :  The child, enticed by the call of the battlefield, begs, \"Check this out, Pa! Really, look at me!\" But there's an undercurrent of melancholy, for these innocent pleas are tinged with the gravity of a future forged in steel and strife.\n",
      "5\n",
      "number of panels: 5\n",
      "number of images: 1\n",
      "segment 54 :  Meanwhile, inside their home, Thorfinn's sister, Ylva, scolds him for his carelessness, underscoring the stark contrast between domestic life and the violent games played outside.\n",
      "3\n",
      "number of panels: 3\n",
      "number of images: 1\n",
      "segment 55 :  Thorfinn, ever relentless, secretly searches for a weapon, his soul already enchanted by the promise of a sword—a silent vow to enter the grown-ups' world.\n",
      "5\n",
      "number of panels: 5\n",
      "number of images: 1\n",
      "segment 56 :  The gravity of Thorfinn's silent declaration becomes apparent when he finds a fallen warrior and, with trepidation, takes up his sword. It is shiny, inviting—and heavy with significance.\n",
      "5\n",
      "number of panels: 5\n",
      "number of images: 2\n",
      "segment 57 :  Thors, witnessing his son's inner turmoil, confronts him gently yet firmly, reminding Thorfinn that \"You have no enemies. No one has any enemies. There should be no one...\".\n",
      "11\n",
      "number of panels: 11\n",
      "number of images: 3\n",
      "segment 58 :  But in the stubbornness of youth, Thorfinn's mind wrestles with his father's idealistic vision and the visceral allure of vengeance.\n",
      "5\n",
      "number of panels: 5\n",
      "number of images: 1\n",
      "segment 59 :  Thorfinn's struggle between childhood aspirations and the grounded wisdom of his elders reaches a crescendo when Thors faces the somber reality. He prepares for a journey from which he may never return, leaving his family and a son who still dreams of battles yet fought.\n",
      "4\n",
      "number of panels: 4\n",
      "number of images: 1\n",
      "segment 60 :  The chapter closes with Thorfinn's silent gaze upon the sea, a vast expanse teeming with both peril and promise, as the Vikings' oars slice through the icy waters.\n",
      "2\n",
      "number of panels: 2\n",
      "number of images: 2\n",
      "segment 61 :  Dawn breaks, and a new chapter unfolds. Thors and his men set sail for what may be their last mission, a journey tinged with both hope and foreboding. As the sail unfurls, Thorfinn's absence sends ripples of confusion among the crew.\n",
      "8\n",
      "number of panels: 8\n",
      "number of images: 2\n",
      "segment 62 :  The revelation hits—Thorfinn has stowed away, unbeknownst to his father.\n",
      "4\n",
      "number of panels: 4\n",
      "number of images: 1\n",
      "segment 63 :  His eyes are set on adventure, even as the harsh winds of fate blow strong around him. \"Man oars!\" the warriors cry, pushing forward into the unyielding current of destiny.\n",
      "2\n",
      "number of panels: 2\n",
      "number of images: 1\n",
      "segment 64 :  And so, Chapter 8 concludes with the image of a longship braving the open sea, bound for England's shores, carrying a crew of stalwart souls and a young boy cloaked in the shadow of a future teeming with the echoes of war and the stark reality of the Viking saga.\n",
      "6\n",
      "number of panels: 6\n",
      "number of images: 1\n",
      "segment 65 :  Sailing through the abyssal night, Thors's crew strains to see through the enveloping darkness, with Leif expertly navigating by the stars alone.\n",
      "1\n",
      "number of panels: 1\n",
      "number of images: 1\n",
      "segment 66 :  The men brace themselves, sensing foreboding winds that signal the start of a tempest.\n",
      "7\n",
      "number of panels: 7\n",
      "number of images: 1\n",
      "segment 67 :  Amidst the ocean's roar, a young Thorfinn, unbeknownst to his father, hides below, stowing away for the adventure of a lifetime.\n",
      "1\n",
      "number of panels: 1\n",
      "number of images: 1\n",
      "segment 68 :  The storm strikes with fury, and the ships, caught in its wrath, scatter helplessly.\n",
      "1\n",
      "number of panels: 1\n",
      "number of images: 1\n",
      "segment 69 :  Leif's experience as a sailor shines through the maelstrom, as he remains calm, expertly guiding the crew.\n",
      "7\n",
      "number of panels: 7\n",
      "number of images: 1\n",
      "segment 70 :  Yet when they approach the Faroe Islands, something feels amiss. The houses on the shore are few and far between—a stark contrast to Leif's memories of the settlement.\n",
      "5\n",
      "number of panels: 5\n",
      "number of images: 1\n",
      "segment 71 :  As the ominous sense of deceit becomes palpable, Thors's ship is bombarded by a barrage of falling logs, a deadly trap set by unseen assailants.\n",
      "3\n",
      "number of panels: 3\n",
      "number of images: 1\n",
      "segment 72 :  The ambush is revealed as Thors's ship is ensnared between towering cliffs—the enemy is upon them, a legion of merciless warriors who have lured them into a deadly snare.\n",
      "2\n",
      "number of panels: 2\n",
      "number of images: 2\n",
      "segment 73 :  With the realization that they are facing none other than the notorious Jomsvikings, Thors's past collides with the present in a violent outpouring of fate.\n",
      "2\n",
      "number of panels: 2\n",
      "number of images: 1\n",
      "segment 74 :  A colossal fight ensues, with Thors, the legendary warrior, standing tall amidst the mayhem, his prowess in battle as dreadful and breathtaking as the storm's fury.\n",
      "4\n",
      "number of panels: 4\n",
      "number of images: 1\n",
      "segment 75 :  Surrounded by enemies, Thors instructs Thorfinn, \"Only use it to protect yourself when it's absolutely necessary...\" as he hands his son the helm, a symbol of his burgeoning journey from boy to shield-bearer.\n",
      "6\n",
      "number of panels: 6\n",
      "number of images: 1\n",
      "segment 76 :  The bloodthirsty Jomsvikings show no mercy, yet they are awed by the might of Thors, who wields not a sword, but sheer force to repel their assault.\n",
      "5\n",
      "number of panels: 5\n",
      "number of images: 1\n",
      "segment 77 :  \"Troll of Jom,\" they whisper, as each adversary falls before his indomitable strength.\n",
      "3\n",
      "number of panels: 3\n",
      "number of images: 1\n",
      "segment 78 :  Even in the chaos of battle, Thors remains steadfast, his every move a testament to his moniker—more than a monster, a legend brought to life.\n",
      "4\n",
      "number of panels: 4\n",
      "number of images: 1\n",
      "segment 79 :  Thors's valor offers a fleeting hope of victory, but as the enemy regroups and Bjorn, their berserker, explodes into a frenetic fury, the tide turns once more.\n",
      "3\n",
      "number of panels: 3\n",
      "number of images: 1\n",
      "segment 80 :  The men fight with the ferocity of wolves, Thors's every move grappling with not just foes but the weight of his choices, his legacy, and the world he wishes for his son.\n",
      "1\n",
      "number of panels: 1\n",
      "number of images: 1\n",
      "segment 81 :  In a shocking twist of honor among warriors, Thors calls for a halt to the bloodshed, offering himself in exchange for the lives of his men and the protection of his son, his will unbroken even in the face of overwhelming odds.\n",
      "5\n",
      "number of panels: 5\n",
      "number of images: 1\n",
      "segment 82 :  The chapter climaxes with Thors's stunning gambit, his surrender leaving the enemy and his own men in disbelief, as the magnanimity of the \"Troll of Jom\" eclipses the din of battle and the snarl of the storm.\n",
      "1\n",
      "number of panels: 1\n",
      "number of images: 1\n",
      "segment 83 :  Amid the suspense of a volatile standoff, Thors, the enigmatic and formidable \"Troll of Jom,\" confronts his fate on the decks of his ship, surrounded by the formidable Jomsvikings and his own bewildered crew.\n",
      "4\n",
      "number of panels: 4\n",
      "number of images: 1\n",
      "segment 84 :  His son, Thorfinn, watches with veiled trepidation as Thors, stoic and unyielding, accepts the challenge of a duel to the death.\n",
      "6\n",
      "number of panels: 6\n",
      "number of images: 1\n",
      "segment 85 :  Floki, leader of the Jomsvikings, goads Thors, questioning his courage and resolve, to which Thors responds with ironclad conviction, \"Begone, fritters. You cannot defeat me.\" His presence is an unspoken threat, an assurance that even in the darkest hour, valor remains.\n",
      "4\n",
      "number of panels: 4\n",
      "number of images: 1\n",
      "segment 86 :  As the duel unfolds, Thors's sheer might is revealed—he moves with a grace and power that belies his stature. The atmosphere is electric, charged with the anticipation of a clash between titans.\n",
      "1\n",
      "number of panels: 1\n",
      "number of images: 1\n",
      "segment 87 :  With a force that shakes the very vessel they stand upon, Thors disarms his opponent, Askeladd, sending a clear message of his unmatched prowess.\n",
      "2\n",
      "number of panels: 2\n",
      "number of images: 1\n",
      "segment 88 :  However, it's not only Thors's strength that captivates the onlookers; his son is also engulfed by the unfolding drama, witnessing his father's indomitable spirit.\n",
      "1\n",
      "number of panels: 1\n",
      "number of images: 1\n",
      "segment 89 :  The combatants exchange fierce blows, their swords singing a deadly harmony that resonates across the ship.\n",
      "3\n",
      "number of panels: 3\n",
      "number of images: 1\n",
      "segment 90 :  In a decisive moment that sears itself into the memories of all present, Thors stands unassailable, his resolve as unbreakable as his famed helm. With a heart heavy with sorrow, yet clear with purpose, Thors claims victory. But it is hollow, for all he truly desires is freedom for his men and protection for his son. Askeladd acknowledges his defeat grudgingly, but with respect.\n",
      "5\n",
      "number of panels: 5\n",
      "number of images: 1\n",
      "segment 91 :  The battle's climax echoes Thorfinn's adoration, chanting \"Father!!\" as Thors's mighty figure overshadows their adversaries, securing the safety of his crew and solidifying his legend.\n",
      "6\n",
      "number of panels: 6\n",
      "number of images: 2\n",
      "segment 92 :  Thus, Chapter 15 concludes with the fall of the sword and the rise of a true warrior—a man who wields his strength not for glory, but for the bond of family and the chance at peace.\n",
      "1\n",
      "number of panels: 1\n",
      "number of images: 1\n",
      "segment 93 :  The profound tragedy of Thors's death unravels as he stands, pierced by a forest of arrows; his figure a stark emblem of his unwavering honor and a poignant testament to the cost of true courage.\n",
      "5\n",
      "number of panels: 5\n",
      "number of images: 1\n",
      "segment 94 :  Thorfinn, bearing witness to this harrowing moment, can barely comprehend the gravity as he cries out, \"Father!\" His innocence shatters amidst the grim tableau of sacrifice.\n",
      "1\n",
      "number of panels: 1\n",
      "number of images: 1\n",
      "segment 95 :  Askeladd, the orchestrator of this cruel fate, acknowledges Thors's triumph, even in death, compelling him to \"Understand... I swear by my ancestors. Artorius...\"—a solemn vow to uphold the warrior's last wishes.\n",
      "1\n",
      "number of panels: 1\n",
      "number of images: 1\n",
      "segment 96 :  The Jomsvikings, stoic and resolute, stand as grim spectators to the somber pact.\n",
      "1\n",
      "number of panels: 1\n",
      "number of images: 1\n",
      "segment 97 :  In a final, insidious betrayal, Askeladd commands, \"Do it. Drop the boy.\" Thorfinn plummets into the icy abyss, his tiny, desperate voice echoing his father’s name. The cold sea embraces him, and so ends Thors's saga, with his mighty legacy cradled in the young, vengeful heart of his son.\n",
      "3\n",
      "number of panels: 3\n",
      "number of images: 1\n",
      "segment 98 :  As the Viking ships sail away, carrying Thors's body and his comrades, Thorfinn, alone and adrift, is consumed by an incendiary rage that promises vengeance: \"I swear I'll kill you. I'll kill you!!\"^28]. His father, the man of no enemies, leaves a legacy marred by unresolved anguish, setting Thorfinn on a dark path fueled by retribution.\n",
      "7\n",
      "number of panels: 7\n",
      "number of images: 2\n",
      "segment 99 :  In the poignant aftermath, the night envelopes all, and the vast sea, indifferent to mortal woes, quietly absorbs the echoes of the fallen warrior and the birth cries of a vengeful shadow.\n",
      "4\n",
      "number of panels: 4\n",
      "number of images: 1\n",
      "segment 100 :  Amidst the bleak expanse of the sea and the merciless winds, Thorfinn's journey with the war band of Askeladd unfolds on a somber map scattered with bloodshed and battles. His tireless pursuit, from his native Iceland to the shores of England, paints a bitter trail of vengeance stretching far across the frigid North Atlantic. Every mark on the map, from Thorfinn's village to the Frankish lands, echoes the relentless cadence of his grim sojourn—each location a stark reminder of violence endured and the will to persist.\n",
      "\n",
      "The page reveals not just the vast distances traversed but the transformation within Thorfinn, etching the scars of countless skirmishes into his very soul. As the map spans the pivotal points of his travels, one can almost hear the clash of steel and the cries of warriors in resonance with each name etched upon the parchment. An inconspicuous 'X' marks the village of Thorfinn, an origin now synonymous with both loss and the fierce determination of a boy grown too soon into the grim reality of a warrior's life. Across the wintry waters, the Faroe Islands, England, and a trail that winds like the path of destiny, the journey of Thorfinn coalesces into a legacy written not in ink, but in the blood of foes and the indelible memories of struggle, sacrifice, and the undying flame of revenge.\n",
      "0\n",
      "number of panels: 0\n",
      "number of images: 0\n",
      "GPT RESPONSE: {\n",
      "    \"important_panels\": [2, 4]\n",
      "}\n",
      "No important panels for segment 9\n",
      "GPT RESPONSE: ```json\n",
      "{\n",
      "    \"important_panels\": [0, 1, 2]\n",
      "}\n",
      "```\n",
      "Using GPT as a backup to format JSON object...\n",
      "Important panels for segment 13 exist.\n",
      "GPT RESPONSE: ```\n",
      "{\n",
      "    \"important_panels\": [1]\n",
      "}\n",
      "```\n",
      "Using GPT as a backup to format JSON object...\n",
      "Important panels for segment 0 exist.\n",
      "GPT RESPONSE: ```json\n",
      "{\n",
      "    \"important_panels\": [0, 7]\n",
      "}\n",
      "```\n",
      "Using GPT as a backup to format JSON object...\n",
      "Important panels for segment 12 exist.\n",
      "GPT RESPONSE: ```\n",
      "{\n",
      "    \"important_panels\": []\n",
      "}\n",
      "```\n",
      "Using GPT as a backup to format JSON object...\n",
      "No important panels for segment 8\n",
      "GPT RESPONSE: ```\n",
      "{\n",
      "    \"important_panels\": []\n",
      "}\n",
      "```\n",
      "Using GPT as a backup to format JSON object...\n",
      "No important panels for segment 6\n",
      "GPT RESPONSE: ```\n",
      "{\n",
      "    \"important_panels\": [1]\n",
      "}\n",
      "```\n",
      "Using GPT as a backup to format JSON object...\n",
      "Important panels for segment 16 exist.\n",
      "GPT RESPONSE: ```json\n",
      "{\n",
      "    \"important_panels\": [0, 5, 7]\n",
      "}\n",
      "```\n",
      "Using GPT as a backup to format JSON object...\n",
      "Important panels for segment 11 exist.\n",
      "GPT RESPONSE: ```json\n",
      "{\n",
      "    \"important_panels\": [1, 4]\n",
      "}\n",
      "```\n",
      "Using GPT as a backup to format JSON object...\n",
      "Important panels for segment 7 exist.\n",
      "GPT RESPONSE: ```json\n",
      "{\n",
      "    \"important_panels\": [0, 3, 7, 8]\n",
      "}\n",
      "```\n",
      "Using GPT as a backup to format JSON object...\n",
      "Important panels for segment 15 exist.\n",
      "GPT RESPONSE: ```\n",
      "{\n",
      "    \"important_panels\": [4, 5, 6, 7, 8]\n",
      "}\n",
      "```\n",
      "Using GPT as a backup to format JSON object...\n",
      "Important panels for segment 10 exist.\n",
      "GPT RESPONSE: ```\n",
      "{\n",
      "    \"important_panels\": [0, 5]\n",
      "}\n",
      "```\n",
      "Using GPT as a backup to format JSON object...\n",
      "GPT RESPONSE: ```\n",
      "{\n",
      "    \"important_panels\": [0]\n",
      "}\n",
      "```\n",
      "Using GPT as a backup to format JSON object...\n",
      "Important panels for segment 14 exist.\n",
      "Important panels for segment 22 exist.\n",
      "GPT RESPONSE: ```json\n",
      "{\n",
      "    \"important_panels\": [1, 2]\n",
      "}\n",
      "```\n",
      "Using GPT as a backup to format JSON object...\n",
      "No important panels for segment 20\n",
      "GPT RESPONSE: ```json\n",
      "{\n",
      "    \"important_panels\": [5, 6, 7, 8]\n",
      "}\n",
      "```\n",
      "Using GPT as a backup to format JSON object...\n",
      "Important panels for segment 4 exist.\n",
      "GPT RESPONSE: ```json\n",
      "{\n",
      "    \"important_panels\": [2, 3]\n",
      "}\n",
      "```\n",
      "Using GPT as a backup to format JSON object...\n",
      "GPT RESPONSE: ```json\n",
      "{\n",
      "    \"important_panels\": [1, 7, 9, 10, 11]\n",
      "}\n",
      "```\n",
      "Using GPT as a backup to format JSON object...\n",
      "Important panels for segment 3 exist.\n",
      "Important panels for segment 18 exist.\n",
      "The input image may contain content that is not allowed by OpenAI's safety system.\n",
      "No important panels for segment 1\n",
      "GPT RESPONSE: ```json\n",
      "{\n",
      "    \"important_panels\": [1, 2]\n",
      "}\n",
      "```\n",
      "Using GPT as a backup to format JSON object...\n",
      "Important panels for segment 17 exist.\n",
      "GPT RESPONSE: ```json\n",
      "{\n",
      "    \"important_panels\": [1, 3, 6]\n",
      "}\n",
      "```\n",
      "Using GPT as a backup to format JSON object...\n",
      "GPT RESPONSE: ```json\n",
      "{\n",
      "    \"important_panels\": [1, 2, 4]\n",
      "}\n",
      "```\n",
      "Using GPT as a backup to format JSON object...\n",
      "Important panels for segment 19 exist.\n",
      "Important panels for segment 23 exist.\n",
      "GPT RESPONSE: ```json\n",
      "{\n",
      "    \"important_panels\": [2, 3, 11, 13, 14]\n",
      "}\n",
      "```\n",
      "Using GPT as a backup to format JSON object...\n",
      "Important panels for segment 2 exist.\n",
      "GPT RESPONSE: ```json\n",
      "{\n",
      "    \"important_panels\": [7, 9]\n",
      "}\n",
      "```\n",
      "Using GPT as a backup to format JSON object...\n",
      "Important panels for segment 5 exist.\n",
      "GPT RESPONSE: ```\n",
      "{\n",
      "    \"important_panels\": [0, 1, 3, 4]\n",
      "}\n",
      "```\n",
      "Using GPT as a backup to format JSON object...\n",
      "GPT RESPONSE: {\n",
      "    \"important_panels\": [0, 2]\n",
      "}\n",
      "Important panels for segment 26 exist.\n",
      "Important panels for segment 21 exist.\n",
      "GPT RESPONSE: ```\n",
      "{\n",
      "    \"important_panels\": [1, 2, 4]\n",
      "}\n",
      "```\n",
      "Using GPT as a backup to format JSON object...\n",
      "Important panels for segment 29 exist.\n",
      "GPT RESPONSE: ```json\n",
      "{\n",
      "    \"important_panels\": [0, 3, 4]\n",
      "}\n",
      "```\n",
      "Using GPT as a backup to format JSON object...\n",
      "Important panels for segment 28 exist.\n",
      "GPT RESPONSE: ```\n",
      "{\n",
      "    \"important_panels\": [1, 3]\n",
      "}\n",
      "```\n",
      "Using GPT as a backup to format JSON object...\n",
      "Important panels for segment 24 exist.\n",
      "GPT RESPONSE: ```json\n",
      "{\n",
      "    \"important_panels\": []\n",
      "}\n",
      "```\n",
      "Using GPT as a backup to format JSON object...\n",
      "No important panels for segment 39\n",
      "GPT RESPONSE: ```\n",
      "{\n",
      "    \"important_panels\": [0, 1]\n",
      "}\n",
      "```\n",
      "Using GPT as a backup to format JSON object...\n",
      "GPT RESPONSE: ```\n",
      "{\n",
      "    \"important_panels\": [1, 3, 4]\n",
      "}\n",
      "```\n",
      "Using GPT as a backup to format JSON object...\n",
      "Important panels for segment 33 exist.\n",
      "Important panels for segment 27 exist.\n",
      "GPT RESPONSE: ```json\n",
      "{\n",
      "    \"important_panels\": [1, 2, 3]\n",
      "}\n",
      "```\n",
      "Using GPT as a backup to format JSON object...\n",
      "Important panels for segment 40 exist.\n",
      "GPT RESPONSE: ```\n",
      "{\n",
      "    \"important_panels\": [2]\n",
      "}\n",
      "```\n",
      "Using GPT as a backup to format JSON object...\n",
      "Important panels for segment 44 exist.\n",
      "GPT RESPONSE: ```\n",
      "{\n",
      "    \"important_panels\": [2, 3, 7]\n",
      "}\n",
      "```\n",
      "Using GPT as a backup to format JSON object...\n",
      "Important panels for segment 30 exist.\n",
      "GPT RESPONSE: ```json\n",
      "{\n",
      "    \"important_panels\": [0, 3, 6]\n",
      "}\n",
      "```\n",
      "Using GPT as a backup to format JSON object...\n",
      "GPT RESPONSE: ```json\n",
      "{\n",
      "    \"important_panels\": [10, 11, 13, 14, 15]\n",
      "}\n",
      "```\n",
      "Using GPT as a backup to format JSON object...\n",
      "Important panels for segment 36 exist.\n",
      "Important panels for segment 35 exist.\n",
      "GPT RESPONSE: ```json\n",
      "{\n",
      "    \"important_panels\": [2, 3, 4, 5]\n",
      "}\n",
      "```\n",
      "Using GPT as a backup to format JSON object...\n",
      "Important panels for segment 38 exist.\n",
      "GPT RESPONSE: ```json\n",
      "{\n",
      "    \"important_panels\": [6, 7, 9]\n",
      "}\n",
      "```\n",
      "Using GPT as a backup to format JSON object...\n",
      "GPT RESPONSE: ```json\n",
      "{\n",
      "    \"important_panels\": []\n",
      "}\n",
      "```\n",
      "Using GPT as a backup to format JSON object...\n",
      "GPT RESPONSE: ```json\n",
      "{\n",
      "    \"important_panels\": [17]\n",
      "}\n",
      "```\n",
      "Using GPT as a backup to format JSON object...\n",
      "Important panels for segment 34 exist.\n",
      "No important panels for segment 37\n",
      "Important panels for segment 25 exist.\n",
      "GPT RESPONSE: ```json\n",
      "{\n",
      "    \"important_panels\": [7, 8, 11]\n",
      "}\n",
      "```\n",
      "Using GPT as a backup to format JSON object...\n",
      "GPT RESPONSE: ```json\n",
      "{\n",
      "    \"important_panels\": [0, 1, 2, 4]\n",
      "}\n",
      "```\n",
      "Using GPT as a backup to format JSON object...\n",
      "Important panels for segment 31 exist.\n",
      "Important panels for segment 41 exist.\n",
      "GPT RESPONSE: ```json\n",
      "{\n",
      "  \"important_panels\": [1, 5, 10, 11, 12]\n",
      "}\n",
      "```\n",
      "Using GPT as a backup to format JSON object...\n",
      "Important panels for segment 32 exist.\n",
      "GPT RESPONSE: ```\n",
      "{\n",
      "    \"important_panels\": [2]\n",
      "}\n",
      "```\n",
      "Using GPT as a backup to format JSON object...\n",
      "Important panels for segment 48 exist.\n",
      "GPT RESPONSE: ```json\n",
      "{\n",
      "    \"important_panels\": [0, 2]\n",
      "}\n",
      "```\n",
      "Using GPT as a backup to format JSON object...\n",
      "Important panels for segment 51 exist.\n",
      "GPT RESPONSE: ```\n",
      "{\n",
      "    \"important_panels\": [1, 2]\n",
      "}\n",
      "```\n",
      "Using GPT as a backup to format JSON object...\n",
      "Important panels for segment 54 exist.\n",
      "GPT RESPONSE: ```json\n",
      "{\n",
      "    \"important_panels\": [0, 1]\n",
      "}\n",
      "```\n",
      "Using GPT as a backup to format JSON object...\n",
      "Important panels for segment 49 exist.\n",
      "GPT RESPONSE: ```json\n",
      "{\n",
      "    \"important_panels\": [6, 7, 9]\n",
      "}\n",
      "```\n",
      "Using GPT as a backup to format JSON object...\n",
      "Important panels for segment 43 exist.\n",
      "GPT RESPONSE: ```json\n",
      "{\n",
      "    \"important_panels\": [3]\n",
      "}\n",
      "```\n",
      "Using GPT as a backup to format JSON object...\n",
      "Important panels for segment 52 exist.\n",
      "GPT RESPONSE: {\n",
      "    \"important_panels\": [0, 1, 7]\n",
      "}\n",
      "Important panels for segment 42 exist.\n",
      "GPT RESPONSE: ```\n",
      "{\n",
      "    \"important_panels\": [1, 2, 3]\n",
      "}\n",
      "```\n",
      "Using GPT as a backup to format JSON object...\n",
      "Important panels for segment 55 exist.\n",
      "GPT RESPONSE: ```json\n",
      "{\n",
      "    \"important_panels\": [0, 1]\n",
      "}\n",
      "```\n",
      "Using GPT as a backup to format JSON object...\n",
      "Important panels for segment 53 exist.\n",
      "GPT RESPONSE: ```json\n",
      "{\n",
      "    \"important_panels\": [1, 3, 5]\n",
      "}\n",
      "```\n",
      "Using GPT as a backup to format JSON object...\n",
      "GPT RESPONSE: ```json\n",
      "{\n",
      "    \"important_panels\": [1, 2, 3, 4]\n",
      "}\n",
      "```\n",
      "Using GPT as a backup to format JSON object...\n",
      "Important panels for segment 50 exist.\n",
      "Important panels for segment 56 exist.\n",
      "GPT RESPONSE: ```json\n",
      "{\n",
      "    \"important_panels\": [0, 1]\n",
      "}\n",
      "```\n",
      "Using GPT as a backup to format JSON object...\n",
      "Important panels for segment 60 exist.\n",
      "GPT RESPONSE: ```json\n",
      "{\n",
      "    \"important_panels\": [5]\n",
      "}\n",
      "```\n",
      "Using GPT as a backup to format JSON object...\n",
      "Important panels for segment 47 exist.\n",
      "GPT RESPONSE: ```json\n",
      "{\n",
      "    \"important_panels\": [1, 3, 7]\n",
      "}\n",
      "```\n",
      "Using GPT as a backup to format JSON object...\n",
      "GPT RESPONSE: {\n",
      "    \"important_panels\": [0, 2, 3, 5]\n",
      "}\n",
      "Important panels for segment 65 exist.\n",
      "GPT RESPONSE: ```json\n",
      "{\n",
      "    \"important_panels\": [0, 4]\n",
      "}\n",
      "```\n",
      "Using GPT as a backup to format JSON object...\n",
      "Important panels for segment 45 exist.\n",
      "Important panels for segment 58 exist.\n",
      "GPT RESPONSE: {\n",
      "    \"important_panels\": [1]\n",
      "}\n",
      "Important panels for segment 63 exist.\n",
      "GPT RESPONSE: {\n",
      "    \"important_panels\": [0]\n",
      "}\n",
      "Important panels for segment 68 exist.\n",
      "GPT RESPONSE: {\n",
      "    \"important_panels\": [0, 1, 3]\n",
      "}\n",
      "Important panels for segment 59 exist.\n",
      "GPT RESPONSE: {\n",
      "    \"important_panels\": [3, 6]\n",
      "}\n",
      "No important panels for segment 67\n",
      "GPT RESPONSE: ```json\n",
      "{\n",
      "    \"important_panels\": [1, 2, 4]\n",
      "}\n",
      "```\n",
      "Using GPT as a backup to format JSON object...\n",
      "Important panels for segment 61 exist.\n",
      "GPT RESPONSE: ```json\n",
      "{\n",
      "    \"important_panels\": [3, 4, 8]\n",
      "}\n",
      "```\n",
      "Using GPT as a backup to format JSON object...\n",
      "Important panels for segment 46 exist.\n",
      "GPT RESPONSE: {\n",
      "    \"important_panels\": [2]\n",
      "}\n",
      "Important panels for segment 62 exist.\n",
      "GPT RESPONSE: ```json\n",
      "{\n",
      "    \"important_panels\": [0, 1]\n",
      "}\n",
      "```\n",
      "Using GPT as a backup to format JSON object...\n",
      "Important panels for segment 72 exist.\n",
      "GPT RESPONSE: {\n",
      "    \"important_panels\": [1]\n",
      "}\n",
      "Important panels for segment 73 exist.\n",
      "GPT RESPONSE: ```\n",
      "{\n",
      "    \"important_panels\": [0, 1, 2]\n",
      "}\n",
      "```\n",
      "Using GPT as a backup to format JSON object...\n",
      "GPT RESPONSE: ```json\n",
      "{\n",
      "    \"important_panels\": [1, 4]\n",
      "}\n",
      "```\n",
      "Using GPT as a backup to format JSON object...\n",
      "Important panels for segment 71 exist.\n",
      "GPT RESPONSE: ```\n",
      "{\n",
      "    \"important_panels\": [3, 4, 6, 7]\n",
      "}\n",
      "```\n",
      "Using GPT as a backup to format JSON object...\n",
      "GPT RESPONSE: ```json\n",
      "{\n",
      "    \"important_panels\": [2]\n",
      "}\n",
      "```\n",
      "Using GPT as a backup to format JSON object...\n",
      "Important panels for segment 70 exist.\n",
      "Important panels for segment 64 exist.\n",
      "Important panels for segment 57 exist.\n",
      "GPT RESPONSE: ```\n",
      "{\n",
      "    \"important_panels\": [1]\n",
      "}\n",
      "```\n",
      "Using GPT as a backup to format JSON object...\n",
      "GPT RESPONSE: {\n",
      "    \"important_panels\": [0, 1, 2]\n",
      "}\n",
      "Important panels for segment 80 exist.\n",
      "GPT RESPONSE: ```\n",
      "{\n",
      "    \"important_panels\": [2, 3, 5]\n",
      "}\n",
      "```\n",
      "Using GPT as a backup to format JSON object...\n",
      "Important panels for segment 74 exist.\n",
      "Important panels for segment 66 exist.\n",
      "GPT RESPONSE: ```\n",
      "{\n",
      "    \"important_panels\": []\n",
      "}\n",
      "```\n",
      "Using GPT as a backup to format JSON object...\n",
      "No important panels for segment 76\n",
      "GPT RESPONSE: ```json\n",
      "{\n",
      "    \"important_panels\": [3]\n",
      "}\n",
      "```\n",
      "Using GPT as a backup to format JSON object...\n",
      "Important panels for segment 69 exist.\n",
      "GPT RESPONSE: ```json\n",
      "{\n",
      "    \"important_panels\": [0, 1, 2]\n",
      "}\n",
      "```\n",
      "Using GPT as a backup to format JSON object...\n",
      "Important panels for segment 77 exist.\n",
      "GPT RESPONSE: ```json\n",
      "{\n",
      "    \"important_panels\": [0, 1, 2]\n",
      "}\n",
      "```\n",
      "Using GPT as a backup to format JSON object...\n",
      "Important panels for segment 75 exist.\n",
      "GPT RESPONSE: ```\n",
      "{\n",
      "    \"important_panels\": [1, 2]\n",
      "}\n",
      "```\n",
      "Using GPT as a backup to format JSON object...\n",
      "GPT RESPONSE: {\n",
      "    \"important_panels\": [1]\n",
      "}\n",
      "No important panels for segment 82\n",
      "Important panels for segment 79 exist.\n",
      "GPT RESPONSE: {\n",
      "    \"important_panels\": [1]\n",
      "}\n",
      "No important panels for segment 88\n",
      "GPT RESPONSE: {\"important_panels\": [0]}\n",
      "Important panels for segment 86 exist.\n",
      "GPT RESPONSE: ```\n",
      "{\n",
      "    \"important_panels\": [0, 1]\n",
      "}\n",
      "```\n",
      "Using GPT as a backup to format JSON object...\n",
      "Important panels for segment 78 exist.\n",
      "GPT RESPONSE: {\n",
      "    \"important_panels\": [0]\n",
      "}\n",
      "Important panels for segment 81 exist.\n",
      "GPT RESPONSE: ```json\n",
      "{\n",
      "    \"important_panels\": [1]\n",
      "}\n",
      "```\n",
      "Using GPT as a backup to format JSON object...\n",
      "GPT RESPONSE: ```json\n",
      "{\n",
      "    \"important_panels\": [1, 2, 3]\n",
      "}\n",
      "```\n",
      "Using GPT as a backup to format JSON object...\n",
      "No important panels for segment 94\n",
      "GPT RESPONSE: ```\n",
      "{\n",
      "    \"important_panels\": [1]\n",
      "}\n",
      "```\n",
      "Using GPT as a backup to format JSON object...\n",
      "No important panels for segment 92\n",
      "Important panels for segment 87 exist.\n",
      "GPT RESPONSE: ```\n",
      "{\n",
      "    \"important_panels\": [0, 1, 2, 3]\n",
      "}\n",
      "```\n",
      "Using GPT as a backup to format JSON object...\n",
      "Important panels for segment 83 exist.\n",
      "GPT RESPONSE: ```json\n",
      "{\n",
      "    \"important_panels\": [1, 2]\n",
      "}\n",
      "```\n",
      "Using GPT as a backup to format JSON object...\n",
      "Important panels for segment 89 exist.\n",
      "GPT RESPONSE: {\"important_panels\": [1]}\n",
      "No important panels for segment 95\n",
      "GPT RESPONSE: I'm sorry, but you have not provided the sequence of panel images from the manga for me to analyze. Please upload the images so that I can assist you with identifying the relevant panels.\n",
      "Using GPT as a backup to format JSON object...\n",
      "No important panels for segment 100\n",
      "GPT RESPONSE: ```json\n",
      "{\n",
      "    \"important_panels\": [1, 3]\n",
      "}\n",
      "```\n",
      "Using GPT as a backup to format JSON object...\n",
      "Important panels for segment 84 exist.\n",
      "GPT RESPONSE: ```json\n",
      "{\n",
      "    \"important_panels\": [0, 2, 4]\n",
      "}\n",
      "```\n",
      "Using GPT as a backup to format JSON object...\n",
      "GPT RESPONSE: {\n",
      "    \"important_panels\": [0]\n",
      "}\n",
      "Important panels for segment 96 exist.\n",
      "GPT RESPONSE: ```json\n",
      "{\n",
      "    \"important_panels\": [0]\n",
      "}\n",
      "```\n",
      "Using GPT as a backup to format JSON object...\n",
      "Important panels for segment 85 exist.\n",
      "Important panels for segment 90 exist.\n",
      "GPT RESPONSE: ```json\n",
      "{\n",
      "    \"important_panels\": [3, 4]\n",
      "}\n",
      "```\n",
      "Using GPT as a backup to format JSON object...\n",
      "Important panels for segment 91 exist.\n",
      "GPT RESPONSE: ```json\n",
      "{\n",
      "    \"important_panels\": [0]\n",
      "}\n",
      "```\n",
      "Using GPT as a backup to format JSON object...\n",
      "GPT RESPONSE: ```\n",
      "{\n",
      "    \"important_panels\": []\n",
      "}\n",
      "```\n",
      "Using GPT as a backup to format JSON object...\n",
      "Important panels for segment 97 exist.\n",
      "No important panels for segment 93\n",
      "GPT RESPONSE: ```json\n",
      "{\n",
      "    \"important_panels\": [2, 6]\n",
      "}\n",
      "```\n",
      "Using GPT as a backup to format JSON object...\n",
      "Important panels for segment 98 exist.\n",
      "GPT RESPONSE: ```json\n",
      "{\n",
      "    \"important_panels\": [1, 3]\n",
      "}\n",
      "```\n",
      "Using GPT as a backup to format JSON object...\n",
      "Important panels for segment 99 exist.\n",
      "Tokens for extracting profiles and chapters: 67827  |  $0.6783\n",
      "Tokens for summarization: 940  |  $0.0094\n",
      "Tokens for extracting important panels: 105748  |  $1.0575\n",
      "Total GPT tokens: 174515  |  $1.7452\n",
      "Total elevenlabs characters: 20062  |  $6.0186\n",
      "GRAND TOTAL COST  |  $7.7637\n"
     ]
    }
   ],
   "source": [
    "print(\"number of segments:\", len(movie_script))\n",
    "for i, segment in enumerate(movie_script):\n",
    "    print(\"segment\", i, \": \", segment[\"text\"])\n",
    "    all_panels_base64 = [panel for sublist in segment[\"panels\"].values() for panel in sublist]\n",
    "    print(len(all_panels_base64))\n",
    "    print(\"number of panels:\", len(all_panels_base64))\n",
    "    print(\"number of images:\", len(segment[\"images\"]))\n",
    "\n",
    "def process_segment(segment_tuple):\n",
    "    i, segment = segment_tuple  # Unpack the tuple\n",
    "    panels = []\n",
    "    for j, page in enumerate(segment[\"images\"]):\n",
    "        if \"panels\" in segment:\n",
    "            if j not in segment[\"panels\"]:\n",
    "                panels.append(page)\n",
    "            else:\n",
    "                for panel in segment[\"panels\"][j]:\n",
    "                    panels.append(panel)\n",
    "        else:\n",
    "            panels.append(page)\n",
    "    \n",
    "    scaled_panels = [scale_base64_image(p) for p in panels]\n",
    "\n",
    "\n",
    "    response = get_important_panels(profile_reference, scaled_panels, client, \n",
    "        segment[\"text\"] + \"\\n________\\n\" + KEY_PANEL_IDENTIFICATION_PROMPT, KEY_PANEL_IDENTIFICATION_INSTRUCTIONS)\n",
    "\n",
    "    important_panels = response[\"parsed_response\"]\n",
    "    # check if important panels is an array\n",
    "    if not isinstance(important_panels, list):\n",
    "        important_panels = []\n",
    "\n",
    "    ip = []\n",
    "    for p in important_panels:\n",
    "        number = p\n",
    "        if isinstance(number, str):\n",
    "            if number.isdigit():\n",
    "                number = int(number)\n",
    "        if not isinstance(number, int):\n",
    "            continue\n",
    "\n",
    "        if number < len(panels):\n",
    "            ip.append(panels[number])\n",
    "        \n",
    "    \n",
    "    return i, ip, response[\"total_tokens\"]\n",
    "\n",
    "# Initialize variables\n",
    "panel_tokens = 0\n",
    "important_panels_info = {}\n",
    "\n",
    "# Use ThreadPoolExecutor to parallelize the processing\n",
    "with concurrent.futures.ThreadPoolExecutor() as executor:\n",
    "    # Create a list of futures\n",
    "    futures = [executor.submit(process_segment, (i, segment)) for i, segment in enumerate(movie_script)]\n",
    "    \n",
    "    # Collect the results as they complete\n",
    "    for future in concurrent.futures.as_completed(futures):\n",
    "        i, ip, tokens = future.result()\n",
    "        if ip:\n",
    "            print(\"Important panels for segment\", i, \"exist.\")\n",
    "        else: \n",
    "            print(\"No important panels for segment\", i)\n",
    "        movie_script[i][\"important_panels\"] = ip  # Assign the important panels back to the segment\n",
    "        panel_tokens += tokens\n",
    "\n",
    "\n",
    "ELEVENLABS_PRICE_PER_CHARACTER = 0.0003\n",
    "print(\"Tokens for extracting profiles and chapters:\", important_page_tokens, \" | \", \"${:,.4f}\".format(VISION_PRICE_PER_TOKEN * important_page_tokens))\n",
    "print(\"Tokens for summarization:\", tokens,  \" | \", \"${:,.4f}\".format(VISION_PRICE_PER_TOKEN * tokens))\n",
    "print(\"Tokens for extracting important panels:\", panel_tokens, \" | \", \"${:,.4f}\".format(VISION_PRICE_PER_TOKEN * panel_tokens))\n",
    "total_gpt_tokens = important_page_tokens + tokens + panel_tokens\n",
    "print(\"Total GPT tokens:\", total_gpt_tokens,  \" | \", \"${:,.4f}\".format(VISION_PRICE_PER_TOKEN * (total_gpt_tokens)))\n",
    "print(\"Total elevenlabs characters:\", len(narration_script), \" | \", \"${:,.4f}\".format(ELEVENLABS_PRICE_PER_CHARACTER * (len(narration_script))))\n",
    "print(\"GRAND TOTAL COST\",\" | \", \"${:,.4f}\".format(VISION_PRICE_PER_TOKEN * (total_gpt_tokens) + ELEVENLABS_PRICE_PER_CHARACTER * (len(narration_script))))\n",
    "\n",
    "\n",
    "\n"
   ]
  },
  {
   "cell_type": "code",
   "execution_count": 204,
   "id": "c972b45e",
   "metadata": {},
   "outputs": [
    {
     "name": "stdout",
     "output_type": "stream",
     "text": [
      "Narrating movie script...\n",
      "got bytes: 114102\n",
      "got bytes: 149211\n",
      "got bytes: 237818\n",
      "got bytes: 254537\n",
      "got bytes: 111177\n",
      "got bytes: 161750\n",
      "got bytes: 312633\n",
      "got bytes: 224862\n",
      "got bytes: 223608\n",
      "got bytes: 260806\n",
      "got bytes: 299258\n",
      "got bytes: 310543\n",
      "got bytes: 168437\n",
      "got bytes: 183484\n",
      "got bytes: 258298\n",
      "got bytes: 140434\n",
      "got bytes: 181812\n",
      "got bytes: 81502\n",
      "got bytes: 102400\n",
      "got bytes: 199784\n",
      "got bytes: 85263\n",
      "got bytes: 137508\n",
      "got bytes: 186409\n",
      "got bytes: 127477\n",
      "got bytes: 187245\n",
      "got bytes: 303020\n",
      "got bytes: 205635\n",
      "got bytes: 86099\n",
      "got bytes: 137926\n",
      "got bytes: 282122\n",
      "got bytes: 132911\n",
      "got bytes: 168437\n",
      "got bytes: 140852\n",
      "got bytes: 147121\n",
      "got bytes: 192261\n",
      "got bytes: 78576\n",
      "got bytes: 184320\n",
      "got bytes: 234475\n",
      "got bytes: 196022\n",
      "got bytes: 131239\n",
      "got bytes: 272509\n",
      "got bytes: 341472\n",
      "got bytes: 77740\n",
      "got bytes: 140852\n",
      "got bytes: 379506\n",
      "got bytes: 423392\n",
      "got bytes: 211069\n",
      "got bytes: 184737\n",
      "got bytes: 189335\n",
      "got bytes: 328097\n",
      "got bytes: 168437\n",
      "got bytes: 103235\n",
      "got bytes: 178886\n",
      "got bytes: 181812\n",
      "got bytes: 150047\n",
      "got bytes: 257880\n",
      "got bytes: 195186\n",
      "got bytes: 193933\n",
      "got bytes: 123297\n",
      "got bytes: 189335\n",
      "got bytes: 65201\n",
      "got bytes: 268747\n",
      "got bytes: 277942\n",
      "got bytes: 192261\n",
      "got bytes: 136672\n",
      "got bytes: 81502\n",
      "got bytes: 117446\n",
      "got bytes: 73560\n",
      "got bytes: 98638\n",
      "got bytes: 282122\n",
      "got bytes: 178886\n",
      "got bytes: 149211\n",
      "got bytes: 172199\n",
      "got bytes: 144195\n",
      "got bytes: 166347\n",
      "got bytes: 187245\n",
      "got bytes: 127059\n",
      "got bytes: 88189\n",
      "got bytes: 129149\n",
      "got bytes: 157988\n",
      "got bytes: 199784\n",
      "got bytes: 187663\n",
      "got bytes: 117864\n",
      "got bytes: 227787\n",
      "got bytes: 203546\n",
      "got bytes: 133746\n",
      "got bytes: 98638\n",
      "got bytes: 189335\n",
      "got bytes: 178886\n",
      "got bytes: 307617\n",
      "got bytes: 178050\n",
      "got bytes: 191007\n",
      "got bytes: 197694\n",
      "got bytes: 77740\n",
      "got bytes: 155062\n",
      "got bytes: 203546\n",
      "got bytes: 412107\n",
      "got bytes: 271673\n",
      "got bytes: 200620\n",
      "got bytes: 371983\n",
      "got bytes: 1412284\n",
      "Editing movie together...\n",
      "Number of images in segment 0: 1\n",
      "Audio duration: 19.54\n",
      "Number of images in segment 1: 3\n",
      "Audio duration: 9.33\n",
      "Number of images in segment 2: 2\n",
      "Audio duration: 14.86\n",
      "Number of images in segment 3: 2\n",
      "Audio duration: 7.13\n",
      "Number of images in segment 4: 2\n",
      "Audio duration: 15.91\n",
      "Number of images in segment 5: 3\n",
      "Audio duration: 6.95\n",
      "Number of images in segment 6: 1\n",
      "Audio duration: 10.11\n",
      "Number of images in segment 7: 2\n",
      "Audio duration: 16.3\n",
      "Number of images in segment 8: 2\n",
      "Audio duration: 14.05\n",
      "Number of images in segment 9: 2\n",
      "Audio duration: 13.98\n",
      "Number of images in segment 10: 2\n",
      "Audio duration: 19.41\n",
      "Number of images in segment 11: 3\n",
      "Audio duration: 18.7\n",
      "Number of images in segment 12: 2\n",
      "Audio duration: 11.47\n",
      "Number of images in segment 13: 1\n",
      "Audio duration: 16.14\n",
      "Number of images in segment 14: 1\n",
      "Audio duration: 10.53\n",
      "Number of images in segment 15: 2\n",
      "Audio duration: 11.36\n",
      "Number of images in segment 16: 1\n",
      "Audio duration: 8.78\n",
      "Number of images in segment 17: 2\n",
      "Audio duration: 12.49\n",
      "Number of images in segment 18: 1\n",
      "Audio duration: 5.09\n",
      "Number of images in segment 19: 1\n",
      "Audio duration: 6.4\n",
      "Number of images in segment 20: 1\n",
      "Audio duration: 5.33\n",
      "Number of images in segment 21: 1\n",
      "Audio duration: 11.65\n",
      "Number of images in segment 22: 1\n",
      "Audio duration: 8.59\n",
      "Number of images in segment 23: 2\n",
      "Audio duration: 18.94\n",
      "Number of images in segment 24: 2\n",
      "Audio duration: 11.7\n",
      "Number of images in segment 25: 3\n",
      "Audio duration: 7.97\n",
      "Number of images in segment 26: 1\n",
      "Audio duration: 17.63\n",
      "Number of images in segment 27: 1\n",
      "Audio duration: 12.85\n",
      "Number of images in segment 28: 2\n",
      "Audio duration: 5.38\n",
      "Number of images in segment 29: 1\n",
      "Audio duration: 8.62\n",
      "Number of images in segment 30: 2\n",
      "Audio duration: 8.31\n",
      "Number of images in segment 31: 2\n",
      "Audio duration: 10.53\n",
      "Number of images in segment 32: 3\n",
      "Audio duration: 8.8\n",
      "Number of images in segment 33: 2\n",
      "Audio duration: 9.2\n",
      "Number of images in segment 34: 2\n",
      "Audio duration: 12.02\n",
      "Number of images in segment 35: 3\n",
      "Audio duration: 14.65\n",
      "Number of images in segment 36: 3\n",
      "Audio duration: 4.91\n",
      "Number of images in segment 37: 2\n",
      "Audio duration: 11.52\n",
      "Number of images in segment 38: 1\n",
      "Audio duration: 12.25\n",
      "Number of images in segment 39: 1\n",
      "Audio duration: 21.34\n",
      "Number of images in segment 40: 1\n",
      "Audio duration: 17.03\n",
      "Number of images in segment 41: 1\n",
      "Audio duration: 23.72\n",
      "Number of images in segment 42: 3\n",
      "Audio duration: 26.46\n",
      "Number of images in segment 43: 4\n",
      "Audio duration: 8.2\n",
      "Number of images in segment 44: 1\n",
      "Audio duration: 8.8\n",
      "Number of images in segment 45: 2\n",
      "Audio duration: 4.86\n",
      "Number of images in segment 46: 2\n",
      "Audio duration: 20.51\n",
      "Number of images in segment 47: 3\n",
      "Audio duration: 13.19\n",
      "Number of images in segment 48: 1\n",
      "Audio duration: 11.55\n",
      "Number of images in segment 49: 1\n",
      "Audio duration: 11.83\n",
      "Number of images in segment 50: 1\n",
      "Audio duration: 10.53\n",
      "Number of images in segment 51: 1\n",
      "Audio duration: 6.45\n",
      "Number of images in segment 52: 1\n",
      "Audio duration: 11.18\n",
      "Number of images in segment 53: 1\n",
      "Audio duration: 16.12\n",
      "Number of images in segment 54: 1\n",
      "Audio duration: 11.36\n",
      "Number of images in segment 55: 1\n",
      "Audio duration: 9.38\n",
      "Number of images in segment 56: 2\n",
      "Audio duration: 12.2\n",
      "Number of images in segment 57: 3\n",
      "Audio duration: 12.12\n",
      "Number of images in segment 58: 1\n",
      "Audio duration: 7.71\n",
      "Number of images in segment 59: 1\n",
      "Audio duration: 16.8\n",
      "Number of images in segment 60: 2\n",
      "Audio duration: 11.83\n",
      "Number of images in segment 61: 2\n",
      "Audio duration: 17.37\n",
      "Number of images in segment 62: 1\n",
      "Audio duration: 4.08\n",
      "Number of images in segment 63: 1\n",
      "Audio duration: 12.02\n",
      "Number of images in segment 64: 1\n",
      "Audio duration: 17.63\n",
      "Number of images in segment 65: 1\n",
      "Audio duration: 8.54\n",
      "Number of images in segment 66: 1\n",
      "Audio duration: 5.09\n",
      "Number of images in segment 67: 1\n",
      "Audio duration: 7.34\n",
      "Number of images in segment 68: 1\n",
      "Audio duration: 4.6\n",
      "Number of images in segment 69: 1\n",
      "Audio duration: 6.16\n",
      "Number of images in segment 70: 1\n",
      "Audio duration: 11.18\n",
      "Number of images in segment 71: 1\n",
      "Audio duration: 9.33\n",
      "Number of images in segment 72: 2\n",
      "Audio duration: 10.76\n",
      "Number of images in segment 73: 1\n",
      "Audio duration: 9.01\n",
      "Number of images in segment 74: 1\n",
      "Audio duration: 10.4\n",
      "Number of images in segment 75: 1\n",
      "Audio duration: 11.7\n",
      "Number of images in segment 76: 1\n",
      "Audio duration: 7.94\n",
      "Number of images in segment 77: 1\n",
      "Audio duration: 5.51\n",
      "Number of images in segment 78: 1\n",
      "Audio duration: 8.07\n",
      "Number of images in segment 79: 1\n",
      "Audio duration: 9.87\n",
      "Number of images in segment 80: 1\n",
      "Audio duration: 12.49\n",
      "Number of images in segment 81: 1\n",
      "Audio duration: 14.24\n",
      "Number of images in segment 82: 1\n",
      "Audio duration: 11.73\n",
      "Number of images in segment 83: 1\n",
      "Audio duration: 12.72\n",
      "Number of images in segment 84: 1\n",
      "Audio duration: 7.37\n",
      "Number of images in segment 85: 1\n",
      "Audio duration: 19.23\n",
      "Number of images in segment 86: 1\n",
      "Audio duration: 11.83\n",
      "Number of images in segment 87: 1\n",
      "Audio duration: 8.36\n",
      "Number of images in segment 88: 1\n",
      "Audio duration: 11.18\n",
      "Number of images in segment 89: 1\n",
      "Audio duration: 6.16\n",
      "Number of images in segment 90: 1\n",
      "Audio duration: 25.76\n",
      "Number of images in segment 91: 2\n",
      "Audio duration: 11.13\n",
      "Number of images in segment 92: 1\n",
      "Audio duration: 11.94\n",
      "Number of images in segment 93: 1\n",
      "Audio duration: 12.36\n",
      "Number of images in segment 94: 1\n",
      "Audio duration: 9.69\n",
      "Number of images in segment 95: 1\n",
      "Audio duration: 12.72\n",
      "Number of images in segment 96: 1\n",
      "Audio duration: 4.86\n",
      "Number of images in segment 97: 1\n",
      "Audio duration: 16.98\n",
      "Number of images in segment 98: 2\n",
      "Audio duration: 23.25\n",
      "Number of images in segment 99: 1\n",
      "Audio duration: 12.54\n",
      "Number of images in segment 100: 0\n",
      "No images found for segment 100. Skipping...\n",
      "Moviepy - Building video vinland-saga/v1/recap.mp4.\n",
      "MoviePy - Writing audio in vinland-saga/v1/temp-audio.m4a\n"
     ]
    },
    {
     "name": "stderr",
     "output_type": "stream",
     "text": [
      "                                                                       \r"
     ]
    },
    {
     "name": "stdout",
     "output_type": "stream",
     "text": [
      "MoviePy - Done.\n",
      "Moviepy - Writing video vinland-saga/v1/recap.mp4\n",
      "\n"
     ]
    },
    {
     "name": "stderr",
     "output_type": "stream",
     "text": [
      "                                                                   "
     ]
    },
    {
     "name": "stdout",
     "output_type": "stream",
     "text": [
      "Moviepy - Done !\n",
      "Moviepy - video ready vinland-saga/v1/recap.mp4\n",
      "Movie created successfully!\n"
     ]
    },
    {
     "name": "stderr",
     "output_type": "stream",
     "text": [
      "\r"
     ]
    },
    {
     "data": {
      "text/plain": [
       "True"
      ]
     },
     "execution_count": 204,
     "metadata": {},
     "output_type": "execute_result"
    }
   ],
   "source": [
    "await make_movie(movie_script, manga, volume_number, narration_client)"
   ]
  },
  {
   "cell_type": "code",
   "execution_count": null,
   "id": "8adcb9d2-bf68-4d18-b475-c52145efdd63",
   "metadata": {},
   "outputs": [],
   "source": []
  },
  {
   "cell_type": "code",
   "execution_count": null,
   "id": "e9ebb25c-7473-4f55-b20b-0eff66908581",
   "metadata": {},
   "outputs": [],
   "source": []
  },
  {
   "cell_type": "code",
   "execution_count": null,
   "id": "d80d4cc7-37a5-44d3-9480-b98dae3c8289",
   "metadata": {},
   "outputs": [],
   "source": []
  },
  {
   "cell_type": "code",
   "execution_count": null,
   "id": "0ac7aac2-9860-4eb8-8d54-8a4c34702fec",
   "metadata": {
    "scrolled": true
   },
   "outputs": [],
   "source": []
  },
  {
   "cell_type": "code",
   "execution_count": null,
   "id": "33283437-1e28-43a8-b067-b7b13c412bf1",
   "metadata": {},
   "outputs": [],
   "source": []
  },
  {
   "cell_type": "code",
   "execution_count": null,
   "id": "5bb6edb8-6850-4418-87aa-b9496e4d140d",
   "metadata": {},
   "outputs": [],
   "source": []
  }
 ],
 "metadata": {
  "kernelspec": {
   "display_name": "Python 3 (ipykernel)",
   "language": "python",
   "name": "python3"
  },
  "language_info": {
   "codemirror_mode": {
    "name": "ipython",
    "version": 3
   },
   "file_extension": ".py",
   "mimetype": "text/x-python",
   "name": "python",
   "nbconvert_exporter": "python",
   "pygments_lexer": "ipython3",
   "version": "3.11.7"
  }
 },
 "nbformat": 4,
 "nbformat_minor": 5
}
